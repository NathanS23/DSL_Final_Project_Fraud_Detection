{
  "nbformat": 4,
  "nbformat_minor": 0,
  "metadata": {
    "colab": {
      "provenance": []
    },
    "kernelspec": {
      "name": "python3",
      "display_name": "Python 3"
    },
    "language_info": {
      "name": "python"
    }
  },
  "cells": [
    {
      "cell_type": "code",
      "execution_count": null,
      "metadata": {
        "id": "sxDPio70c-Qa"
      },
      "outputs": [],
      "source": []
    },
    {
      "cell_type": "markdown",
      "source": [
        "# Satcking Logistic Regression with Catboost"
      ],
      "metadata": {
        "id": "_1wJBcq0Hs_s"
      }
    },
    {
      "cell_type": "code",
      "source": [
        "train_processed, test_processed = preprocess_and_detect_uid(train_df, test_df, train_identity, test_identity)\n",
        "test_processed.columns = test_processed.columns.str.replace('-', '_')\n",
        "train_processed.replace([np.inf, -np.inf], np.nan, inplace=True)\n",
        "test_processed.replace([np.inf, -np.inf], np.nan, inplace=True)"
      ],
      "metadata": {
        "colab": {
          "base_uri": "https://localhost:8080/"
        },
        "id": "KpYSAuQsIL9C",
        "outputId": "679f3704-72ed-47b2-ccab-80de5cc40069"
      },
      "execution_count": null,
      "outputs": [
        {
          "output_type": "stream",
          "name": "stdout",
          "text": [
            "Starting preprocessing...\n",
            "Mem. usage decreased to 542.35 Mb (0.0% reduction)\n",
            "Mem. usage decreased to 472.59 Mb (0.0% reduction)\n",
            "Preprocessing and UID detection complete.\n"
          ]
        }
      ]
    },
    {
      "cell_type": "code",
      "source": [
        "filled_train, filled_test, train_y, cat_features = preprocess_for_catboost(train_processed, test_processed)\n",
        "\n",
        "print(\"Preprocessed Train Shape:\", filled_train.shape)\n",
        "print(\"Preprocessed Test Shape:\", filled_test.shape)\n",
        "print(\"Categorical Features:\", cat_features)\n"
      ],
      "metadata": {
        "colab": {
          "base_uri": "https://localhost:8080/"
        },
        "id": "-XC3axapIKs3",
        "outputId": "12fa3d66-7e58-4fed-b0c4-3dbe3e87611c"
      },
      "execution_count": null,
      "outputs": [
        {
          "output_type": "stream",
          "name": "stdout",
          "text": [
            "Preprocessed Train Shape: (590540, 65)\n",
            "Preprocessed Test Shape: (506691, 65)\n",
            "Categorical Features: [32, 33, 34, 35, 36, 37, 38, 39, 40, 41, 42, 43, 44, 45, 46, 47, 48, 49, 50, 51, 52, 53, 54, 55, 56, 57, 58, 59, 60, 61, 62, 63, 64]\n"
          ]
        }
      ]
    },
    {
      "cell_type": "code",
      "source": [
        "filled_train['stacked_log_reg'] = predicted_proba_train_logistic_Regression_baseline_for_Stacking\n",
        "filled_test['stacked_log_reg'] = predicted_proba_test_logistic_Regression_baseline_for_Stacking"
      ],
      "metadata": {
        "id": "_DwQ7jQ0IZqs"
      },
      "execution_count": null,
      "outputs": []
    },
    {
      "cell_type": "code",
      "source": [
        "filled_train['stacked_log_reg']"
      ],
      "metadata": {
        "colab": {
          "base_uri": "https://localhost:8080/",
          "height": 458
        },
        "id": "52soYQBAJwCJ",
        "outputId": "a8dc1f81-36fb-43fc-9731-865afd081352"
      },
      "execution_count": null,
      "outputs": [
        {
          "output_type": "execute_result",
          "data": {
            "text/plain": [
              "0         0.751780\n",
              "1         0.993111\n",
              "2         0.022570\n",
              "3         0.209198\n",
              "4         0.998900\n",
              "            ...   \n",
              "590535    0.000249\n",
              "590536    0.019864\n",
              "590537    0.003043\n",
              "590538    0.009289\n",
              "590539    0.002690\n",
              "Name: stacked_log_reg, Length: 590540, dtype: float64"
            ],
            "text/html": [
              "<div>\n",
              "<style scoped>\n",
              "    .dataframe tbody tr th:only-of-type {\n",
              "        vertical-align: middle;\n",
              "    }\n",
              "\n",
              "    .dataframe tbody tr th {\n",
              "        vertical-align: top;\n",
              "    }\n",
              "\n",
              "    .dataframe thead th {\n",
              "        text-align: right;\n",
              "    }\n",
              "</style>\n",
              "<table border=\"1\" class=\"dataframe\">\n",
              "  <thead>\n",
              "    <tr style=\"text-align: right;\">\n",
              "      <th></th>\n",
              "      <th>stacked_log_reg</th>\n",
              "    </tr>\n",
              "  </thead>\n",
              "  <tbody>\n",
              "    <tr>\n",
              "      <th>0</th>\n",
              "      <td>0.751780</td>\n",
              "    </tr>\n",
              "    <tr>\n",
              "      <th>1</th>\n",
              "      <td>0.993111</td>\n",
              "    </tr>\n",
              "    <tr>\n",
              "      <th>2</th>\n",
              "      <td>0.022570</td>\n",
              "    </tr>\n",
              "    <tr>\n",
              "      <th>3</th>\n",
              "      <td>0.209198</td>\n",
              "    </tr>\n",
              "    <tr>\n",
              "      <th>4</th>\n",
              "      <td>0.998900</td>\n",
              "    </tr>\n",
              "    <tr>\n",
              "      <th>...</th>\n",
              "      <td>...</td>\n",
              "    </tr>\n",
              "    <tr>\n",
              "      <th>590535</th>\n",
              "      <td>0.000249</td>\n",
              "    </tr>\n",
              "    <tr>\n",
              "      <th>590536</th>\n",
              "      <td>0.019864</td>\n",
              "    </tr>\n",
              "    <tr>\n",
              "      <th>590537</th>\n",
              "      <td>0.003043</td>\n",
              "    </tr>\n",
              "    <tr>\n",
              "      <th>590538</th>\n",
              "      <td>0.009289</td>\n",
              "    </tr>\n",
              "    <tr>\n",
              "      <th>590539</th>\n",
              "      <td>0.002690</td>\n",
              "    </tr>\n",
              "  </tbody>\n",
              "</table>\n",
              "<p>590540 rows × 1 columns</p>\n",
              "</div><br><label><b>dtype:</b> float64</label>"
            ]
          },
          "metadata": {},
          "execution_count": 36
        }
      ]
    },
    {
      "cell_type": "code",
      "source": [
        "import optuna\n",
        "import pandas as pd\n",
        "import numpy as np\n",
        "from catboost import CatBoostClassifier, Pool\n",
        "from sklearn.model_selection import StratifiedKFold\n",
        "from sklearn.metrics import roc_auc_score\n",
        "\n",
        "# Target variable\n",
        "y_train = train_processed['isFraud']\n",
        "\n",
        "# Define the objective function for Optuna\n",
        "def objective(trial):\n",
        "    # Suggest hyperparameters for CatBoost\n",
        "    params = {\n",
        "        \"iterations\": trial.suggest_int(\"iterations\", 100, 1000),\n",
        "        \"depth\": trial.suggest_int(\"depth\", 3, 10),\n",
        "        \"learning_rate\": trial.suggest_float(\"learning_rate\", 1e-3, 0.5, log=True),\n",
        "        \"l2_leaf_reg\": trial.suggest_float(\"l2_leaf_reg\", 1e-3, 10.0, log=True),\n",
        "        \"bagging_temperature\": trial.suggest_float(\"bagging_temperature\", 0.0, 1.0),\n",
        "        \"random_strength\": trial.suggest_float(\"random_strength\", 0.0, 10.0),\n",
        "        \"border_count\": trial.suggest_int(\"border_count\", 32, 255),\n",
        "        \"loss_function\": \"Logloss\",\n",
        "        \"eval_metric\": \"Logloss\",\n",
        "        \"task_type\": \"GPU\",\n",
        "        \"verbose\": False,\n",
        "        \"random_state\": 42,\n",
        "    }\n",
        "\n",
        "    # Cross-validation setup\n",
        "    cv = StratifiedKFold(n_splits=5, shuffle=True, random_state=42)\n",
        "    auc_scores = []\n",
        "\n",
        "    for train_idx, val_idx in cv.split(filled_train, y_train):\n",
        "        X_train, X_val = filled_train.iloc[train_idx], filled_train.iloc[val_idx]\n",
        "        y_train_fold, y_val_fold = y_train.iloc[train_idx], y_train.iloc[val_idx]\n",
        "\n",
        "        # Create CatBoost Pool\n",
        "        train_pool = Pool(X_train, y_train_fold, cat_features=cat_features)\n",
        "        val_pool = Pool(X_val, y_val_fold, cat_features=cat_features)\n",
        "\n",
        "        # Train CatBoost model\n",
        "        model = CatBoostClassifier(**params)\n",
        "        model.fit(train_pool, eval_set=val_pool, early_stopping_rounds=50, verbose=False)\n",
        "\n",
        "        # Predict probabilities for validation set\n",
        "        y_val_pred_proba = model.predict_proba(X_val)[:, 1]  # Probabilities for class 1\n",
        "\n",
        "        # Calculate AUC\n",
        "        auc = roc_auc_score(y_val_fold, y_val_pred_proba)\n",
        "        auc_scores.append(auc)\n",
        "        print(np.mean(auc_scores))\n",
        "\n",
        "    # Return the mean AUC (maximize this)\n",
        "    return np.mean(auc_scores)\n",
        "\n",
        "# Run Optuna optimization\n",
        "study = optuna.create_study(direction=\"maximize\", study_name=\"CatBoost AUC Tuning\")\n",
        "study.optimize(objective, n_trials=50)\n",
        "\n",
        "# Print best parameters\n",
        "print(\"Best parameters:\", study.best_trial.params)\n",
        "\n"
      ],
      "metadata": {
        "colab": {
          "base_uri": "https://localhost:8080/"
        },
        "id": "HsmvPo4SKGZV",
        "outputId": "611b53ce-a18a-4605-b36c-e6e3be3a65ff"
      },
      "execution_count": null,
      "outputs": [
        {
          "output_type": "stream",
          "name": "stderr",
          "text": [
            "[I 2024-12-08 16:48:59,080] A new study created in memory with name: CatBoost AUC Tuning\n"
          ]
        },
        {
          "output_type": "stream",
          "name": "stdout",
          "text": [
            "0.9589560358013585\n",
            "0.9609716040234281\n",
            "0.960934019884608\n",
            "0.9603944105305997\n"
          ]
        },
        {
          "output_type": "stream",
          "name": "stderr",
          "text": [
            "[I 2024-12-08 16:51:50,362] Trial 0 finished with value: 0.9607153943222896 and parameters: {'iterations': 557, 'depth': 6, 'learning_rate': 0.45326398619337, 'l2_leaf_reg': 0.011476656803977863, 'bagging_temperature': 0.2240223010411081, 'random_strength': 5.536505896148168, 'border_count': 169}. Best is trial 0 with value: 0.9607153943222896.\n"
          ]
        },
        {
          "output_type": "stream",
          "name": "stdout",
          "text": [
            "0.9607153943222896\n",
            "0.9351211470888625\n",
            "0.9362380964563046\n",
            "0.936397239262857\n",
            "0.9368187776196131\n"
          ]
        },
        {
          "output_type": "stream",
          "name": "stderr",
          "text": [
            "[I 2024-12-08 16:53:00,744] Trial 1 finished with value: 0.9368149481176452 and parameters: {'iterations': 246, 'depth': 3, 'learning_rate': 0.10021798811709581, 'l2_leaf_reg': 0.03275453222778487, 'bagging_temperature': 0.45006997858307973, 'random_strength': 0.23060323305153618, 'border_count': 78}. Best is trial 0 with value: 0.9607153943222896.\n"
          ]
        },
        {
          "output_type": "stream",
          "name": "stdout",
          "text": [
            "0.9368149481176452\n",
            "0.9232052920772505\n",
            "0.9248984123183897\n",
            "0.9248846627104422\n",
            "0.9243448131661138\n"
          ]
        },
        {
          "output_type": "stream",
          "name": "stderr",
          "text": [
            "[I 2024-12-08 16:56:36,097] Trial 2 finished with value: 0.9246500286753486 and parameters: {'iterations': 819, 'depth': 5, 'learning_rate': 0.011074769878687456, 'l2_leaf_reg': 0.007856346140730587, 'bagging_temperature': 0.1971282954921686, 'random_strength': 7.005262862977317, 'border_count': 63}. Best is trial 0 with value: 0.9607153943222896.\n"
          ]
        },
        {
          "output_type": "stream",
          "name": "stdout",
          "text": [
            "0.9246500286753486\n",
            "0.9251152522234092\n",
            "0.9274986576461028\n",
            "0.9284331599597464\n",
            "0.928108175149361\n"
          ]
        },
        {
          "output_type": "stream",
          "name": "stderr",
          "text": [
            "[I 2024-12-08 16:59:28,034] Trial 3 finished with value: 0.9282543077972626 and parameters: {'iterations': 531, 'depth': 6, 'learning_rate': 0.013743783505078619, 'l2_leaf_reg': 2.406158886967847, 'bagging_temperature': 0.4497631024516763, 'random_strength': 1.128842105704374, 'border_count': 187}. Best is trial 0 with value: 0.9607153943222896.\n"
          ]
        },
        {
          "output_type": "stream",
          "name": "stdout",
          "text": [
            "0.9282543077972626\n",
            "0.8400198559150478\n",
            "0.8409985646805893\n",
            "0.8412165311187475\n",
            "0.8400385454161737\n"
          ]
        },
        {
          "output_type": "stream",
          "name": "stderr",
          "text": [
            "[I 2024-12-08 17:01:59,666] Trial 4 finished with value: 0.8393083063848386 and parameters: {'iterations': 942, 'depth': 3, 'learning_rate': 0.0013470601532050242, 'l2_leaf_reg': 8.970868022466693, 'bagging_temperature': 0.12303945242142, 'random_strength': 6.773371381715878, 'border_count': 151}. Best is trial 0 with value: 0.9607153943222896.\n"
          ]
        },
        {
          "output_type": "stream",
          "name": "stdout",
          "text": [
            "0.8393083063848386\n",
            "0.8840595648828363\n",
            "0.8853338460981681\n",
            "0.8857519967842039\n",
            "0.8857968696528696\n"
          ]
        },
        {
          "output_type": "stream",
          "name": "stderr",
          "text": [
            "[I 2024-12-08 17:05:09,366] Trial 5 finished with value: 0.8851511105071206 and parameters: {'iterations': 632, 'depth': 6, 'learning_rate': 0.0033595620328419375, 'l2_leaf_reg': 0.4024775430218668, 'bagging_temperature': 0.37807872532860376, 'random_strength': 7.3410929343302245, 'border_count': 219}. Best is trial 0 with value: 0.9607153943222896.\n"
          ]
        },
        {
          "output_type": "stream",
          "name": "stdout",
          "text": [
            "0.8851511105071206\n",
            "0.7951942717632645\n",
            "0.7966324885162896\n",
            "0.7953189989229207\n",
            "0.7939969768653938\n"
          ]
        },
        {
          "output_type": "stream",
          "name": "stderr",
          "text": [
            "[I 2024-12-08 17:06:31,868] Trial 6 finished with value: 0.7939494019528979 and parameters: {'iterations': 194, 'depth': 10, 'learning_rate': 0.0021691837265927975, 'l2_leaf_reg': 4.028040389185629, 'bagging_temperature': 0.5155271583818841, 'random_strength': 8.345421088979464, 'border_count': 91}. Best is trial 0 with value: 0.9607153943222896.\n"
          ]
        },
        {
          "output_type": "stream",
          "name": "stdout",
          "text": [
            "0.7939494019528979\n",
            "0.9533090136212505\n",
            "0.9556281402986897\n",
            "0.9562606814134352\n",
            "0.9573568128872851\n"
          ]
        },
        {
          "output_type": "stream",
          "name": "stderr",
          "text": [
            "[I 2024-12-08 17:08:19,015] Trial 7 finished with value: 0.9557609168851968 and parameters: {'iterations': 260, 'depth': 6, 'learning_rate': 0.22487206594873302, 'l2_leaf_reg': 0.050230426232164255, 'bagging_temperature': 0.479635907888903, 'random_strength': 7.590868289458409, 'border_count': 203}. Best is trial 0 with value: 0.9607153943222896.\n"
          ]
        },
        {
          "output_type": "stream",
          "name": "stdout",
          "text": [
            "0.9557609168851968\n",
            "0.9423625048931006\n",
            "0.9408393712716544\n",
            "0.9418028321971548\n",
            "0.9424495235323482\n"
          ]
        },
        {
          "output_type": "stream",
          "name": "stderr",
          "text": [
            "[I 2024-12-08 17:09:49,331] Trial 8 finished with value: 0.9428026076531196 and parameters: {'iterations': 419, 'depth': 3, 'learning_rate': 0.15549053173319347, 'l2_leaf_reg': 0.08010279019685321, 'bagging_temperature': 0.9367390654666601, 'random_strength': 4.98816417995036, 'border_count': 90}. Best is trial 0 with value: 0.9607153943222896.\n"
          ]
        },
        {
          "output_type": "stream",
          "name": "stdout",
          "text": [
            "0.9428026076531196\n",
            "0.916897952939397\n",
            "0.9180445801594004\n",
            "0.9185172894803652\n",
            "0.9187956065354475\n"
          ]
        },
        {
          "output_type": "stream",
          "name": "stderr",
          "text": [
            "[I 2024-12-08 17:11:54,476] Trial 9 finished with value: 0.9178141704073859 and parameters: {'iterations': 484, 'depth': 4, 'learning_rate': 0.017538746417508595, 'l2_leaf_reg': 0.19775587554425011, 'bagging_temperature': 0.6225774523253825, 'random_strength': 5.977274871728312, 'border_count': 210}. Best is trial 0 with value: 0.9607153943222896.\n"
          ]
        },
        {
          "output_type": "stream",
          "name": "stdout",
          "text": [
            "0.9178141704073859\n",
            "0.948202958915078\n",
            "0.9520872120986595\n",
            "0.9535071603916272\n",
            "0.9547168013259055\n"
          ]
        },
        {
          "output_type": "stream",
          "name": "stderr",
          "text": [
            "[I 2024-12-08 17:13:57,272] Trial 10 finished with value: 0.9550468587512064 and parameters: {'iterations': 711, 'depth': 8, 'learning_rate': 0.47608760908172953, 'l2_leaf_reg': 0.0011227384379080036, 'bagging_temperature': 0.014166907026949671, 'random_strength': 2.684386865016411, 'border_count': 252}. Best is trial 0 with value: 0.9607153943222896.\n"
          ]
        },
        {
          "output_type": "stream",
          "name": "stdout",
          "text": [
            "0.9550468587512064\n",
            "0.9509633745094415\n",
            "0.9563638285018616\n",
            "0.9572941291896232\n",
            "0.957894348163755\n"
          ]
        },
        {
          "output_type": "stream",
          "name": "stderr",
          "text": [
            "[I 2024-12-08 17:16:44,915] Trial 11 finished with value: 0.9583442390670454 and parameters: {'iterations': 354, 'depth': 8, 'learning_rate': 0.4053044508341824, 'l2_leaf_reg': 0.009855163875325148, 'bagging_temperature': 0.7438710256082182, 'random_strength': 9.336458841544943, 'border_count': 142}. Best is trial 0 with value: 0.9607153943222896.\n"
          ]
        },
        {
          "output_type": "stream",
          "name": "stdout",
          "text": [
            "0.9583442390670454\n",
            "0.9464144376516895\n",
            "0.9478787379177533\n",
            "0.9475571690995949\n",
            "0.9486069276234104\n"
          ]
        },
        {
          "output_type": "stream",
          "name": "stderr",
          "text": [
            "[I 2024-12-08 17:19:36,846] Trial 12 finished with value: 0.9492486048318369 and parameters: {'iterations': 376, 'depth': 8, 'learning_rate': 0.0547421155848247, 'l2_leaf_reg': 0.007499195228695075, 'bagging_temperature': 0.8090326966259089, 'random_strength': 9.68970695212713, 'border_count': 137}. Best is trial 0 with value: 0.9607153943222896.\n"
          ]
        },
        {
          "output_type": "stream",
          "name": "stdout",
          "text": [
            "0.9492486048318369\n",
            "0.954177673807247\n",
            "0.9572403605621427\n",
            "0.9578095310567205\n",
            "0.959100622552939\n"
          ]
        },
        {
          "output_type": "stream",
          "name": "stderr",
          "text": [
            "[I 2024-12-08 17:22:06,942] Trial 13 finished with value: 0.9572082113999281 and parameters: {'iterations': 348, 'depth': 8, 'learning_rate': 0.3510401514951259, 'l2_leaf_reg': 0.004970117258893852, 'bagging_temperature': 0.7039998964767211, 'random_strength': 4.052675727539883, 'border_count': 142}. Best is trial 0 with value: 0.9607153943222896.\n"
          ]
        },
        {
          "output_type": "stream",
          "name": "stdout",
          "text": [
            "0.9572082113999281\n",
            "0.9605628292544528\n",
            "0.9613570530099541\n",
            "0.9619997460582077\n",
            "0.9629926999993936\n"
          ]
        },
        {
          "output_type": "stream",
          "name": "stderr",
          "text": [
            "[I 2024-12-08 17:28:59,126] Trial 14 finished with value: 0.9631851406560117 and parameters: {'iterations': 632, 'depth': 10, 'learning_rate': 0.05429520798747817, 'l2_leaf_reg': 0.0014656139685710419, 'bagging_temperature': 0.2723350262445067, 'random_strength': 9.426751987733903, 'border_count': 165}. Best is trial 14 with value: 0.9631851406560117.\n"
          ]
        },
        {
          "output_type": "stream",
          "name": "stdout",
          "text": [
            "0.9631851406560117\n",
            "0.9641912627145023\n",
            "0.9647598409374546\n",
            "0.9652479217728139\n",
            "0.965369902289994\n"
          ]
        },
        {
          "output_type": "stream",
          "name": "stderr",
          "text": [
            "[I 2024-12-08 17:36:07,746] Trial 15 finished with value: 0.9654900794387944 and parameters: {'iterations': 681, 'depth': 10, 'learning_rate': 0.09537110666645382, 'l2_leaf_reg': 0.0015253830003535153, 'bagging_temperature': 0.2768519593024324, 'random_strength': 3.4921816840353954, 'border_count': 181}. Best is trial 15 with value: 0.9654900794387944.\n"
          ]
        },
        {
          "output_type": "stream",
          "name": "stdout",
          "text": [
            "0.9654900794387944\n",
            "0.9601459867300404\n",
            "0.9611684035347603\n",
            "0.9620226144452876\n",
            "0.9626267742770575\n"
          ]
        },
        {
          "output_type": "stream",
          "name": "stderr",
          "text": [
            "[I 2024-12-08 17:44:19,705] Trial 16 finished with value: 0.9629648148362406 and parameters: {'iterations': 754, 'depth': 10, 'learning_rate': 0.040825436209500174, 'l2_leaf_reg': 0.0013281223670987272, 'bagging_temperature': 0.3125887034310189, 'random_strength': 3.03895670479022, 'border_count': 243}. Best is trial 15 with value: 0.9654900794387944.\n"
          ]
        },
        {
          "output_type": "stream",
          "name": "stdout",
          "text": [
            "0.9629648148362406\n",
            "0.9634562338186242\n",
            "0.96474633840901\n",
            "0.9649892735507594\n",
            "0.9652678956417158\n"
          ]
        },
        {
          "output_type": "stream",
          "name": "stderr",
          "text": [
            "[I 2024-12-08 17:51:51,676] Trial 17 finished with value: 0.9657562588202413 and parameters: {'iterations': 878, 'depth': 9, 'learning_rate': 0.06359196495368959, 'l2_leaf_reg': 0.0029006968059049503, 'bagging_temperature': 0.016661862679708983, 'random_strength': 2.345499793318164, 'border_count': 115}. Best is trial 17 with value: 0.9657562588202413.\n"
          ]
        },
        {
          "output_type": "stream",
          "name": "stdout",
          "text": [
            "0.9657562588202413\n",
            "0.9247225577576121\n",
            "0.9260873477439688\n",
            "0.9270360006461873\n",
            "0.927381558372254\n"
          ]
        },
        {
          "output_type": "stream",
          "name": "stderr",
          "text": [
            "[I 2024-12-08 17:59:17,548] Trial 18 finished with value: 0.9277057578549324 and parameters: {'iterations': 950, 'depth': 9, 'learning_rate': 0.005349627375283845, 'l2_leaf_reg': 0.003526717014914897, 'bagging_temperature': 0.03756900453274524, 'random_strength': 2.0789028145949553, 'border_count': 118}. Best is trial 17 with value: 0.9657562588202413.\n"
          ]
        },
        {
          "output_type": "stream",
          "name": "stdout",
          "text": [
            "0.9277057578549324\n",
            "0.966465993910778\n",
            "0.9670484653627934\n",
            "0.9670134861714496\n",
            "0.9674064263380574\n"
          ]
        },
        {
          "output_type": "stream",
          "name": "stderr",
          "text": [
            "[I 2024-12-08 18:06:26,806] Trial 19 finished with value: 0.9676572286920144 and parameters: {'iterations': 836, 'depth': 9, 'learning_rate': 0.09715448909982823, 'l2_leaf_reg': 0.023104380057350743, 'bagging_temperature': 0.1206129266989493, 'random_strength': 3.4127914471868745, 'border_count': 116}. Best is trial 19 with value: 0.9676572286920144.\n"
          ]
        },
        {
          "output_type": "stream",
          "name": "stdout",
          "text": [
            "0.9676572286920144\n",
            "0.958277373963208\n",
            "0.9599613026537881\n",
            "0.9603224262587776\n",
            "0.9609442751790607\n"
          ]
        },
        {
          "output_type": "stream",
          "name": "stderr",
          "text": [
            "[I 2024-12-08 18:13:26,445] Trial 20 finished with value: 0.9614162352741873 and parameters: {'iterations': 850, 'depth': 9, 'learning_rate': 0.034557694570186856, 'l2_leaf_reg': 0.02191982562443513, 'bagging_temperature': 0.12818271258391242, 'random_strength': 4.40163587244976, 'border_count': 36}. Best is trial 19 with value: 0.9676572286920144.\n"
          ]
        },
        {
          "output_type": "stream",
          "name": "stdout",
          "text": [
            "0.9614162352741873\n",
            "0.9650016458688234\n",
            "0.965994616268631\n",
            "0.9662392241569974\n",
            "0.9668844045772375\n"
          ]
        },
        {
          "output_type": "stream",
          "name": "stderr",
          "text": [
            "[I 2024-12-08 18:20:39,975] Trial 21 finished with value: 0.9670010562880599 and parameters: {'iterations': 858, 'depth': 9, 'learning_rate': 0.10324502910932085, 'l2_leaf_reg': 0.002959069485749281, 'bagging_temperature': 0.12371133060122114, 'random_strength': 3.2709349425401055, 'border_count': 110}. Best is trial 19 with value: 0.9676572286920144.\n"
          ]
        },
        {
          "output_type": "stream",
          "name": "stdout",
          "text": [
            "0.9670010562880599\n",
            "0.964158101999497\n",
            "0.9649335700019317\n",
            "0.9656844566806596\n",
            "0.9664312104517867\n"
          ]
        },
        {
          "output_type": "stream",
          "name": "stderr",
          "text": [
            "[I 2024-12-08 18:28:04,928] Trial 22 finished with value: 0.9669047824652669 and parameters: {'iterations': 868, 'depth': 9, 'learning_rate': 0.10847727105658277, 'l2_leaf_reg': 0.0030965380159980863, 'bagging_temperature': 0.12478028957403095, 'random_strength': 1.942694663767941, 'border_count': 118}. Best is trial 19 with value: 0.9676572286920144.\n"
          ]
        },
        {
          "output_type": "stream",
          "name": "stdout",
          "text": [
            "0.9669047824652669\n",
            "0.9628669511171014\n",
            "0.9648310047194257\n",
            "0.9650585180031644\n",
            "0.9658624551198971\n"
          ]
        },
        {
          "output_type": "stream",
          "name": "stderr",
          "text": [
            "[I 2024-12-08 18:36:05,450] Trial 23 finished with value: 0.9662772192292618 and parameters: {'iterations': 985, 'depth': 9, 'learning_rate': 0.1529664844633978, 'l2_leaf_reg': 0.018783234903305645, 'bagging_temperature': 0.131762779946309, 'random_strength': 1.4389077513400073, 'border_count': 113}. Best is trial 19 with value: 0.9676572286920144.\n"
          ]
        },
        {
          "output_type": "stream",
          "name": "stdout",
          "text": [
            "0.9662772192292618\n",
            "0.9516659816240929\n",
            "0.9527614047676415\n",
            "0.9531564674273098\n",
            "0.9538413172955406\n"
          ]
        },
        {
          "output_type": "stream",
          "name": "stderr",
          "text": [
            "[I 2024-12-08 18:40:47,661] Trial 24 finished with value: 0.9539296557236602 and parameters: {'iterations': 793, 'depth': 7, 'learning_rate': 0.027737784187345516, 'l2_leaf_reg': 0.003242451805081241, 'bagging_temperature': 0.10136087604827448, 'random_strength': 3.7359744885271806, 'border_count': 102}. Best is trial 19 with value: 0.9676572286920144.\n"
          ]
        },
        {
          "output_type": "stream",
          "name": "stdout",
          "text": [
            "0.9539296557236602\n",
            "0.9652157137104865\n",
            "0.9670009692263128\n",
            "0.9669539034069908\n",
            "0.967373151325005\n"
          ]
        },
        {
          "output_type": "stream",
          "name": "stderr",
          "text": [
            "[I 2024-12-08 18:46:07,883] Trial 25 finished with value: 0.9676341645018747 and parameters: {'iterations': 894, 'depth': 7, 'learning_rate': 0.21165095489636612, 'l2_leaf_reg': 0.17437264112415893, 'bagging_temperature': 0.3491785350882037, 'random_strength': 0.2897003949569701, 'border_count': 65}. Best is trial 19 with value: 0.9676572286920144.\n"
          ]
        },
        {
          "output_type": "stream",
          "name": "stdout",
          "text": [
            "0.9676341645018747\n",
            "0.9662596838121046\n",
            "0.9670717582329623\n",
            "0.9671994846687829\n",
            "0.9671235813278882\n"
          ]
        },
        {
          "output_type": "stream",
          "name": "stderr",
          "text": [
            "[I 2024-12-08 18:51:23,025] Trial 26 finished with value: 0.9675956315320079 and parameters: {'iterations': 884, 'depth': 7, 'learning_rate': 0.26396446404401397, 'l2_leaf_reg': 0.5398385891326517, 'bagging_temperature': 0.3479964412671651, 'random_strength': 0.10488155867429533, 'border_count': 53}. Best is trial 19 with value: 0.9676572286920144.\n"
          ]
        },
        {
          "output_type": "stream",
          "name": "stdout",
          "text": [
            "0.9675956315320079\n",
            "0.966430170486122\n",
            "0.9667933766103916\n",
            "0.9669833334950146\n",
            "0.967353614424856\n"
          ]
        },
        {
          "output_type": "stream",
          "name": "stderr",
          "text": [
            "[I 2024-12-08 18:56:48,001] Trial 27 finished with value: 0.9676497353412434 and parameters: {'iterations': 914, 'depth': 7, 'learning_rate': 0.14985488280644285, 'l2_leaf_reg': 0.5809187825660769, 'bagging_temperature': 0.34443250076214577, 'random_strength': 0.5401654037942478, 'border_count': 34}. Best is trial 19 with value: 0.9676572286920144.\n"
          ]
        },
        {
          "output_type": "stream",
          "name": "stdout",
          "text": [
            "0.9676497353412434\n",
            "0.9644396081653304\n",
            "0.9658698304192843\n",
            "0.9663560175241196\n",
            "0.9667345201633138\n"
          ]
        },
        {
          "output_type": "stream",
          "name": "stderr",
          "text": [
            "[I 2024-12-08 19:02:39,459] Trial 28 finished with value: 0.9670671926717264 and parameters: {'iterations': 988, 'depth': 7, 'learning_rate': 0.21394258508034997, 'l2_leaf_reg': 0.7776902617279754, 'bagging_temperature': 0.5667661569372334, 'random_strength': 1.038674759432599, 'border_count': 34}. Best is trial 19 with value: 0.9676572286920144.\n"
          ]
        },
        {
          "output_type": "stream",
          "name": "stdout",
          "text": [
            "0.9670671926717264\n",
            "0.9596326135489811\n",
            "0.9607346175560747\n",
            "0.9612905019706887\n",
            "0.9619226460722714\n"
          ]
        },
        {
          "output_type": "stream",
          "name": "stderr",
          "text": [
            "[I 2024-12-08 19:06:06,384] Trial 29 finished with value: 0.9624608874659584 and parameters: {'iterations': 748, 'depth': 5, 'learning_rate': 0.14670515865932426, 'l2_leaf_reg': 0.17780439098919631, 'bagging_temperature': 0.2098879118954324, 'random_strength': 0.585750295488522, 'border_count': 54}. Best is trial 19 with value: 0.9676572286920144.\n"
          ]
        },
        {
          "output_type": "stream",
          "name": "stdout",
          "text": [
            "0.9624608874659584\n",
            "0.9558803821388392\n",
            "0.9560960871010293\n",
            "0.9565743923691254\n",
            "0.9573864139244389\n"
          ]
        },
        {
          "output_type": "stream",
          "name": "stderr",
          "text": [
            "[I 2024-12-08 19:10:08,910] Trial 30 finished with value: 0.9580235780287841 and parameters: {'iterations': 918, 'depth': 5, 'learning_rate': 0.07188572347240821, 'l2_leaf_reg': 1.1218788250941272, 'bagging_temperature': 0.3951852962886201, 'random_strength': 1.6292619771044619, 'border_count': 75}. Best is trial 19 with value: 0.9676572286920144.\n"
          ]
        },
        {
          "output_type": "stream",
          "name": "stdout",
          "text": [
            "0.9580235780287841\n",
            "0.965401708438678\n",
            "0.966235594677088\n",
            "0.9665328588014025\n",
            "0.9669157055821402\n"
          ]
        },
        {
          "output_type": "stream",
          "name": "stderr",
          "text": [
            "[I 2024-12-08 19:15:34,559] Trial 31 finished with value: 0.9672622714921246 and parameters: {'iterations': 912, 'depth': 7, 'learning_rate': 0.2860218378374551, 'l2_leaf_reg': 0.36675357722812907, 'bagging_temperature': 0.3569698032420829, 'random_strength': 0.8225511432977115, 'border_count': 50}. Best is trial 19 with value: 0.9676572286920144.\n"
          ]
        },
        {
          "output_type": "stream",
          "name": "stdout",
          "text": [
            "0.9672622714921246\n",
            "0.964020142213666\n",
            "0.964896300029469\n",
            "0.9652694845347155\n",
            "0.9655910143298858\n"
          ]
        },
        {
          "output_type": "stream",
          "name": "stderr",
          "text": [
            "[I 2024-12-08 19:20:25,323] Trial 32 finished with value: 0.9659182566624288 and parameters: {'iterations': 798, 'depth': 7, 'learning_rate': 0.24123273471724313, 'l2_leaf_reg': 0.1083764986112296, 'bagging_temperature': 0.30965478086324416, 'random_strength': 0.09632389972573757, 'border_count': 68}. Best is trial 19 with value: 0.9676572286920144.\n"
          ]
        },
        {
          "output_type": "stream",
          "name": "stdout",
          "text": [
            "0.9659182566624288\n",
            "0.9630777171138626\n",
            "0.9642918044226086\n",
            "0.9651497656913238\n",
            "0.9655135885722443\n"
          ]
        },
        {
          "output_type": "stream",
          "name": "stderr",
          "text": [
            "[I 2024-12-08 19:24:39,144] Trial 33 finished with value: 0.966026651949185 and parameters: {'iterations': 815, 'depth': 6, 'learning_rate': 0.17485868898639167, 'l2_leaf_reg': 0.8245455919052341, 'bagging_temperature': 0.21993224483960344, 'random_strength': 0.05266536214208162, 'border_count': 49}. Best is trial 19 with value: 0.9676572286920144.\n"
          ]
        },
        {
          "output_type": "stream",
          "name": "stdout",
          "text": [
            "0.966026651949185\n",
            "0.9662281740195505\n",
            "0.9675171473830091\n",
            "0.9670683536907866\n",
            "0.9675256479312475\n"
          ]
        },
        {
          "output_type": "stream",
          "name": "stderr",
          "text": [
            "[I 2024-12-08 19:30:22,647] Trial 34 finished with value: 0.9674853730151727 and parameters: {'iterations': 989, 'depth': 7, 'learning_rate': 0.3051234507911496, 'l2_leaf_reg': 0.35944271204059935, 'bagging_temperature': 0.39381593852670677, 'random_strength': 0.5806630029710743, 'border_count': 85}. Best is trial 19 with value: 0.9676572286920144.\n"
          ]
        },
        {
          "output_type": "stream",
          "name": "stdout",
          "text": [
            "0.9674853730151727\n",
            "0.9265832832557062\n",
            "0.9283570714960389\n",
            "0.9293299824780205\n",
            "0.9292809523949478\n"
          ]
        },
        {
          "output_type": "stream",
          "name": "stderr",
          "text": [
            "[I 2024-12-08 19:31:10,573] Trial 35 finished with value: 0.9299974991657287 and parameters: {'iterations': 103, 'depth': 8, 'learning_rate': 0.49754447978246097, 'l2_leaf_reg': 1.7238042608677429, 'bagging_temperature': 0.43991560561836635, 'random_strength': 1.5907338754274927, 'border_count': 65}. Best is trial 19 with value: 0.9676572286920144.\n"
          ]
        },
        {
          "output_type": "stream",
          "name": "stdout",
          "text": [
            "0.9299974991657287\n",
            "0.9589962822118222\n",
            "0.960235926437121\n",
            "0.9604933924560003\n",
            "0.9611443541984104\n"
          ]
        },
        {
          "output_type": "stream",
          "name": "stderr",
          "text": [
            "[I 2024-12-08 19:34:36,976] Trial 36 finished with value: 0.9614875125226112 and parameters: {'iterations': 636, 'depth': 6, 'learning_rate': 0.11511330092299564, 'l2_leaf_reg': 0.042350440097539015, 'bagging_temperature': 0.5866464667748734, 'random_strength': 0.013917095256119102, 'border_count': 42}. Best is trial 19 with value: 0.9676572286920144.\n"
          ]
        },
        {
          "output_type": "stream",
          "name": "stdout",
          "text": [
            "0.9614875125226112\n",
            "0.9631461767804108\n",
            "0.9637996946980432\n",
            "0.9643969818266124\n",
            "0.9648787076788945\n"
          ]
        },
        {
          "output_type": "stream",
          "name": "stderr",
          "text": [
            "[I 2024-12-08 19:39:59,303] Trial 37 finished with value: 0.9652192906965272 and parameters: {'iterations': 904, 'depth': 7, 'learning_rate': 0.08323089215533275, 'l2_leaf_reg': 0.21413522175469377, 'bagging_temperature': 0.26300913412471494, 'random_strength': 0.7629794519822716, 'border_count': 57}. Best is trial 19 with value: 0.9676572286920144.\n"
          ]
        },
        {
          "output_type": "stream",
          "name": "stdout",
          "text": [
            "0.9652192906965272\n",
            "0.9100964550221031\n",
            "0.9115980698514611\n",
            "0.9126016586175622\n",
            "0.9128280016462776\n"
          ]
        },
        {
          "output_type": "stream",
          "name": "stderr",
          "text": [
            "[I 2024-12-08 19:43:15,933] Trial 38 finished with value: 0.9128311167748151 and parameters: {'iterations': 738, 'depth': 5, 'learning_rate': 0.007742858822296521, 'l2_leaf_reg': 0.08270950002064431, 'bagging_temperature': 0.33907427059238554, 'random_strength': 6.048673005224808, 'border_count': 74}. Best is trial 19 with value: 0.9676572286920144.\n"
          ]
        },
        {
          "output_type": "stream",
          "name": "stdout",
          "text": [
            "0.9128311167748151\n",
            "0.955777674590347\n",
            "0.9564707058239397\n",
            "0.9579084638259975\n",
            "0.9584614553184269\n"
          ]
        },
        {
          "output_type": "stream",
          "name": "stderr",
          "text": [
            "[I 2024-12-08 19:46:41,833] Trial 39 finished with value: 0.9590168070775809 and parameters: {'iterations': 940, 'depth': 4, 'learning_rate': 0.1812382930386544, 'l2_leaf_reg': 4.172893914171999, 'bagging_temperature': 0.49756044922755016, 'random_strength': 2.5353870420931433, 'border_count': 129}. Best is trial 19 with value: 0.9676572286920144.\n"
          ]
        },
        {
          "output_type": "stream",
          "name": "stdout",
          "text": [
            "0.9590168070775809\n",
            "0.9640572874379694\n",
            "0.9641250405521761\n",
            "0.9643233356394215\n",
            "0.9649696520150375\n"
          ]
        },
        {
          "output_type": "stream",
          "name": "stderr",
          "text": [
            "[I 2024-12-08 19:49:49,512] Trial 40 finished with value: 0.9651574400041177 and parameters: {'iterations': 550, 'depth': 6, 'learning_rate': 0.3128714943220283, 'l2_leaf_reg': 0.5086172272735641, 'bagging_temperature': 0.4198718414659204, 'random_strength': 1.1238141064902507, 'border_count': 97}. Best is trial 19 with value: 0.9676572286920144.\n"
          ]
        },
        {
          "output_type": "stream",
          "name": "stdout",
          "text": [
            "0.9651574400041177\n",
            "0.9646788188658253\n",
            "0.9660710645949749\n",
            "0.9664473336135861\n",
            "0.9672390447367818\n"
          ]
        },
        {
          "output_type": "stream",
          "name": "stderr",
          "text": [
            "[I 2024-12-08 19:55:38,444] Trial 41 finished with value: 0.9677223623099167 and parameters: {'iterations': 977, 'depth': 7, 'learning_rate': 0.2826326158602375, 'l2_leaf_reg': 0.3072312497021844, 'bagging_temperature': 0.1810000291777522, 'random_strength': 0.6166119609138719, 'border_count': 81}. Best is trial 41 with value: 0.9677223623099167.\n"
          ]
        },
        {
          "output_type": "stream",
          "name": "stdout",
          "text": [
            "0.9677223623099167\n",
            "0.9661209564269606\n",
            "0.9671117498386745\n",
            "0.9661975704066129\n",
            "0.9664751715441154\n"
          ]
        },
        {
          "output_type": "stream",
          "name": "stderr",
          "text": [
            "[I 2024-12-08 20:01:34,936] Trial 42 finished with value: 0.9665090861183587 and parameters: {'iterations': 830, 'depth': 8, 'learning_rate': 0.2312540898815097, 'l2_leaf_reg': 0.24507667159108185, 'bagging_temperature': 0.19695482337222775, 'random_strength': 0.45134960442446037, 'border_count': 85}. Best is trial 41 with value: 0.9677223623099167.\n"
          ]
        },
        {
          "output_type": "stream",
          "name": "stdout",
          "text": [
            "0.9665090861183587\n",
            "0.9657204288384348\n",
            "0.9667972830857345\n",
            "0.9669662760716111\n",
            "0.9676963837508841\n"
          ]
        },
        {
          "output_type": "stream",
          "name": "stderr",
          "text": [
            "[I 2024-12-08 20:07:13,266] Trial 43 finished with value: 0.9680341026849497 and parameters: {'iterations': 958, 'depth': 7, 'learning_rate': 0.13855689881749275, 'l2_leaf_reg': 0.6113539009883876, 'bagging_temperature': 0.17710574014981362, 'random_strength': 1.3229705738948407, 'border_count': 62}. Best is trial 43 with value: 0.9680341026849497.\n"
          ]
        },
        {
          "output_type": "stream",
          "name": "stdout",
          "text": [
            "0.9680341026849497\n",
            "0.9632664467463845\n",
            "0.9644042794865664\n",
            "0.9649921552543628\n",
            "0.9653621993685517\n"
          ]
        },
        {
          "output_type": "stream",
          "name": "stderr",
          "text": [
            "[I 2024-12-08 20:12:05,125] Trial 44 finished with value: 0.9657651971353858 and parameters: {'iterations': 952, 'depth': 6, 'learning_rate': 0.12487116302886611, 'l2_leaf_reg': 0.12630378560991348, 'bagging_temperature': 0.17360388137699234, 'random_strength': 1.3772190256357204, 'border_count': 76}. Best is trial 43 with value: 0.9680341026849497.\n"
          ]
        },
        {
          "output_type": "stream",
          "name": "stdout",
          "text": [
            "0.9657651971353858\n",
            "0.9503222762000607\n",
            "0.9519771268909316\n",
            "0.9524925134836605\n",
            "0.9530072668479665\n"
          ]
        },
        {
          "output_type": "stream",
          "name": "stderr",
          "text": [
            "[I 2024-12-08 20:18:22,750] Trial 45 finished with value: 0.953374931497482 and parameters: {'iterations': 948, 'depth': 8, 'learning_rate': 0.020042025897397023, 'l2_leaf_reg': 2.1177197190268515, 'bagging_temperature': 0.24049424584209622, 'random_strength': 4.923249027628453, 'border_count': 64}. Best is trial 43 with value: 0.9680341026849497.\n"
          ]
        },
        {
          "output_type": "stream",
          "name": "stdout",
          "text": [
            "0.953374931497482\n",
            "0.9635358942773639\n",
            "0.9649559418590935\n",
            "0.9649924349028233\n",
            "0.9655259534871335\n"
          ]
        },
        {
          "output_type": "stream",
          "name": "stderr",
          "text": [
            "[I 2024-12-08 20:23:27,915] Trial 46 finished with value: 0.9653267146862514 and parameters: {'iterations': 985, 'depth': 6, 'learning_rate': 0.376972086710624, 'l2_leaf_reg': 0.05777031429000985, 'bagging_temperature': 0.06720516122580364, 'random_strength': 1.9605261938181289, 'border_count': 157}. Best is trial 43 with value: 0.9680341026849497.\n"
          ]
        },
        {
          "output_type": "stream",
          "name": "stdout",
          "text": [
            "0.9653267146862514\n",
            "0.8614860456857445\n",
            "0.863003278984669\n",
            "0.8636583498070222\n",
            "0.8625790628621515\n"
          ]
        },
        {
          "output_type": "stream",
          "name": "stderr",
          "text": [
            "[I 2024-12-08 20:28:16,141] Trial 47 finished with value: 0.8621720592401136 and parameters: {'iterations': 905, 'depth': 7, 'learning_rate': 0.0012805016378676494, 'l2_leaf_reg': 1.1506386347131325, 'bagging_temperature': 0.166374421779822, 'random_strength': 1.1298150756792125, 'border_count': 40}. Best is trial 43 with value: 0.9680341026849497.\n"
          ]
        },
        {
          "output_type": "stream",
          "name": "stdout",
          "text": [
            "0.8621720592401136\n",
            "0.9617858103107048\n",
            "0.9635313895416986\n",
            "0.9637594880346508\n",
            "0.9642038886434068\n"
          ]
        },
        {
          "output_type": "stream",
          "name": "stderr",
          "text": [
            "[I 2024-12-08 20:33:57,723] Trial 48 finished with value: 0.9643102869751174 and parameters: {'iterations': 797, 'depth': 8, 'learning_rate': 0.18200937937524891, 'l2_leaf_reg': 0.28310069591566106, 'bagging_temperature': 0.9797257026522773, 'random_strength': 2.8241524957938022, 'border_count': 99}. Best is trial 43 with value: 0.9680341026849497.\n"
          ]
        },
        {
          "output_type": "stream",
          "name": "stdout",
          "text": [
            "0.9643102869751174\n",
            "0.9459060108678643\n",
            "0.9472824942689315\n",
            "0.9476508078333951\n",
            "0.9483578692198142\n"
          ]
        },
        {
          "output_type": "stream",
          "name": "stderr",
          "text": [
            "[I 2024-12-08 20:36:43,067] Trial 49 finished with value: 0.9487187224402718 and parameters: {'iterations': 700, 'depth': 4, 'learning_rate': 0.04690662989318129, 'l2_leaf_reg': 0.13180821967242326, 'bagging_temperature': 0.06729213916605695, 'random_strength': 2.2040551445135046, 'border_count': 129}. Best is trial 43 with value: 0.9680341026849497.\n"
          ]
        },
        {
          "output_type": "stream",
          "name": "stdout",
          "text": [
            "0.9487187224402718\n",
            "Best parameters: {'iterations': 958, 'depth': 7, 'learning_rate': 0.13855689881749275, 'l2_leaf_reg': 0.6113539009883876, 'bagging_temperature': 0.17710574014981362, 'random_strength': 1.3229705738948407, 'border_count': 62}\n"
          ]
        }
      ]
    },
    {
      "cell_type": "code",
      "source": [
        "# Train the final model with the best parameters on the full dataset\n",
        "#best_params = study.best_trial.params\n",
        "best_params = {'iterations': 958, 'depth': 7, 'learning_rate': 0.13855689881749275, 'task_type': 'GPU', 'l2_leaf_reg': 0.6113539009883876, 'bagging_temperature': 0.17710574014981362, 'random_strength': 1.3229705738948407, 'border_count': 62}\n",
        "final_pool = Pool(filled_train, y_train, cat_features=cat_features)\n",
        "final_model = CatBoostClassifier(**best_params, verbose=100)\n",
        "final_model.fit(final_pool)\n",
        "\n",
        "# Make predictions on the test set\n",
        "test_pool = Pool(filled_test, cat_features=cat_features)\n",
        "test_pred_proba = final_model.predict_proba(test_pool)[:, 1]\n",
        "\n",
        "# Create submission\n",
        "submission = pd.DataFrame({\n",
        "    \"TransactionID\": test_processed[\"TransactionID\"],\n",
        "    \"isFraud\": test_pred_proba\n",
        "})\n",
        "submission.to_csv(\"catboost_log_reg_stacked_auc_submission.csv\", index=False)\n",
        "\n",
        "print(\"Submission file created: catboost_auc_submission.csv\")"
      ],
      "metadata": {
        "colab": {
          "base_uri": "https://localhost:8080/"
        },
        "id": "mJiv3Bj5HwYL",
        "outputId": "ce044fce-3d35-43ae-a3b9-09e6d8f8ee44"
      },
      "execution_count": null,
      "outputs": [
        {
          "output_type": "stream",
          "name": "stdout",
          "text": [
            "0:\tlearn: 0.4893707\ttotal: 79.7ms\tremaining: 1m 16s\n",
            "100:\tlearn: 0.0710812\ttotal: 7.17s\tremaining: 1m\n",
            "200:\tlearn: 0.0635219\ttotal: 14.8s\tremaining: 55.6s\n",
            "300:\tlearn: 0.0593398\ttotal: 22.3s\tremaining: 48.6s\n",
            "400:\tlearn: 0.0564467\ttotal: 29.4s\tremaining: 40.9s\n",
            "500:\tlearn: 0.0546512\ttotal: 36.7s\tremaining: 33.5s\n",
            "600:\tlearn: 0.0525618\ttotal: 44s\tremaining: 26.1s\n",
            "700:\tlearn: 0.0507231\ttotal: 51.1s\tremaining: 18.7s\n",
            "800:\tlearn: 0.0490758\ttotal: 58.3s\tremaining: 11.4s\n",
            "900:\tlearn: 0.0476297\ttotal: 1m 5s\tremaining: 4.15s\n",
            "957:\tlearn: 0.0468720\ttotal: 1m 9s\tremaining: 0us\n",
            "Submission file created: catboost_auc_submission.csv\n"
          ]
        }
      ]
    },
    {
      "cell_type": "code",
      "source": [
        "filled_test['stacked_log_reg']"
      ],
      "metadata": {
        "colab": {
          "base_uri": "https://localhost:8080/",
          "height": 458
        },
        "id": "VkAyMBwVIJki",
        "outputId": "a522fe22-0482-43f9-a0c3-acdd1edce3d5"
      },
      "execution_count": null,
      "outputs": [
        {
          "output_type": "execute_result",
          "data": {
            "text/plain": [
              "0         0.999997\n",
              "1         0.999885\n",
              "2         0.999993\n",
              "3         1.000000\n",
              "4         1.000000\n",
              "            ...   \n",
              "506686    1.000000\n",
              "506687    0.999928\n",
              "506688    0.994934\n",
              "506689    0.999972\n",
              "506690    1.000000\n",
              "Name: stacked_log_reg, Length: 506691, dtype: float64"
            ],
            "text/html": [
              "<div>\n",
              "<style scoped>\n",
              "    .dataframe tbody tr th:only-of-type {\n",
              "        vertical-align: middle;\n",
              "    }\n",
              "\n",
              "    .dataframe tbody tr th {\n",
              "        vertical-align: top;\n",
              "    }\n",
              "\n",
              "    .dataframe thead th {\n",
              "        text-align: right;\n",
              "    }\n",
              "</style>\n",
              "<table border=\"1\" class=\"dataframe\">\n",
              "  <thead>\n",
              "    <tr style=\"text-align: right;\">\n",
              "      <th></th>\n",
              "      <th>stacked_log_reg</th>\n",
              "    </tr>\n",
              "  </thead>\n",
              "  <tbody>\n",
              "    <tr>\n",
              "      <th>0</th>\n",
              "      <td>0.999997</td>\n",
              "    </tr>\n",
              "    <tr>\n",
              "      <th>1</th>\n",
              "      <td>0.999885</td>\n",
              "    </tr>\n",
              "    <tr>\n",
              "      <th>2</th>\n",
              "      <td>0.999993</td>\n",
              "    </tr>\n",
              "    <tr>\n",
              "      <th>3</th>\n",
              "      <td>1.000000</td>\n",
              "    </tr>\n",
              "    <tr>\n",
              "      <th>4</th>\n",
              "      <td>1.000000</td>\n",
              "    </tr>\n",
              "    <tr>\n",
              "      <th>...</th>\n",
              "      <td>...</td>\n",
              "    </tr>\n",
              "    <tr>\n",
              "      <th>506686</th>\n",
              "      <td>1.000000</td>\n",
              "    </tr>\n",
              "    <tr>\n",
              "      <th>506687</th>\n",
              "      <td>0.999928</td>\n",
              "    </tr>\n",
              "    <tr>\n",
              "      <th>506688</th>\n",
              "      <td>0.994934</td>\n",
              "    </tr>\n",
              "    <tr>\n",
              "      <th>506689</th>\n",
              "      <td>0.999972</td>\n",
              "    </tr>\n",
              "    <tr>\n",
              "      <th>506690</th>\n",
              "      <td>1.000000</td>\n",
              "    </tr>\n",
              "  </tbody>\n",
              "</table>\n",
              "<p>506691 rows × 1 columns</p>\n",
              "</div><br><label><b>dtype:</b> float64</label>"
            ]
          },
          "metadata": {},
          "execution_count": 39
        }
      ]
    },
    {
      "cell_type": "code",
      "source": [
        "import optuna\n",
        "import pandas as pd\n",
        "import numpy as np\n",
        "from catboost import CatBoostClassifier, Pool\n",
        "from sklearn.model_selection import StratifiedKFold\n",
        "from sklearn.metrics import roc_auc_score, precision_recall_curve, auc\n",
        "\n",
        "# Target variable\n",
        "y_train = train_processed['isFraud']\n",
        "\n",
        "# Define the objective function for Optuna\n",
        "def objective(trial):\n",
        "    # Suggest hyperparameters for CatBoost\n",
        "    params = {\n",
        "        \"iterations\": trial.suggest_int(\"iterations\", 100, 1000),\n",
        "        \"depth\": trial.suggest_int(\"depth\", 3, 10),\n",
        "        \"learning_rate\": trial.suggest_float(\"learning_rate\", 1e-3, 0.5, log=True),\n",
        "        \"l2_leaf_reg\": trial.suggest_float(\"l2_leaf_reg\", 1e-3, 10.0, log=True),\n",
        "        \"bagging_temperature\": trial.suggest_float(\"bagging_temperature\", 0.0, 1.0),\n",
        "        \"random_strength\": trial.suggest_float(\"random_strength\", 0.0, 10.0),\n",
        "        \"border_count\": trial.suggest_int(\"border_count\", 32, 255),\n",
        "        \"loss_function\": \"Logloss\",\n",
        "        \"eval_metric\": \"Logloss\",\n",
        "        \"task_type\": \"GPU\",\n",
        "        \"verbose\": False,\n",
        "        \"random_state\": 42,\n",
        "    }\n",
        "\n",
        "    # Cross-validation setup\n",
        "    cv = StratifiedKFold(n_splits=5, shuffle=True, random_state=42)\n",
        "    roc_auc_scores = []\n",
        "    pr_auc_scores = []\n",
        "\n",
        "    for train_idx, val_idx in cv.split(filled_train, y_train):\n",
        "        X_train, X_val = filled_train.iloc[train_idx], filled_train.iloc[val_idx]\n",
        "        y_train_fold, y_val_fold = y_train.iloc[train_idx], y_train.iloc[val_idx]\n",
        "\n",
        "        # Create CatBoost Pool\n",
        "        train_pool = Pool(X_train, y_train_fold, cat_features=cat_features)\n",
        "        val_pool = Pool(X_val, y_val_fold, cat_features=cat_features)\n",
        "\n",
        "        # Train CatBoost model\n",
        "        model = CatBoostClassifier(**params)\n",
        "        model.fit(train_pool, eval_set=val_pool, early_stopping_rounds=50, verbose=False)\n",
        "\n",
        "        # Predict probabilities for validation set\n",
        "        y_val_pred_proba = model.predict_proba(X_val)[:, 1]  # Probabilities for class 1\n",
        "\n",
        "        # Calculate ROC AUC\n",
        "        roc_auc = roc_auc_score(y_val_fold, y_val_pred_proba)\n",
        "        roc_auc_scores.append(roc_auc)\n",
        "\n",
        "        # Calculate Precision-Recall AUC\n",
        "        precision, recall, _ = precision_recall_curve(y_val_fold, y_val_pred_proba)\n",
        "        pr_auc = auc(recall, precision)\n",
        "        pr_auc_scores.append(pr_auc)\n",
        "\n",
        "    # Save metrics for this trial\n",
        "    trial.set_user_attr(\"roc_auc_scores\", roc_auc_scores)\n",
        "    trial.set_user_attr(\"pr_auc_scores\", pr_auc_scores)\n",
        "    print(f'ROC AUC: {np.mean(roc_auc_scores)}')\n",
        "    print(f'PR AUC: {np.mean(pr_auc_scores)}')\n",
        "    # Return the mean ROC AUC and PR AUC\n",
        "    return np.mean(roc_auc_scores), np.mean(pr_auc_scores)\n",
        "\n",
        "# Run Optuna multi-objective optimization\n",
        "study = optuna.create_study(\n",
        "    directions=[\"maximize\", \"maximize\"],  # Multi-objective optimization\n",
        "    study_name=\"CatBoost Multi-Objective Tuning\"\n",
        ")\n",
        "study.optimize(objective, n_trials=50)\n",
        "\n",
        "# Save metrics to DataFrame for later analysis\n",
        "results = []\n",
        "for trial in study.trials:\n",
        "    results.append({\n",
        "        \"trial_number\": trial.number,\n",
        "        \"roc_auc\": np.mean(trial.user_attrs[\"roc_auc_scores\"]),\n",
        "        \"pr_auc\": np.mean(trial.user_attrs[\"pr_auc_scores\"])\n",
        "    })\n",
        "\n",
        "metrics_df = pd.DataFrame(results)\n",
        "metrics_df.to_csv(\"optuna_metrics.csv\", index=False)\n",
        "\n",
        "# Print best parameters\n",
        "print(\"Best ROC AUC Trial:\")\n",
        "print(study.best_trials[0].values)\n",
        "print(\"Best PR AUC Trial:\")\n",
        "print(study.best_trials[1].values)\n"
      ],
      "metadata": {
        "colab": {
          "base_uri": "https://localhost:8080/"
        },
        "id": "2tWrGR47Af0l",
        "outputId": "887b025c-0aac-4194-9e48-5877a31dc4f8"
      },
      "execution_count": null,
      "outputs": [
        {
          "metadata": {
            "tags": null
          },
          "name": "stderr",
          "output_type": "stream",
          "text": [
            "[I 2024-12-08 21:43:24,296] A new study created in memory with name: CatBoost Multi-Objective Tuning\n",
            "[I 2024-12-08 21:50:20,342] Trial 0 finished with values: [0.9644038163549361, 0.8325089024842246] and parameters: {'iterations': 630, 'depth': 10, 'learning_rate': 0.1535726401767315, 'l2_leaf_reg': 0.24527383446914192, 'bagging_temperature': 0.7758189094916633, 'random_strength': 1.9454538767507445, 'border_count': 52}.\n"
          ]
        },
        {
          "metadata": {
            "tags": null
          },
          "name": "stdout",
          "output_type": "stream",
          "text": [
            "ROC AUC: 0.9644038163549361\n",
            "PR AUC: 0.8325089024842246\n"
          ]
        },
        {
          "metadata": {
            "tags": null
          },
          "name": "stderr",
          "output_type": "stream",
          "text": [
            "[I 2024-12-08 21:52:22,880] Trial 1 finished with values: [0.8938027582853069, 0.5408833680578891] and parameters: {'iterations': 679, 'depth': 3, 'learning_rate': 0.004845294259107338, 'l2_leaf_reg': 0.3721982120361202, 'bagging_temperature': 0.8158767212007675, 'random_strength': 0.45685457709192967, 'border_count': 32}.\n"
          ]
        },
        {
          "metadata": {
            "tags": null
          },
          "name": "stdout",
          "output_type": "stream",
          "text": [
            "ROC AUC: 0.8938027582853069\n",
            "PR AUC: 0.5408833680578891\n"
          ]
        },
        {
          "metadata": {
            "tags": null
          },
          "name": "stderr",
          "output_type": "stream",
          "text": [
            "[I 2024-12-08 21:58:30,692] Trial 2 finished with values: [0.9407119671752021, 0.7129449967594199] and parameters: {'iterations': 966, 'depth': 8, 'learning_rate': 0.013284223756845825, 'l2_leaf_reg': 1.1370348208471195, 'bagging_temperature': 0.9228547607338592, 'random_strength': 8.826745757097349, 'border_count': 107}.\n"
          ]
        },
        {
          "metadata": {
            "tags": null
          },
          "name": "stdout",
          "output_type": "stream",
          "text": [
            "ROC AUC: 0.9407119671752021\n",
            "PR AUC: 0.7129449967594199\n"
          ]
        },
        {
          "metadata": {
            "tags": null
          },
          "name": "stderr",
          "output_type": "stream",
          "text": [
            "[I 2024-12-08 22:01:47,466] Trial 3 finished with values: [0.84459198876316, 0.37821438358809806] and parameters: {'iterations': 672, 'depth': 6, 'learning_rate': 0.0017396790380804048, 'l2_leaf_reg': 0.007735682623715023, 'bagging_temperature': 0.363447840784334, 'random_strength': 6.96320355898915, 'border_count': 205}.\n"
          ]
        },
        {
          "metadata": {
            "tags": null
          },
          "name": "stdout",
          "output_type": "stream",
          "text": [
            "ROC AUC: 0.84459198876316\n",
            "PR AUC: 0.37821438358809806\n"
          ]
        },
        {
          "metadata": {
            "tags": null
          },
          "name": "stderr",
          "output_type": "stream",
          "text": [
            "[I 2024-12-08 22:06:59,453] Trial 4 finished with values: [0.9627700734376609, 0.8068664554515074] and parameters: {'iterations': 886, 'depth': 7, 'learning_rate': 0.08385340887738532, 'l2_leaf_reg': 9.531440281837588, 'bagging_temperature': 0.4479534428272809, 'random_strength': 0.885400700400395, 'border_count': 47}.\n"
          ]
        },
        {
          "metadata": {
            "tags": null
          },
          "name": "stdout",
          "output_type": "stream",
          "text": [
            "ROC AUC: 0.9627700734376609\n",
            "PR AUC: 0.8068664554515074\n"
          ]
        },
        {
          "metadata": {
            "tags": null
          },
          "name": "stderr",
          "output_type": "stream",
          "text": [
            "[I 2024-12-08 22:09:41,658] Trial 5 finished with values: [0.9237896694643869, 0.6607974981473744] and parameters: {'iterations': 676, 'depth': 4, 'learning_rate': 0.01460069290208518, 'l2_leaf_reg': 0.49822796096985805, 'bagging_temperature': 0.6938381690844493, 'random_strength': 4.2572741867392665, 'border_count': 173}.\n"
          ]
        },
        {
          "metadata": {
            "tags": null
          },
          "name": "stdout",
          "output_type": "stream",
          "text": [
            "ROC AUC: 0.9237896694643869\n",
            "PR AUC: 0.6607974981473744\n"
          ]
        },
        {
          "metadata": {
            "tags": null
          },
          "name": "stderr",
          "output_type": "stream",
          "text": [
            "[I 2024-12-08 22:16:09,167] Trial 6 finished with values: [0.9628557204113525, 0.8090568901531491] and parameters: {'iterations': 932, 'depth': 8, 'learning_rate': 0.04529503426104619, 'l2_leaf_reg': 0.14591351690899035, 'bagging_temperature': 0.2892184731137417, 'random_strength': 1.998102662930057, 'border_count': 69}.\n"
          ]
        },
        {
          "metadata": {
            "tags": null
          },
          "name": "stdout",
          "output_type": "stream",
          "text": [
            "ROC AUC: 0.9628557204113525\n",
            "PR AUC: 0.8090568901531491\n"
          ]
        },
        {
          "metadata": {
            "tags": null
          },
          "name": "stderr",
          "output_type": "stream",
          "text": [
            "[I 2024-12-08 22:20:39,374] Trial 7 finished with values: [0.8572728924526387, 0.42322957386770776] and parameters: {'iterations': 979, 'depth': 6, 'learning_rate': 0.0013852011420123845, 'l2_leaf_reg': 8.978450024455293, 'bagging_temperature': 0.9448114546942342, 'random_strength': 7.595970681926913, 'border_count': 188}.\n"
          ]
        },
        {
          "metadata": {
            "tags": null
          },
          "name": "stdout",
          "output_type": "stream",
          "text": [
            "ROC AUC: 0.8572728924526387\n",
            "PR AUC: 0.42322957386770776\n"
          ]
        },
        {
          "metadata": {
            "tags": null
          },
          "name": "stderr",
          "output_type": "stream",
          "text": [
            "[I 2024-12-08 22:23:31,985] Trial 8 finished with values: [0.8037354531111396, 0.2589188832472812] and parameters: {'iterations': 567, 'depth': 6, 'learning_rate': 0.0012430840451180683, 'l2_leaf_reg': 0.06192685053253109, 'bagging_temperature': 0.5916233165024478, 'random_strength': 6.6772432252418445, 'border_count': 185}.\n"
          ]
        },
        {
          "metadata": {
            "tags": null
          },
          "name": "stdout",
          "output_type": "stream",
          "text": [
            "ROC AUC: 0.8037354531111396\n",
            "PR AUC: 0.2589188832472812\n"
          ]
        },
        {
          "metadata": {
            "tags": null
          },
          "name": "stderr",
          "output_type": "stream",
          "text": [
            "[I 2024-12-08 22:24:20,001] Trial 9 finished with values: [0.8627078624438539, 0.40499000234864413] and parameters: {'iterations': 106, 'depth': 8, 'learning_rate': 0.01529156973513774, 'l2_leaf_reg': 0.01821746983474974, 'bagging_temperature': 0.5652201313547309, 'random_strength': 1.2882907746027539, 'border_count': 51}.\n"
          ]
        },
        {
          "metadata": {
            "tags": null
          },
          "name": "stdout",
          "output_type": "stream",
          "text": [
            "ROC AUC: 0.8627078624438539\n",
            "PR AUC: 0.40499000234864413\n"
          ]
        },
        {
          "metadata": {
            "tags": null
          },
          "name": "stderr",
          "output_type": "stream",
          "text": [
            "[I 2024-12-08 22:26:37,393] Trial 10 finished with values: [0.9629263668187841, 0.8117741413784916] and parameters: {'iterations': 265, 'depth': 8, 'learning_rate': 0.3820441674452696, 'l2_leaf_reg': 7.464805566198541, 'bagging_temperature': 0.3643378037654279, 'random_strength': 4.666446234105621, 'border_count': 158}.\n"
          ]
        },
        {
          "metadata": {
            "tags": null
          },
          "name": "stdout",
          "output_type": "stream",
          "text": [
            "ROC AUC: 0.9629263668187841\n",
            "PR AUC: 0.8117741413784916\n"
          ]
        },
        {
          "metadata": {
            "tags": null
          },
          "name": "stderr",
          "output_type": "stream",
          "text": [
            "[I 2024-12-08 22:30:03,823] Trial 11 finished with values: [0.9507515262534172, 0.7559574696418154] and parameters: {'iterations': 760, 'depth': 5, 'learning_rate': 0.04403427936543469, 'l2_leaf_reg': 0.2684416614846318, 'bagging_temperature': 0.5771698767676026, 'random_strength': 8.607712710346666, 'border_count': 91}.\n"
          ]
        },
        {
          "metadata": {
            "tags": null
          },
          "name": "stdout",
          "output_type": "stream",
          "text": [
            "ROC AUC: 0.9507515262534172\n",
            "PR AUC: 0.7559574696418154\n"
          ]
        },
        {
          "metadata": {
            "tags": null
          },
          "name": "stderr",
          "output_type": "stream",
          "text": [
            "[I 2024-12-08 22:35:01,942] Trial 12 finished with values: [0.8830418528895587, 0.5237618243415256] and parameters: {'iterations': 916, 'depth': 7, 'learning_rate': 0.0017484150596376005, 'l2_leaf_reg': 0.19225657643226832, 'bagging_temperature': 0.4992885931780744, 'random_strength': 1.6151832528596033, 'border_count': 202}.\n"
          ]
        },
        {
          "metadata": {
            "tags": null
          },
          "name": "stdout",
          "output_type": "stream",
          "text": [
            "ROC AUC: 0.8830418528895587\n",
            "PR AUC: 0.5237618243415256\n"
          ]
        },
        {
          "metadata": {
            "tags": null
          },
          "name": "stderr",
          "output_type": "stream",
          "text": [
            "[I 2024-12-08 22:41:58,761] Trial 13 finished with values: [0.9575597425890964, 0.7818891589054047] and parameters: {'iterations': 858, 'depth': 9, 'learning_rate': 0.023199605301906994, 'l2_leaf_reg': 1.4629430136027024, 'bagging_temperature': 0.14156532552190915, 'random_strength': 3.695025452733971, 'border_count': 32}.\n"
          ]
        },
        {
          "metadata": {
            "tags": null
          },
          "name": "stdout",
          "output_type": "stream",
          "text": [
            "ROC AUC: 0.9575597425890964\n",
            "PR AUC: 0.7818891589054047\n"
          ]
        },
        {
          "metadata": {
            "tags": null
          },
          "name": "stderr",
          "output_type": "stream",
          "text": [
            "[I 2024-12-08 22:42:47,833] Trial 14 finished with values: [0.9040993130666315, 0.5494016558607171] and parameters: {'iterations': 166, 'depth': 7, 'learning_rate': 0.07304865140394949, 'l2_leaf_reg': 0.0025851086080566593, 'bagging_temperature': 0.632187230194125, 'random_strength': 9.154840359313223, 'border_count': 47}.\n"
          ]
        },
        {
          "metadata": {
            "tags": null
          },
          "name": "stdout",
          "output_type": "stream",
          "text": [
            "ROC AUC: 0.9040993130666315\n",
            "PR AUC: 0.5494016558607171\n"
          ]
        },
        {
          "metadata": {
            "tags": null
          },
          "name": "stderr",
          "output_type": "stream",
          "text": [
            "[I 2024-12-08 22:44:13,071] Trial 15 finished with values: [0.9183692981650428, 0.6378371570695733] and parameters: {'iterations': 363, 'depth': 3, 'learning_rate': 0.030207928066129618, 'l2_leaf_reg': 0.7875433807510372, 'bagging_temperature': 0.5930558194025569, 'random_strength': 2.3842813760577783, 'border_count': 166}.\n"
          ]
        },
        {
          "metadata": {
            "tags": null
          },
          "name": "stdout",
          "output_type": "stream",
          "text": [
            "ROC AUC: 0.9183692981650428\n",
            "PR AUC: 0.6378371570695733\n"
          ]
        },
        {
          "metadata": {
            "tags": null
          },
          "name": "stderr",
          "output_type": "stream",
          "text": [
            "[I 2024-12-08 22:51:59,918] Trial 16 finished with values: [0.8367190289917412, 0.31701107682786] and parameters: {'iterations': 818, 'depth': 10, 'learning_rate': 0.0010221702549187872, 'l2_leaf_reg': 0.0024953441189330718, 'bagging_temperature': 0.7959977008973913, 'random_strength': 9.101666511776369, 'border_count': 153}.\n"
          ]
        },
        {
          "metadata": {
            "tags": null
          },
          "name": "stdout",
          "output_type": "stream",
          "text": [
            "ROC AUC: 0.8367190289917412\n",
            "PR AUC: 0.31701107682786\n"
          ]
        },
        {
          "metadata": {
            "tags": null
          },
          "name": "stderr",
          "output_type": "stream",
          "text": [
            "[I 2024-12-08 22:56:11,052] Trial 17 finished with values: [0.9338444940632525, 0.690005708189714] and parameters: {'iterations': 731, 'depth': 7, 'learning_rate': 0.013686411631919023, 'l2_leaf_reg': 0.7597016387316281, 'bagging_temperature': 0.7655186245768262, 'random_strength': 7.857731357896407, 'border_count': 69}.\n"
          ]
        },
        {
          "metadata": {
            "tags": null
          },
          "name": "stdout",
          "output_type": "stream",
          "text": [
            "ROC AUC: 0.9338444940632525\n",
            "PR AUC: 0.690005708189714\n"
          ]
        },
        {
          "metadata": {
            "tags": null
          },
          "name": "stderr",
          "output_type": "stream",
          "text": [
            "[I 2024-12-08 23:01:59,916] Trial 18 finished with values: [0.9667078513937983, 0.8365462137252907] and parameters: {'iterations': 828, 'depth': 8, 'learning_rate': 0.3799307108843257, 'l2_leaf_reg': 9.22304912417145, 'bagging_temperature': 0.6096237219531504, 'random_strength': 3.5622467058641503, 'border_count': 146}.\n"
          ]
        },
        {
          "metadata": {
            "tags": null
          },
          "name": "stdout",
          "output_type": "stream",
          "text": [
            "ROC AUC: 0.9667078513937983\n",
            "PR AUC: 0.8365462137252907\n"
          ]
        },
        {
          "output_type": "stream",
          "name": "stderr",
          "text": [
            "[I 2024-12-08 23:09:39,017] Trial 19 finished with values: [0.961982104144018, 0.8032142555182581] and parameters: {'iterations': 704, 'depth': 10, 'learning_rate': 0.0532115840769887, 'l2_leaf_reg': 2.7530137713782104, 'bagging_temperature': 0.919211889184508, 'random_strength': 1.7513052618324043, 'border_count': 159}.\n"
          ]
        },
        {
          "output_type": "stream",
          "name": "stdout",
          "text": [
            "ROC AUC: 0.961982104144018\n",
            "PR AUC: 0.8032142555182581\n"
          ]
        },
        {
          "output_type": "stream",
          "name": "stderr",
          "text": [
            "[I 2024-12-08 23:15:23,991] Trial 20 finished with values: [0.9601736429516542, 0.7972592256470955] and parameters: {'iterations': 992, 'depth': 7, 'learning_rate': 0.03972729030995201, 'l2_leaf_reg': 0.42348398098672085, 'bagging_temperature': 0.09201463551983147, 'random_strength': 5.137525057134679, 'border_count': 111}.\n"
          ]
        },
        {
          "output_type": "stream",
          "name": "stdout",
          "text": [
            "ROC AUC: 0.9601736429516542\n",
            "PR AUC: 0.7972592256470955\n"
          ]
        },
        {
          "output_type": "stream",
          "name": "stderr",
          "text": [
            "[I 2024-12-08 23:20:40,126] Trial 21 finished with values: [0.9669135604802722, 0.8305425966913023] and parameters: {'iterations': 886, 'depth': 7, 'learning_rate': 0.13103548213774716, 'l2_leaf_reg': 3.0254418646722065, 'bagging_temperature': 0.013723284576605543, 'random_strength': 1.6122272051199904, 'border_count': 244}.\n"
          ]
        },
        {
          "output_type": "stream",
          "name": "stdout",
          "text": [
            "ROC AUC: 0.9669135604802722\n",
            "PR AUC: 0.8305425966913023\n"
          ]
        },
        {
          "output_type": "stream",
          "name": "stderr",
          "text": [
            "[I 2024-12-08 23:23:00,273] Trial 22 finished with values: [0.9423302238199149, 0.7194620518982822] and parameters: {'iterations': 811, 'depth': 3, 'learning_rate': 0.048462962325120845, 'l2_leaf_reg': 1.1126277380402383, 'bagging_temperature': 0.303102131176308, 'random_strength': 2.8932453574678285, 'border_count': 161}.\n"
          ]
        },
        {
          "output_type": "stream",
          "name": "stdout",
          "text": [
            "ROC AUC: 0.9423302238199149\n",
            "PR AUC: 0.7194620518982822\n"
          ]
        },
        {
          "output_type": "stream",
          "name": "stderr",
          "text": [
            "[I 2024-12-08 23:26:33,175] Trial 23 finished with values: [0.9498129803879823, 0.7553671649195486] and parameters: {'iterations': 655, 'depth': 6, 'learning_rate': 0.037122307483569005, 'l2_leaf_reg': 0.0027279826633985634, 'bagging_temperature': 0.8719254568407071, 'random_strength': 1.8660899966037525, 'border_count': 242}.\n"
          ]
        },
        {
          "output_type": "stream",
          "name": "stdout",
          "text": [
            "ROC AUC: 0.9498129803879823\n",
            "PR AUC: 0.7553671649195486\n"
          ]
        },
        {
          "output_type": "stream",
          "name": "stderr",
          "text": [
            "[I 2024-12-08 23:32:41,813] Trial 24 finished with values: [0.8458121711674631, 0.3596904864823739] and parameters: {'iterations': 839, 'depth': 9, 'learning_rate': 0.0012052593336467183, 'l2_leaf_reg': 0.01069958155234592, 'bagging_temperature': 0.8178892306684621, 'random_strength': 8.927122879951567, 'border_count': 106}.\n"
          ]
        },
        {
          "output_type": "stream",
          "name": "stdout",
          "text": [
            "ROC AUC: 0.8458121711674631\n",
            "PR AUC: 0.3596904864823739\n"
          ]
        },
        {
          "output_type": "stream",
          "name": "stderr",
          "text": [
            "[I 2024-12-08 23:34:30,211] Trial 25 finished with values: [0.8941727303142141, 0.5634307184804046] and parameters: {'iterations': 547, 'depth': 3, 'learning_rate': 0.009945803322506329, 'l2_leaf_reg': 0.04195478736493394, 'bagging_temperature': 0.1487827253951517, 'random_strength': 4.4325071912933165, 'border_count': 67}.\n"
          ]
        },
        {
          "output_type": "stream",
          "name": "stdout",
          "text": [
            "ROC AUC: 0.8941727303142141\n",
            "PR AUC: 0.5634307184804046\n"
          ]
        },
        {
          "output_type": "stream",
          "name": "stderr",
          "text": [
            "[I 2024-12-08 23:35:33,041] Trial 26 finished with values: [0.8682141535045395, 0.41945063031151575] and parameters: {'iterations': 166, 'depth': 9, 'learning_rate': 0.010386379225581614, 'l2_leaf_reg': 0.46344139167580123, 'bagging_temperature': 0.8845483460855965, 'random_strength': 6.657109976115459, 'border_count': 65}.\n"
          ]
        },
        {
          "output_type": "stream",
          "name": "stdout",
          "text": [
            "ROC AUC: 0.8682141535045395\n",
            "PR AUC: 0.41945063031151575\n"
          ]
        },
        {
          "output_type": "stream",
          "name": "stderr",
          "text": [
            "[I 2024-12-08 23:42:10,424] Trial 27 finished with values: [0.9658168890420201, 0.8218899268998868] and parameters: {'iterations': 597, 'depth': 10, 'learning_rate': 0.07329274167515952, 'l2_leaf_reg': 1.7819423636253182, 'bagging_temperature': 0.15356976794755905, 'random_strength': 9.47912446225242, 'border_count': 162}.\n"
          ]
        },
        {
          "output_type": "stream",
          "name": "stdout",
          "text": [
            "ROC AUC: 0.9658168890420201\n",
            "PR AUC: 0.8218899268998868\n"
          ]
        },
        {
          "output_type": "stream",
          "name": "stderr",
          "text": [
            "[I 2024-12-08 23:46:22,268] Trial 28 finished with values: [0.8523866740789241, 0.3963352055929327] and parameters: {'iterations': 537, 'depth': 9, 'learning_rate': 0.002068169395078207, 'l2_leaf_reg': 1.0562606983682108, 'bagging_temperature': 0.5753554653881864, 'random_strength': 7.760653746397025, 'border_count': 146}.\n"
          ]
        },
        {
          "output_type": "stream",
          "name": "stdout",
          "text": [
            "ROC AUC: 0.8523866740789241\n",
            "PR AUC: 0.3963352055929327\n"
          ]
        },
        {
          "output_type": "stream",
          "name": "stderr",
          "text": [
            "[I 2024-12-08 23:49:24,412] Trial 29 finished with values: [0.9577044067715403, 0.7926632307179178] and parameters: {'iterations': 800, 'depth': 4, 'learning_rate': 0.3306344553015811, 'l2_leaf_reg': 0.1433764569046337, 'bagging_temperature': 0.8631669947138534, 'random_strength': 2.4974763273936276, 'border_count': 173}.\n"
          ]
        },
        {
          "output_type": "stream",
          "name": "stdout",
          "text": [
            "ROC AUC: 0.9577044067715403\n",
            "PR AUC: 0.7926632307179178\n"
          ]
        },
        {
          "output_type": "stream",
          "name": "stderr",
          "text": [
            "[I 2024-12-08 23:52:25,266] Trial 30 finished with values: [0.934601190842044, 0.6918039745953101] and parameters: {'iterations': 560, 'depth': 6, 'learning_rate': 0.0228042022788295, 'l2_leaf_reg': 0.46758495471851286, 'bagging_temperature': 0.8762522512762608, 'random_strength': 8.746589938222849, 'border_count': 152}.\n"
          ]
        },
        {
          "output_type": "stream",
          "name": "stdout",
          "text": [
            "ROC AUC: 0.934601190842044\n",
            "PR AUC: 0.6918039745953101\n"
          ]
        },
        {
          "output_type": "stream",
          "name": "stderr",
          "text": [
            "[I 2024-12-08 23:54:24,292] Trial 31 finished with values: [0.9279866388427797, 0.6680942094940209] and parameters: {'iterations': 623, 'depth': 3, 'learning_rate': 0.02851075219142329, 'l2_leaf_reg': 0.16044630668245033, 'bagging_temperature': 0.4308069293958934, 'random_strength': 3.8503302000788144, 'border_count': 178}.\n"
          ]
        },
        {
          "output_type": "stream",
          "name": "stdout",
          "text": [
            "ROC AUC: 0.9279866388427797\n",
            "PR AUC: 0.6680942094940209\n"
          ]
        },
        {
          "output_type": "stream",
          "name": "stderr",
          "text": [
            "[I 2024-12-08 23:57:46,402] Trial 32 finished with values: [0.9527084536024342, 0.7631700512730306] and parameters: {'iterations': 532, 'depth': 7, 'learning_rate': 0.034862918308871935, 'l2_leaf_reg': 0.3233708366475466, 'bagging_temperature': 0.06225091380321579, 'random_strength': 2.4476160015369053, 'border_count': 54}.\n"
          ]
        },
        {
          "output_type": "stream",
          "name": "stdout",
          "text": [
            "ROC AUC: 0.9527084536024342\n",
            "PR AUC: 0.7631700512730306\n"
          ]
        },
        {
          "output_type": "stream",
          "name": "stderr",
          "text": [
            "[I 2024-12-08 23:59:46,888] Trial 33 finished with values: [0.941068614357859, 0.7172674149563782] and parameters: {'iterations': 449, 'depth': 4, 'learning_rate': 0.04079019874565134, 'l2_leaf_reg': 5.507105921930276, 'bagging_temperature': 0.16670965587784803, 'random_strength': 0.8087372456231023, 'border_count': 108}.\n"
          ]
        },
        {
          "output_type": "stream",
          "name": "stdout",
          "text": [
            "ROC AUC: 0.941068614357859\n",
            "PR AUC: 0.7172674149563782\n"
          ]
        },
        {
          "output_type": "stream",
          "name": "stderr",
          "text": [
            "[I 2024-12-09 00:06:20,813] Trial 34 finished with values: [0.9652361090489201, 0.8223310271899666] and parameters: {'iterations': 758, 'depth': 9, 'learning_rate': 0.06483783684193602, 'l2_leaf_reg': 0.009548342622812627, 'bagging_temperature': 0.19549717071975525, 'random_strength': 3.2986088687932846, 'border_count': 177}.\n"
          ]
        },
        {
          "output_type": "stream",
          "name": "stdout",
          "text": [
            "ROC AUC: 0.9652361090489201\n",
            "PR AUC: 0.8223310271899666\n"
          ]
        },
        {
          "output_type": "stream",
          "name": "stderr",
          "text": [
            "[I 2024-12-09 00:09:52,898] Trial 35 finished with values: [0.9286058435690361, 0.6825671678234302] and parameters: {'iterations': 315, 'depth': 10, 'learning_rate': 0.017017693213917762, 'l2_leaf_reg': 0.012094905537970511, 'bagging_temperature': 0.6374269232162562, 'random_strength': 4.425378902407785, 'border_count': 47}.\n"
          ]
        },
        {
          "output_type": "stream",
          "name": "stdout",
          "text": [
            "ROC AUC: 0.9286058435690361\n",
            "PR AUC: 0.6825671678234302\n"
          ]
        },
        {
          "output_type": "stream",
          "name": "stderr",
          "text": [
            "[I 2024-12-09 00:13:23,305] Trial 36 finished with values: [0.9601276730029953, 0.7984573832797619] and parameters: {'iterations': 967, 'depth': 4, 'learning_rate': 0.14251632081387228, 'l2_leaf_reg': 5.474188549904893, 'bagging_temperature': 0.04275247894611878, 'random_strength': 4.658731677087099, 'border_count': 103}.\n"
          ]
        },
        {
          "output_type": "stream",
          "name": "stdout",
          "text": [
            "ROC AUC: 0.9601276730029953\n",
            "PR AUC: 0.7984573832797619\n"
          ]
        },
        {
          "output_type": "stream",
          "name": "stderr",
          "text": [
            "[I 2024-12-09 00:15:44,617] Trial 37 finished with values: [0.9305477864339983, 0.6773448312255586] and parameters: {'iterations': 819, 'depth': 3, 'learning_rate': 0.026201516736670136, 'l2_leaf_reg': 5.083654485810885, 'bagging_temperature': 0.33008491520279726, 'random_strength': 6.97247933480913, 'border_count': 140}.\n"
          ]
        },
        {
          "output_type": "stream",
          "name": "stdout",
          "text": [
            "ROC AUC: 0.9305477864339983\n",
            "PR AUC: 0.6773448312255586\n"
          ]
        },
        {
          "output_type": "stream",
          "name": "stderr",
          "text": [
            "[I 2024-12-09 00:19:37,945] Trial 38 finished with values: [0.9425184728299915, 0.7199453782264047] and parameters: {'iterations': 768, 'depth': 6, 'learning_rate': 0.020725897914360678, 'l2_leaf_reg': 0.5889755410610802, 'bagging_temperature': 0.2071114787645182, 'random_strength': 9.008416205580248, 'border_count': 167}.\n"
          ]
        },
        {
          "output_type": "stream",
          "name": "stdout",
          "text": [
            "ROC AUC: 0.9425184728299915\n",
            "PR AUC: 0.7199453782264047\n"
          ]
        },
        {
          "output_type": "stream",
          "name": "stderr",
          "text": [
            "[I 2024-12-09 00:20:24,497] Trial 39 finished with values: [0.8806672881139054, 0.4854416234965651] and parameters: {'iterations': 170, 'depth': 6, 'learning_rate': 0.024661074135151926, 'l2_leaf_reg': 0.003917137201461307, 'bagging_temperature': 0.8119609337122089, 'random_strength': 5.750072067474511, 'border_count': 42}.\n"
          ]
        },
        {
          "output_type": "stream",
          "name": "stdout",
          "text": [
            "ROC AUC: 0.8806672881139054\n",
            "PR AUC: 0.4854416234965651\n"
          ]
        },
        {
          "output_type": "stream",
          "name": "stderr",
          "text": [
            "[I 2024-12-09 00:24:08,879] Trial 40 finished with values: [0.9246084652629885, 0.6701060538972122] and parameters: {'iterations': 550, 'depth': 8, 'learning_rate': 0.010732521135453229, 'l2_leaf_reg': 0.004519398344234004, 'bagging_temperature': 0.8093884178222195, 'random_strength': 6.319217627755586, 'border_count': 58}.\n"
          ]
        },
        {
          "output_type": "stream",
          "name": "stdout",
          "text": [
            "ROC AUC: 0.9246084652629885\n",
            "PR AUC: 0.6701060538972122\n"
          ]
        },
        {
          "output_type": "stream",
          "name": "stderr",
          "text": [
            "[I 2024-12-09 00:26:12,074] Trial 41 finished with values: [0.8316523941043309, 0.3198025246569121] and parameters: {'iterations': 515, 'depth': 4, 'learning_rate': 0.0014668199404824036, 'l2_leaf_reg': 0.0983962550537702, 'bagging_temperature': 0.41953984010843814, 'random_strength': 0.12307016747270083, 'border_count': 117}.\n"
          ]
        },
        {
          "output_type": "stream",
          "name": "stdout",
          "text": [
            "ROC AUC: 0.8316523941043309\n",
            "PR AUC: 0.3198025246569121\n"
          ]
        },
        {
          "output_type": "stream",
          "name": "stderr",
          "text": [
            "[I 2024-12-09 00:28:46,217] Trial 42 finished with values: [0.9003714549500275, 0.5963561485719316] and parameters: {'iterations': 645, 'depth': 4, 'learning_rate': 0.006522873979314234, 'l2_leaf_reg': 0.002948977140193092, 'bagging_temperature': 0.5433365567102146, 'random_strength': 2.7361125453949287, 'border_count': 78}.\n"
          ]
        },
        {
          "output_type": "stream",
          "name": "stdout",
          "text": [
            "ROC AUC: 0.9003714549500275\n",
            "PR AUC: 0.5963561485719316\n"
          ]
        },
        {
          "output_type": "stream",
          "name": "stderr",
          "text": [
            "[I 2024-12-09 00:34:24,744] Trial 43 finished with values: [0.9598211507376437, 0.797110162523432] and parameters: {'iterations': 514, 'depth': 10, 'learning_rate': 0.05020365166879048, 'l2_leaf_reg': 0.02219184208797571, 'bagging_temperature': 0.3496931975939318, 'random_strength': 7.212460659983586, 'border_count': 170}.\n"
          ]
        },
        {
          "output_type": "stream",
          "name": "stdout",
          "text": [
            "ROC AUC: 0.9598211507376437\n",
            "PR AUC: 0.797110162523432\n"
          ]
        },
        {
          "output_type": "stream",
          "name": "stderr",
          "text": [
            "[I 2024-12-09 00:35:13,597] Trial 44 finished with values: [0.7859803274596727, 0.23148465185902492] and parameters: {'iterations': 156, 'depth': 7, 'learning_rate': 0.00417918107653418, 'l2_leaf_reg': 1.7155972700452597, 'bagging_temperature': 0.1617843556143055, 'random_strength': 9.882372487498271, 'border_count': 120}.\n"
          ]
        },
        {
          "output_type": "stream",
          "name": "stdout",
          "text": [
            "ROC AUC: 0.7859803274596727\n",
            "PR AUC: 0.23148465185902492\n"
          ]
        },
        {
          "output_type": "stream",
          "name": "stderr",
          "text": [
            "[I 2024-12-09 00:44:34,270] Trial 45 finished with values: [0.9643307706730733, 0.8149569918189282] and parameters: {'iterations': 876, 'depth': 10, 'learning_rate': 0.0411149898794545, 'l2_leaf_reg': 0.6447287736563039, 'bagging_temperature': 0.4645606939507445, 'random_strength': 3.5210251383613587, 'border_count': 137}.\n"
          ]
        },
        {
          "output_type": "stream",
          "name": "stdout",
          "text": [
            "ROC AUC: 0.9643307706730733\n",
            "PR AUC: 0.8149569918189282\n"
          ]
        },
        {
          "output_type": "stream",
          "name": "stderr",
          "text": [
            "[I 2024-12-09 00:49:48,433] Trial 46 finished with values: [0.9612814955822355, 0.8026563707839538] and parameters: {'iterations': 878, 'depth': 7, 'learning_rate': 0.04783761282580409, 'l2_leaf_reg': 0.006737536123045816, 'bagging_temperature': 0.08337873992946798, 'random_strength': 4.397731239645272, 'border_count': 236}.\n"
          ]
        },
        {
          "output_type": "stream",
          "name": "stdout",
          "text": [
            "ROC AUC: 0.9612814955822355\n",
            "PR AUC: 0.8026563707839538\n"
          ]
        },
        {
          "output_type": "stream",
          "name": "stderr",
          "text": [
            "[I 2024-12-09 00:53:18,355] Trial 47 finished with values: [0.955326458425492, 0.7760591703501679] and parameters: {'iterations': 774, 'depth': 5, 'learning_rate': 0.06525400685969639, 'l2_leaf_reg': 3.4908110247933015, 'bagging_temperature': 0.3245741369058702, 'random_strength': 6.180591204175623, 'border_count': 137}.\n"
          ]
        },
        {
          "output_type": "stream",
          "name": "stdout",
          "text": [
            "ROC AUC: 0.955326458425492\n",
            "PR AUC: 0.7760591703501679\n"
          ]
        },
        {
          "output_type": "stream",
          "name": "stderr",
          "text": [
            "[I 2024-12-09 00:54:02,167] Trial 48 finished with values: [0.8605575379521021, 0.39863332067479806] and parameters: {'iterations': 176, 'depth': 3, 'learning_rate': 0.01326700333907043, 'l2_leaf_reg': 2.256086049670873, 'bagging_temperature': 0.8732120292014017, 'random_strength': 4.885625452841248, 'border_count': 53}.\n"
          ]
        },
        {
          "output_type": "stream",
          "name": "stdout",
          "text": [
            "ROC AUC: 0.8605575379521021\n",
            "PR AUC: 0.39863332067479806\n"
          ]
        },
        {
          "output_type": "stream",
          "name": "stderr",
          "text": [
            "[I 2024-12-09 00:54:46,077] Trial 49 finished with values: [0.7709100028733026, 0.18291348708084565] and parameters: {'iterations': 147, 'depth': 4, 'learning_rate': 0.00358964153892542, 'l2_leaf_reg': 0.006846231219828737, 'bagging_temperature': 0.15211588131822706, 'random_strength': 7.5419443447312045, 'border_count': 175}.\n"
          ]
        },
        {
          "output_type": "stream",
          "name": "stdout",
          "text": [
            "ROC AUC: 0.7709100028733026\n",
            "PR AUC: 0.18291348708084565\n",
            "Best ROC AUC Trial:\n",
            "[0.9667078513937983, 0.8365462137252907]\n",
            "Best PR AUC Trial:\n",
            "[0.9669135604802722, 0.8305425966913023]\n"
          ]
        }
      ]
    },
    {
      "cell_type": "code",
      "source": [],
      "metadata": {
        "id": "5xFTHFBfOih2"
      },
      "execution_count": null,
      "outputs": []
    }
  ]
}