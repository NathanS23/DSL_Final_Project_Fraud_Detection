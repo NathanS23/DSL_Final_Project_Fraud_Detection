{
 "cells": [
  {
   "cell_type": "code",
   "execution_count": 43,
   "metadata": {},
   "outputs": [],
   "source": [
    "import numpy as np\n",
    "import pandas as pd\n",
    "import matplotlib.pyplot as plt\n",
    "from sklearn.model_selection import cross_val_score\n",
    "from sklearn.model_selection import train_test_split\n",
    "from sklearn.linear_model import LogisticRegression\n",
    "from sklearn.metrics import accuracy_score, log_loss\n",
    "from sklearn.ensemble import RandomForestClassifier, StackingClassifier\n",
    "from sklearn.preprocessing import StandardScaler\n",
    "from sklearn.impute import SimpleImputer\n",
    "from sklearn.datasets import load_iris\n",
    "from xgboost import XGBClassifier\n",
    "\n",
    "from catboost import CatBoostClassifier\n",
    "from sklearn.preprocessing import LabelEncoder\n",
    "from sklearn.neural_network import MLPClassifier\n",
    "from sklearn.model_selection import train_test_split\n",
    "from sklearn.metrics import accuracy_score, classification_report\n",
    "from lightgbm import LGBMClassifier\n",
    "\n",
    "from sklearn.model_selection import StratifiedKFold, cross_val_score\n",
    "from sklearn.neural_network import MLPClassifier\n",
    "from sklearn.preprocessing import StandardScaler\n",
    "\n",
    "from sklearn.model_selection import GridSearchCV\n",
    "\n",
    "import pandas as pd\n",
    "import numpy as np\n",
    "from sklearn.preprocessing import StandardScaler, LabelEncoder\n",
    "from sklearn.decomposition import PCA\n",
    "from sklearn.ensemble import RandomForestClassifier, IsolationForest\n",
    "from sklearn.linear_model import LogisticRegression\n",
    "import xgboost as xgb"
   ]
  },
  {
   "cell_type": "code",
   "execution_count": 34,
   "metadata": {},
   "outputs": [],
   "source": [
    "train_transactions = pd.read_csv('train_transaction.csv', index_col='TransactionID')\n",
    "train_identity = pd.read_csv('train_identity.csv', index_col='TransactionID')\n",
    "\n",
    "test_transactions = pd.read_csv('test_transaction.csv', index_col='TransactionID')\n",
    "test_identity = pd.read_csv('test_identity.csv', index_col='TransactionID')\n",
    "\n",
    "sample_submission = pd.read_csv('sample_submission.csv', index_col='TransactionID')"
   ]
  },
  {
   "cell_type": "code",
   "execution_count": 35,
   "metadata": {},
   "outputs": [],
   "source": [
    "train = train_transactions.merge(train_identity, how='left', left_index=True, right_index=True)\n",
    "test = test_transactions.merge(test_identity, how='left', left_index=True, right_index=True)\n",
    "test.columns = test.columns.str.replace('-', '_')"
   ]
  },
  {
   "cell_type": "code",
   "execution_count": 36,
   "metadata": {},
   "outputs": [],
   "source": [
    "#print(test['id_01'])"
   ]
  },
  {
   "cell_type": "code",
   "execution_count": 37,
   "metadata": {},
   "outputs": [
    {
     "name": "stdout",
     "output_type": "stream",
     "text": [
      "(590540, 433)\n",
      "(506691, 432)\n"
     ]
    }
   ],
   "source": [
    "print(train.shape)\n",
    "print(test.shape)\n",
    "\n",
    "y_train = train['isFraud'].copy()\n",
    "\n",
    "# Drop target, fill in NaNs\n",
    "X_train = train.drop('isFraud', axis=1)\n",
    "X_test = test.copy()\n",
    "X_train = X_train.fillna(-999)\n",
    "X_test = X_test.fillna(-999)"
   ]
  },
  {
   "cell_type": "code",
   "execution_count": 38,
   "metadata": {},
   "outputs": [],
   "source": [
    "#del train, test, train_transactions, train_identity, test_transactions, test_identity"
   ]
  },
  {
   "cell_type": "code",
   "execution_count": 39,
   "metadata": {},
   "outputs": [],
   "source": [
    "from sklearn import preprocessing\n",
    "import xgboost as xgb"
   ]
  },
  {
   "cell_type": "code",
   "execution_count": 40,
   "metadata": {},
   "outputs": [],
   "source": [
    "# Label Encoding\n",
    "for f in X_train.columns:\n",
    "    if X_train[f].dtype=='object' or X_test[f].dtype=='object': \n",
    "        lbl = preprocessing.LabelEncoder()\n",
    "        lbl.fit(list(X_train[f].values) + list(X_test[f].values))\n",
    "        X_train[f] = lbl.transform(list(X_train[f].values))\n",
    "        X_test[f] = lbl.transform(list(X_test[f].values))   "
   ]
  },
  {
   "cell_type": "code",
   "execution_count": 44,
   "metadata": {},
   "outputs": [],
   "source": [
    "iso_forest = IsolationForest(contamination=0.01)\n",
    "outliers = iso_forest.fit_predict(X_train) \n",
    "X_train = X_train[outliers == 1]\n",
    "y_train = y_train[outliers == 1]"
   ]
  },
  {
   "cell_type": "code",
   "execution_count": 45,
   "metadata": {},
   "outputs": [],
   "source": [
    "scaler = StandardScaler()\n",
    "X_train_scaled = scaler.fit_transform(X_train)\n",
    "X_test_scaled = scaler.transform(X_test)"
   ]
  },
  {
   "cell_type": "code",
   "execution_count": 46,
   "metadata": {},
   "outputs": [],
   "source": [
    "pca = PCA(n_components=0.95) \n",
    "X_train_pca = pca.fit_transform(X_train_scaled)\n",
    "X_test_pca = pca.transform(X_test_scaled)"
   ]
  },
  {
   "cell_type": "code",
   "execution_count": 52,
   "metadata": {},
   "outputs": [],
   "source": [
    "explained_variance_ratio = pca.explained_variance_ratio_\n",
    "sorted_indices = np.argsort(explained_variance_ratio)[::-1] \n",
    "sorted_variance = explained_variance_ratio[sorted_indices]"
   ]
  },
  {
   "cell_type": "code",
   "execution_count": null,
   "metadata": {},
   "outputs": [
    {
     "name": "stdout",
     "output_type": "stream",
     "text": [
      "Top 10 PCA Components and Their Most Contributing Original Features:\n",
      "\n",
      "PC1:\n",
      "  id_35: 0.0677\n",
      "  V256: 0.0641\n",
      "  V255: 0.0641\n",
      "  V250: 0.0641\n",
      "  V251: 0.0641\n",
      "  V245: 0.0641\n",
      "  V239: 0.0641\n",
      "  V238: 0.0641\n",
      "  V259: 0.0641\n",
      "  V221: 0.0641\n",
      "\n",
      "PC2:\n",
      "  D13: 0.1334\n",
      "  D12: 0.1306\n",
      "  addr2: 0.1275\n",
      "  D6: 0.1252\n",
      "  addr1: 0.1241\n",
      "  D14: 0.1149\n",
      "  M4: 0.0991\n",
      "  D7: 0.0881\n",
      "  ProductCD: 0.0839\n",
      "  id_02: 0.0784\n",
      "\n",
      "PC3:\n",
      "  V95: 0.1762\n",
      "  V100: 0.1761\n",
      "  V97: 0.1761\n",
      "  V101: 0.1761\n",
      "  V103: 0.1761\n",
      "  V98: 0.1761\n",
      "  V106: 0.1761\n",
      "  V105: 0.1761\n",
      "  V104: 0.1761\n",
      "  V124: 0.1761\n",
      "\n",
      "PC4:\n",
      "  V279: 0.2442\n",
      "  V293: 0.2437\n",
      "  V290: 0.2431\n",
      "  V298: 0.2386\n",
      "  V284: 0.2385\n",
      "  V299: 0.2383\n",
      "  V287: 0.2382\n",
      "  V297: 0.2380\n",
      "  V286: 0.2379\n",
      "  V303: 0.2378\n",
      "\n",
      "PC5:\n",
      "  V36: 0.1635\n",
      "  V35: 0.1635\n",
      "  V49: 0.1634\n",
      "  V48: 0.1634\n",
      "  V41: 0.1634\n",
      "  V46: 0.1634\n",
      "  V47: 0.1634\n",
      "  V44: 0.1634\n",
      "  V45: 0.1634\n",
      "  V37: 0.1634\n",
      "\n",
      "PC6:\n",
      "  C11: 0.2972\n",
      "  C1: 0.2966\n",
      "  C2: 0.2961\n",
      "  C6: 0.2943\n",
      "  C8: 0.2890\n",
      "  C10: 0.2885\n",
      "  C4: 0.2873\n",
      "  C7: 0.2853\n",
      "  C12: 0.2853\n",
      "  C14: 0.2843\n",
      "\n",
      "PC7:\n",
      "  M1: 0.1674\n",
      "  V11: 0.1669\n",
      "  V10: 0.1669\n",
      "  V1: 0.1669\n",
      "  V8: 0.1669\n",
      "  V9: 0.1669\n",
      "  V2: 0.1669\n",
      "  V6: 0.1669\n",
      "  V7: 0.1668\n",
      "  V3: 0.1668\n",
      "\n",
      "PC8:\n",
      "  V308: 0.2275\n",
      "  V306: 0.2234\n",
      "  V128: 0.2231\n",
      "  V126: 0.2059\n",
      "  V127: 0.1912\n",
      "  V320: 0.1809\n",
      "  V321: 0.1775\n",
      "  V319: 0.1704\n",
      "  V136: 0.1611\n",
      "  V137: 0.1584\n",
      "\n",
      "PC9:\n",
      "  id_22: 0.3330\n",
      "  id_26: 0.3327\n",
      "  id_07: 0.3327\n",
      "  id_08: 0.3325\n",
      "  id_27: 0.3323\n",
      "  id_25: 0.3313\n",
      "  id_21: 0.3294\n",
      "  id_24: 0.3211\n",
      "  id_23: 0.3190\n",
      "  id_18: 0.0413\n",
      "\n",
      "PC10:\n",
      "  V289: 0.3210\n",
      "  V288: 0.3210\n",
      "  V281: 0.3208\n",
      "  V301: 0.3207\n",
      "  V300: 0.3207\n",
      "  V283: 0.3206\n",
      "  V282: 0.3206\n",
      "  V296: 0.3202\n",
      "  V313: 0.1769\n",
      "  V315: 0.1575\n"
     ]
    },
    {
     "data": {
      "image/png": "[encoded data removed]",
      "text/plain": [
       "<Figure size 1200x600 with 1 Axes>"
      ]
     },
     "metadata": {},
     "output_type": "display_data"
    }
   ],
   "source": [
    "\n",
    "pca_contributions = np.abs(pca.components_)\n",
    "\n",
    "top_components = sorted_indices[:10] \n",
    "top_features = {}\n",
    "\n",
    "print(\"Top 10 PCA Components and Their Most Contributing Original Features:\")\n",
    "\n",
    "for pc_idx in top_components:\n",
    "\n",
    "    feature_contributions = pca_contributions[pc_idx]\n",
    "    top_feature_indices = feature_contributions.argsort()[::-1][:10]  \n",
    "    \n",
    "\n",
    "    feature_names = X_train.columns[top_feature_indices]\n",
    "    contributions = feature_contributions[top_feature_indices]\n",
    "    \n",
    "\n",
    "    top_features[f\"PC{pc_idx+1}\"] = list(zip(feature_names, contributions))\n",
    "\n",
    "    print(f\"\\nPC{pc_idx+1}:\")\n",
    "    for feature, contribution in zip(feature_names, contributions):\n",
    "        print(f\"  {feature}: {contribution:.4f}\")\n",
    "\n",
    "cumulative_variance = np.cumsum(explained_variance_ratio)\n",
    "\n",
    "\n",
    "plt.figure(figsize=(12, 6))\n",
    "plt.bar(range(1, len(explained_variance_ratio) + 1), explained_variance_ratio, alpha=0.5, label='Individual Explained Variance')\n",
    "plt.step(range(1, len(cumulative_variance) + 1), cumulative_variance, where='mid', label='Cumulative Explained Variance', color='orange')\n",
    "plt.xlabel('Principal Component Index')\n",
    "plt.ylabel('Explained Variance Ratio')\n",
    "plt.title('Explained Variance Ratio by Principal Component')\n",
    "plt.xticks(range(1, len(explained_variance_ratio) + 1, max(1, len(explained_variance_ratio) // 20))) \n",
    "plt.legend(loc='best')\n",
    "plt.tight_layout()\n",
    "plt.show()"
   ]
  },
  {
   "cell_type": "code",
   "execution_count": 47,
   "metadata": {},
   "outputs": [],
   "source": [
    "RF = RandomForestClassifier(n_estimators=100, random_state=42)\n",
    "RF.fit(X_train_pca, y_train)\n",
    "RF_preds = RF.predict_proba(X_test_pca)[:, 1]"
   ]
  },
  {
   "cell_type": "code",
   "execution_count": 49,
   "metadata": {},
   "outputs": [],
   "source": [
    "XGB = xgb.XGBClassifier(n_estimators=100,\n",
    "                        n_jobs=4,\n",
    "                        max_depth=7,\n",
    "                        learning_rate=0.05,\n",
    "                        subsample=0.9,\n",
    "                        colsample_bytree=0.9,\n",
    "                        missing=-999)\n",
    "\n",
    "XGB.fit(X_train_pca, y_train)\n",
    "XGB_preds = XGB.predict_proba(X_test_pca)[:, 1]"
   ]
  },
  {
   "cell_type": "code",
   "execution_count": 51,
   "metadata": {},
   "outputs": [],
   "source": [
    "stack_train = np.column_stack((\n",
    "    RF.predict_proba(X_train_pca)[:, 1],\n",
    "    XGB.predict_proba(X_train_pca)[:, 1]\n",
    "))\n",
    "stack_test = np.column_stack((RF_preds, XGB_preds))\n",
    "\n",
    "meta_model = LogisticRegression()\n",
    "meta_model.fit(stack_train, y_train)\n",
    "stack_preds = meta_model.predict_proba(stack_test)[:, 1]"
   ]
  },
  {
   "cell_type": "code",
   "execution_count": 54,
   "metadata": {},
   "outputs": [],
   "source": [
    "sample_submission['isFraud'] = stack_preds\n",
    "sample_submission.to_csv('attempt1.csv')"
   ]
  }
 ],
 "metadata": {
  "kernelspec": {
   "display_name": "Python 3",
   "language": "python",
   "name": "python3"
  },
  "language_info": {
   "codemirror_mode": {
    "name": "ipython",
    "version": 3
   },
   "file_extension": ".py",
   "mimetype": "text/x-python",
   "name": "python",
   "nbconvert_exporter": "python",
   "pygments_lexer": "ipython3",
   "version": "3.10.6"
  }
 },
 "nbformat": 4,
 "nbformat_minor": 2
}
