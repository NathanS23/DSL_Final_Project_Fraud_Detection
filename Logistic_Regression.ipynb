{
  "cells": [
    {
      "cell_type": "code",
      "execution_count": null,
      "metadata": {
        "colab": {
          "base_uri": "https://localhost:8080/"
        },
        "id": "mUJlkP1bP2hv",
        "outputId": "d79689c5-3680-4c8b-ed10-af878964373d"
      },
      "outputs": [
        {
          "output_type": "stream",
          "name": "stdout",
          "text": [
            "Mounted at /content/drive\n"
          ]
        }
      ],
      "source": [
        "from google.colab import drive\n",
        "drive.mount('/content/drive')\n"
      ]
    },
    {
      "cell_type": "code",
      "execution_count": null,
      "metadata": {
        "colab": {
          "base_uri": "https://localhost:8080/"
        },
        "id": "B8gIGzDPAdq6",
        "outputId": "17f5ce07-2d2f-4cf8-b3d3-495c7a80a64f"
      },
      "outputs": [
        {
          "output_type": "stream",
          "name": "stdout",
          "text": [
            "Cloning into 'rapidsai-csp-utils'...\n",
            "remote: Enumerating objects: 553, done.\u001b[K\n",
            "remote: Counting objects: 100% (284/284), done.\u001b[K\n",
            "remote: Compressing objects: 100% (182/182), done.\u001b[K\n",
            "remote: Total 553 (delta 179), reused 147 (delta 100), pack-reused 269 (from 1)\u001b[K\n",
            "Receiving objects: 100% (553/553), 178.44 KiB | 22.30 MiB/s, done.\n",
            "Resolving deltas: 100% (281/281), done.\n",
            "Collecting pynvml\n",
            "  Downloading pynvml-12.0.0-py3-none-any.whl.metadata (5.4 kB)\n",
            "Collecting nvidia-ml-py<13.0.0a0,>=12.0.0 (from pynvml)\n",
            "  Downloading nvidia_ml_py-12.560.30-py3-none-any.whl.metadata (8.6 kB)\n",
            "Downloading pynvml-12.0.0-py3-none-any.whl (26 kB)\n",
            "Downloading nvidia_ml_py-12.560.30-py3-none-any.whl (40 kB)\n",
            "   ━━━━━━━━━━━━━━━━━━━━━━━━━━━━━━━━━━━━━━━━ 40.5/40.5 kB 3.7 MB/s eta 0:00:00\n",
            "Installing collected packages: nvidia-ml-py, pynvml\n",
            "Successfully installed nvidia-ml-py-12.560.30 pynvml-12.0.0\n",
            "Installing RAPIDS remaining 24.10.* libraries\n",
            "Looking in indexes: https://pypi.org/simple, https://pypi.nvidia.com\n",
            "Requirement already satisfied: cudf-cu12==24.10.* in /usr/local/lib/python3.10/dist-packages (24.10.1)\n",
            "Collecting cuml-cu12==24.10.*\n",
            "  Downloading https://pypi.nvidia.com/cuml-cu12/cuml_cu12-24.10.0-cp310-cp310-manylinux_2_28_x86_64.whl (567.7 MB)\n",
            "     ━━━━━━━━━━━━━━━━━━━━━━━━━━━━━━━━━━━━━━━━ 567.7/567.7 MB 2.0 MB/s eta 0:00:00\n",
            "Collecting cugraph-cu12==24.10.*\n",
            "  Downloading https://pypi.nvidia.com/cugraph-cu12/cugraph_cu12-24.10.0-cp310-cp310-manylinux_2_28_x86_64.whl (1315.2 MB)\n",
            "     ━━━━━━━━━━━━━━━━━━━━━━━━━━━━━━━━━━━━━━━━ 1.3/1.3 GB 1.7 MB/s eta 0:00:00\n",
            "Collecting cuspatial-cu12==24.10.*\n",
            "  Downloading https://pypi.nvidia.com/cuspatial-cu12/cuspatial_cu12-24.10.0-cp310-cp310-manylinux_2_24_x86_64.manylinux_2_28_x86_64.whl (4.3 MB)\n",
            "     ━━━━━━━━━━━━━━━━━━━━━━━━━━━━━━━━━━━━━━━━ 4.3/4.3 MB 91.8 MB/s eta 0:00:00\n",
            "Collecting cuproj-cu12==24.10.*\n",
            "  Downloading https://pypi.nvidia.com/cuproj-cu12/cuproj_cu12-24.10.0-cp310-cp310-manylinux_2_24_x86_64.manylinux_2_28_x86_64.whl (915 kB)\n",
            "     ━━━━━━━━━━━━━━━━━━━━━━━━━━━━━━━━━━━━━━━━ 915.5/915.5 kB 49.5 MB/s eta 0:00:00\n",
            "Collecting cuxfilter-cu12==24.10.*\n",
            "  Downloading https://pypi.nvidia.com/cuxfilter-cu12/cuxfilter_cu12-24.10.0-py3-none-any.whl (83 kB)\n",
            "     ━━━━━━━━━━━━━━━━━━━━━━━━━━━━━━━━━━━━━━━━ 83.6/83.6 kB 7.1 MB/s eta 0:00:00\n",
            "Collecting cucim-cu12==24.10.*\n",
            "  Downloading https://pypi.nvidia.com/cucim-cu12/cucim_cu12-24.10.0-cp310-cp310-manylinux_2_28_x86_64.whl (5.6 MB)\n",
            "     ━━━━━━━━━━━━━━━━━━━━━━━━━━━━━━━━━━━━━━━━ 5.6/5.6 MB 101.0 MB/s eta 0:00:00\n",
            "Requirement already satisfied: pylibraft-cu12==24.10.* in /usr/local/lib/python3.10/dist-packages (24.10.0)\n",
            "Collecting raft-dask-cu12==24.10.*\n",
            "  Downloading https://pypi.nvidia.com/raft-dask-cu12/raft_dask_cu12-24.10.0-cp310-cp310-manylinux_2_28_x86_64.whl (196.9 MB)\n",
            "     ━━━━━━━━━━━━━━━━━━━━━━━━━━━━━━━━━━━━━━━━ 196.9/196.9 MB 5.0 MB/s eta 0:00:00\n",
            "Requirement already satisfied: nx-cugraph-cu12==24.10.* in /usr/local/lib/python3.10/dist-packages (24.10.0)\n",
            "Requirement already satisfied: aiohttp in /usr/local/lib/python3.10/dist-packages (3.11.9)\n",
            "Requirement already satisfied: cachetools in /usr/local/lib/python3.10/dist-packages (from cudf-cu12==24.10.*) (5.5.0)\n",
            "Requirement already satisfied: cuda-python<13.0a0,>=12.0 in /usr/local/lib/python3.10/dist-packages (from cudf-cu12==24.10.*) (12.2.1)\n",
            "Requirement already satisfied: cupy-cuda12x>=12.0.0 in /usr/local/lib/python3.10/dist-packages (from cudf-cu12==24.10.*) (12.2.0)\n",
            "Requirement already satisfied: fsspec>=0.6.0 in /usr/local/lib/python3.10/dist-packages (from cudf-cu12==24.10.*) (2024.10.0)\n",
            "Requirement already satisfied: libcudf-cu12==24.10.* in /usr/local/lib/python3.10/dist-packages (from cudf-cu12==24.10.*) (24.10.1)\n",
            "Requirement already satisfied: numba>=0.57 in /usr/local/lib/python3.10/dist-packages (from cudf-cu12==24.10.*) (0.60.0)\n",
            "Requirement already satisfied: numpy<3.0a0,>=1.23 in /usr/local/lib/python3.10/dist-packages (from cudf-cu12==24.10.*) (1.26.4)\n",
            "Requirement already satisfied: nvtx>=0.2.1 in /usr/local/lib/python3.10/dist-packages (from cudf-cu12==24.10.*) (0.2.10)\n",
            "Requirement already satisfied: packaging in /usr/local/lib/python3.10/dist-packages (from cudf-cu12==24.10.*) (24.2)\n",
            "Requirement already satisfied: pandas<2.2.3dev0,>=2.0 in /usr/local/lib/python3.10/dist-packages (from cudf-cu12==24.10.*) (2.2.2)\n",
            "Requirement already satisfied: pyarrow<18.0.0a0,>=14.0.0 in /usr/local/lib/python3.10/dist-packages (from cudf-cu12==24.10.*) (17.0.0)\n",
            "Requirement already satisfied: pylibcudf-cu12==24.10.* in /usr/local/lib/python3.10/dist-packages (from cudf-cu12==24.10.*) (24.10.1)\n",
            "Requirement already satisfied: pynvjitlink-cu12 in /usr/local/lib/python3.10/dist-packages (from cudf-cu12==24.10.*) (0.4.0)\n",
            "Requirement already satisfied: rich in /usr/local/lib/python3.10/dist-packages (from cudf-cu12==24.10.*) (13.9.4)\n",
            "Requirement already satisfied: rmm-cu12==24.10.* in /usr/local/lib/python3.10/dist-packages (from cudf-cu12==24.10.*) (24.10.0)\n",
            "Requirement already satisfied: typing_extensions>=4.0.0 in /usr/local/lib/python3.10/dist-packages (from cudf-cu12==24.10.*) (4.12.2)\n",
            "Collecting cuvs-cu12==24.10.* (from cuml-cu12==24.10.*)\n",
            "  Downloading https://pypi.nvidia.com/cuvs-cu12/cuvs_cu12-24.10.0-cp310-cp310-manylinux_2_28_x86_64.whl (836.6 MB)\n",
            "     ━━━━━━━━━━━━━━━━━━━━━━━━━━━━━━━━━━━━━━━━ 836.6/836.6 MB 2.1 MB/s eta 0:00:00\n",
            "Collecting dask-cuda==24.10.* (from cuml-cu12==24.10.*)\n",
            "  Downloading https://pypi.nvidia.com/dask-cuda/dask_cuda-24.10.0-py3-none-any.whl (133 kB)\n",
            "     ━━━━━━━━━━━━━━━━━━━━━━━━━━━━━━━━━━━━━━━━ 133.2/133.2 kB 11.3 MB/s eta 0:00:00\n",
            "Collecting dask-cudf-cu12==24.10.* (from cuml-cu12==24.10.*)\n",
            "  Downloading https://pypi.nvidia.com/dask-cudf-cu12/dask_cudf_cu12-24.10.1-py3-none-any.whl (56 kB)\n",
            "     ━━━━━━━━━━━━━━━━━━━━━━━━━━━━━━━━━━━━━━━━ 56.3/56.3 kB 4.6 MB/s eta 0:00:00\n",
            "Requirement already satisfied: joblib>=0.11 in /usr/local/lib/python3.10/dist-packages (from cuml-cu12==24.10.*) (1.4.2)\n",
            "Requirement already satisfied: nvidia-cublas-cu12 in /usr/local/lib/python3.10/dist-packages (from cuml-cu12==24.10.*) (12.6.4.1)\n",
            "Requirement already satisfied: nvidia-cufft-cu12 in /usr/local/lib/python3.10/dist-packages (from cuml-cu12==24.10.*) (11.3.0.4)\n",
            "Requirement already satisfied: nvidia-curand-cu12 in /usr/local/lib/python3.10/dist-packages (from cuml-cu12==24.10.*) (10.3.7.77)\n",
            "Requirement already satisfied: nvidia-cusolver-cu12 in /usr/local/lib/python3.10/dist-packages (from cuml-cu12==24.10.*) (11.7.1.2)\n",
            "Requirement already satisfied: nvidia-cusparse-cu12 in /usr/local/lib/python3.10/dist-packages (from cuml-cu12==24.10.*) (12.5.4.2)\n",
            "Collecting rapids-dask-dependency==24.10.* (from cuml-cu12==24.10.*)\n",
            "  Downloading https://pypi.nvidia.com/rapids-dask-dependency/rapids_dask_dependency-24.10.0-py3-none-any.whl (15 kB)\n",
            "Requirement already satisfied: scipy>=1.8.0 in /usr/local/lib/python3.10/dist-packages (from cuml-cu12==24.10.*) (1.13.1)\n",
            "Collecting treelite==4.3.0 (from cuml-cu12==24.10.*)\n",
            "  Downloading treelite-4.3.0-py3-none-manylinux2014_x86_64.whl.metadata (1.5 kB)\n",
            "Requirement already satisfied: pylibcugraph-cu12==24.10.* in /usr/local/lib/python3.10/dist-packages (from cugraph-cu12==24.10.*) (24.10.0)\n",
            "Collecting ucx-py-cu12==0.40.* (from cugraph-cu12==24.10.*)\n",
            "  Downloading https://pypi.nvidia.com/ucx-py-cu12/ucx_py_cu12-0.40.0-cp310-cp310-manylinux_2_17_x86_64.manylinux2014_x86_64.manylinux_2_28_x86_64.whl (2.1 MB)\n",
            "     ━━━━━━━━━━━━━━━━━━━━━━━━━━━━━━━━━━━━━━━━ 2.1/2.1 MB 72.4 MB/s eta 0:00:00\n",
            "Requirement already satisfied: geopandas>=1.0.0 in /usr/local/lib/python3.10/dist-packages (from cuspatial-cu12==24.10.*) (1.0.1)\n",
            "Collecting libcuspatial-cu12==24.10.* (from cuspatial-cu12==24.10.*)\n",
            "  Downloading https://pypi.nvidia.com/libcuspatial-cu12/libcuspatial_cu12-24.10.0-py3-none-manylinux_2_24_x86_64.manylinux_2_28_x86_64.whl (17.7 MB)\n",
            "     ━━━━━━━━━━━━━━━━━━━━━━━━━━━━━━━━━━━━━━━━ 17.7/17.7 MB 100.5 MB/s eta 0:00:00\n",
            "Requirement already satisfied: bokeh>=3.1 in /usr/local/lib/python3.10/dist-packages (from cuxfilter-cu12==24.10.*) (3.6.2)\n",
            "Collecting datashader>=0.15 (from cuxfilter-cu12==24.10.*)\n",
            "  Downloading datashader-0.16.3-py2.py3-none-any.whl.metadata (12 kB)\n",
            "Requirement already satisfied: holoviews>=1.16.0 in /usr/local/lib/python3.10/dist-packages (from cuxfilter-cu12==24.10.*) (1.20.0)\n",
            "Collecting jupyter-server-proxy (from cuxfilter-cu12==24.10.*)\n",
            "  Downloading jupyter_server_proxy-4.4.0-py3-none-any.whl.metadata (8.7 kB)\n",
            "Requirement already satisfied: panel>=1.0 in /usr/local/lib/python3.10/dist-packages (from cuxfilter-cu12==24.10.*) (1.5.4)\n",
            "Requirement already satisfied: click in /usr/local/lib/python3.10/dist-packages (from cucim-cu12==24.10.*) (8.1.7)\n",
            "Requirement already satisfied: lazy-loader>=0.1 in /usr/local/lib/python3.10/dist-packages (from cucim-cu12==24.10.*) (0.4)\n",
            "Requirement already satisfied: scikit-image<0.25.0a0,>=0.19.0 in /usr/local/lib/python3.10/dist-packages (from cucim-cu12==24.10.*) (0.24.0)\n",
            "Collecting distributed-ucxx-cu12==0.40.* (from raft-dask-cu12==24.10.*)\n",
            "  Downloading https://pypi.nvidia.com/distributed-ucxx-cu12/distributed_ucxx_cu12-0.40.0-py3-none-any.whl (24 kB)\n",
            "Requirement already satisfied: networkx>=3.0 in /usr/local/lib/python3.10/dist-packages (from nx-cugraph-cu12==24.10.*) (3.4.2)\n",
            "Collecting pynvml<11.5,>=11.0.0 (from dask-cuda==24.10.*->cuml-cu12==24.10.*)\n",
            "  Downloading pynvml-11.4.1-py3-none-any.whl.metadata (7.7 kB)\n",
            "Collecting zict>=2.0.0 (from dask-cuda==24.10.*->cuml-cu12==24.10.*)\n",
            "  Downloading zict-3.0.0-py2.py3-none-any.whl.metadata (899 bytes)\n",
            "Collecting ucxx-cu12==0.40.* (from distributed-ucxx-cu12==0.40.*->raft-dask-cu12==24.10.*)\n",
            "  Downloading https://pypi.nvidia.com/ucxx-cu12/ucxx_cu12-0.40.0-cp310-cp310-manylinux_2_27_x86_64.manylinux_2_28_x86_64.whl (722 kB)\n",
            "     ━━━━━━━━━━━━━━━━━━━━━━━━━━━━━━━━━━━━━━━━ 722.7/722.7 kB 40.3 MB/s eta 0:00:00\n",
            "Collecting dask==2024.9.0 (from rapids-dask-dependency==24.10.*->cuml-cu12==24.10.*)\n",
            "  Downloading dask-2024.9.0-py3-none-any.whl.metadata (3.7 kB)\n",
            "Collecting distributed==2024.9.0 (from rapids-dask-dependency==24.10.*->cuml-cu12==24.10.*)\n",
            "  Downloading distributed-2024.9.0-py3-none-any.whl.metadata (3.3 kB)\n",
            "Collecting dask-expr==1.1.14 (from rapids-dask-dependency==24.10.*->cuml-cu12==24.10.*)\n",
            "  Downloading dask_expr-1.1.14-py3-none-any.whl.metadata (2.5 kB)\n",
            "Collecting libucx-cu12<1.18,>=1.15.0 (from ucx-py-cu12==0.40.*->cugraph-cu12==24.10.*)\n",
            "  Downloading libucx_cu12-1.17.0.post1-py3-none-manylinux_2_28_x86_64.whl.metadata (2.9 kB)\n",
            "Requirement already satisfied: cloudpickle>=3.0.0 in /usr/local/lib/python3.10/dist-packages (from dask==2024.9.0->rapids-dask-dependency==24.10.*->cuml-cu12==24.10.*) (3.1.0)\n",
            "Requirement already satisfied: partd>=1.4.0 in /usr/local/lib/python3.10/dist-packages (from dask==2024.9.0->rapids-dask-dependency==24.10.*->cuml-cu12==24.10.*) (1.4.2)\n",
            "Requirement already satisfied: pyyaml>=5.3.1 in /usr/local/lib/python3.10/dist-packages (from dask==2024.9.0->rapids-dask-dependency==24.10.*->cuml-cu12==24.10.*) (6.0.2)\n",
            "Requirement already satisfied: toolz>=0.10.0 in /usr/local/lib/python3.10/dist-packages (from dask==2024.9.0->rapids-dask-dependency==24.10.*->cuml-cu12==24.10.*) (0.12.1)\n",
            "Requirement already satisfied: importlib-metadata>=4.13.0 in /usr/local/lib/python3.10/dist-packages (from dask==2024.9.0->rapids-dask-dependency==24.10.*->cuml-cu12==24.10.*) (8.5.0)\n",
            "Requirement already satisfied: jinja2>=2.10.3 in /usr/local/lib/python3.10/dist-packages (from distributed==2024.9.0->rapids-dask-dependency==24.10.*->cuml-cu12==24.10.*) (3.1.4)\n",
            "Requirement already satisfied: locket>=1.0.0 in /usr/local/lib/python3.10/dist-packages (from distributed==2024.9.0->rapids-dask-dependency==24.10.*->cuml-cu12==24.10.*) (1.0.0)\n",
            "Requirement already satisfied: msgpack>=1.0.2 in /usr/local/lib/python3.10/dist-packages (from distributed==2024.9.0->rapids-dask-dependency==24.10.*->cuml-cu12==24.10.*) (1.1.0)\n",
            "Requirement already satisfied: psutil>=5.8.0 in /usr/local/lib/python3.10/dist-packages (from distributed==2024.9.0->rapids-dask-dependency==24.10.*->cuml-cu12==24.10.*) (5.9.5)\n",
            "Collecting sortedcontainers>=2.0.5 (from distributed==2024.9.0->rapids-dask-dependency==24.10.*->cuml-cu12==24.10.*)\n",
            "  Downloading sortedcontainers-2.4.0-py2.py3-none-any.whl.metadata (10 kB)\n",
            "Collecting tblib>=1.6.0 (from distributed==2024.9.0->rapids-dask-dependency==24.10.*->cuml-cu12==24.10.*)\n",
            "  Downloading tblib-3.0.0-py3-none-any.whl.metadata (25 kB)\n",
            "Requirement already satisfied: tornado>=6.2.0 in /usr/local/lib/python3.10/dist-packages (from distributed==2024.9.0->rapids-dask-dependency==24.10.*->cuml-cu12==24.10.*) (6.3.3)\n",
            "Requirement already satisfied: urllib3>=1.26.5 in /usr/local/lib/python3.10/dist-packages (from distributed==2024.9.0->rapids-dask-dependency==24.10.*->cuml-cu12==24.10.*) (2.2.3)\n",
            "Collecting libucxx-cu12==0.40.* (from ucxx-cu12==0.40.*->distributed-ucxx-cu12==0.40.*->raft-dask-cu12==24.10.*)\n",
            "  Downloading https://pypi.nvidia.com/libucxx-cu12/libucxx_cu12-0.40.0-py3-none-manylinux_2_24_x86_64.manylinux_2_28_x86_64.whl (511 kB)\n",
            "     ━━━━━━━━━━━━━━━━━━━━━━━━━━━━━━━━━━━━━━━━ 511.7/511.7 kB 29.7 MB/s eta 0:00:00\n",
            "Requirement already satisfied: aiohappyeyeballs>=2.3.0 in /usr/local/lib/python3.10/dist-packages (from aiohttp) (2.4.4)\n",
            "Requirement already satisfied: aiosignal>=1.1.2 in /usr/local/lib/python3.10/dist-packages (from aiohttp) (1.3.1)\n",
            "Requirement already satisfied: async-timeout<6.0,>=4.0 in /usr/local/lib/python3.10/dist-packages (from aiohttp) (4.0.3)\n",
            "Requirement already satisfied: attrs>=17.3.0 in /usr/local/lib/python3.10/dist-packages (from aiohttp) (24.2.0)\n",
            "Requirement already satisfied: frozenlist>=1.1.1 in /usr/local/lib/python3.10/dist-packages (from aiohttp) (1.5.0)\n",
            "Requirement already satisfied: multidict<7.0,>=4.5 in /usr/local/lib/python3.10/dist-packages (from aiohttp) (6.1.0)\n",
            "Requirement already satisfied: propcache>=0.2.0 in /usr/local/lib/python3.10/dist-packages (from aiohttp) (0.2.1)\n",
            "Requirement already satisfied: yarl<2.0,>=1.17.0 in /usr/local/lib/python3.10/dist-packages (from aiohttp) (1.18.3)\n",
            "Requirement already satisfied: contourpy>=1.2 in /usr/local/lib/python3.10/dist-packages (from bokeh>=3.1->cuxfilter-cu12==24.10.*) (1.3.1)\n",
            "Requirement already satisfied: pillow>=7.1.0 in /usr/local/lib/python3.10/dist-packages (from bokeh>=3.1->cuxfilter-cu12==24.10.*) (11.0.0)\n",
            "Requirement already satisfied: xyzservices>=2021.09.1 in /usr/local/lib/python3.10/dist-packages (from bokeh>=3.1->cuxfilter-cu12==24.10.*) (2024.9.0)\n",
            "Requirement already satisfied: cython in /usr/local/lib/python3.10/dist-packages (from cuda-python<13.0a0,>=12.0->cudf-cu12==24.10.*) (3.0.11)\n",
            "Requirement already satisfied: fastrlock>=0.5 in /usr/local/lib/python3.10/dist-packages (from cupy-cuda12x>=12.0.0->cudf-cu12==24.10.*) (0.8.2)\n",
            "Requirement already satisfied: colorcet in /usr/local/lib/python3.10/dist-packages (from datashader>=0.15->cuxfilter-cu12==24.10.*) (3.1.0)\n",
            "Requirement already satisfied: multipledispatch in /usr/local/lib/python3.10/dist-packages (from datashader>=0.15->cuxfilter-cu12==24.10.*) (1.0.0)\n",
            "Requirement already satisfied: param in /usr/local/lib/python3.10/dist-packages (from datashader>=0.15->cuxfilter-cu12==24.10.*) (2.1.1)\n",
            "Collecting pyct (from datashader>=0.15->cuxfilter-cu12==24.10.*)\n",
            "  Downloading pyct-0.5.0-py2.py3-none-any.whl.metadata (7.4 kB)\n",
            "Requirement already satisfied: requests in /usr/local/lib/python3.10/dist-packages (from datashader>=0.15->cuxfilter-cu12==24.10.*) (2.32.3)\n",
            "Requirement already satisfied: xarray in /usr/local/lib/python3.10/dist-packages (from datashader>=0.15->cuxfilter-cu12==24.10.*) (2024.10.0)\n",
            "Requirement already satisfied: pyogrio>=0.7.2 in /usr/local/lib/python3.10/dist-packages (from geopandas>=1.0.0->cuspatial-cu12==24.10.*) (0.10.0)\n",
            "Requirement already satisfied: pyproj>=3.3.0 in /usr/local/lib/python3.10/dist-packages (from geopandas>=1.0.0->cuspatial-cu12==24.10.*) (3.7.0)\n",
            "Requirement already satisfied: shapely>=2.0.0 in /usr/local/lib/python3.10/dist-packages (from geopandas>=1.0.0->cuspatial-cu12==24.10.*) (2.0.6)\n",
            "Requirement already satisfied: pyviz-comms>=2.1 in /usr/local/lib/python3.10/dist-packages (from holoviews>=1.16.0->cuxfilter-cu12==24.10.*) (3.0.3)\n",
            "Requirement already satisfied: llvmlite<0.44,>=0.43.0dev0 in /usr/local/lib/python3.10/dist-packages (from numba>=0.57->cudf-cu12==24.10.*) (0.43.0)\n",
            "Requirement already satisfied: python-dateutil>=2.8.2 in /usr/local/lib/python3.10/dist-packages (from pandas<2.2.3dev0,>=2.0->cudf-cu12==24.10.*) (2.8.2)\n",
            "Requirement already satisfied: pytz>=2020.1 in /usr/local/lib/python3.10/dist-packages (from pandas<2.2.3dev0,>=2.0->cudf-cu12==24.10.*) (2024.2)\n",
            "Requirement already satisfied: tzdata>=2022.7 in /usr/local/lib/python3.10/dist-packages (from pandas<2.2.3dev0,>=2.0->cudf-cu12==24.10.*) (2024.2)\n",
            "Requirement already satisfied: bleach in /usr/local/lib/python3.10/dist-packages (from panel>=1.0->cuxfilter-cu12==24.10.*) (6.2.0)\n",
            "Requirement already satisfied: linkify-it-py in /usr/local/lib/python3.10/dist-packages (from panel>=1.0->cuxfilter-cu12==24.10.*) (2.0.3)\n",
            "Requirement already satisfied: markdown in /usr/local/lib/python3.10/dist-packages (from panel>=1.0->cuxfilter-cu12==24.10.*) (3.7)\n",
            "Requirement already satisfied: markdown-it-py in /usr/local/lib/python3.10/dist-packages (from panel>=1.0->cuxfilter-cu12==24.10.*) (3.0.0)\n",
            "Requirement already satisfied: mdit-py-plugins in /usr/local/lib/python3.10/dist-packages (from panel>=1.0->cuxfilter-cu12==24.10.*) (0.4.2)\n",
            "Requirement already satisfied: tqdm in /usr/local/lib/python3.10/dist-packages (from panel>=1.0->cuxfilter-cu12==24.10.*) (4.66.6)\n",
            "Requirement already satisfied: imageio>=2.33 in /usr/local/lib/python3.10/dist-packages (from scikit-image<0.25.0a0,>=0.19.0->cucim-cu12==24.10.*) (2.36.1)\n",
            "Requirement already satisfied: tifffile>=2022.8.12 in /usr/local/lib/python3.10/dist-packages (from scikit-image<0.25.0a0,>=0.19.0->cucim-cu12==24.10.*) (2024.9.20)\n",
            "Requirement already satisfied: idna>=2.0 in /usr/local/lib/python3.10/dist-packages (from yarl<2.0,>=1.17.0->aiohttp) (3.10)\n",
            "Requirement already satisfied: jupyter-server>=1.24.0 in /usr/local/lib/python3.10/dist-packages (from jupyter-server-proxy->cuxfilter-cu12==24.10.*) (1.24.0)\n",
            "Collecting simpervisor>=1.0.0 (from jupyter-server-proxy->cuxfilter-cu12==24.10.*)\n",
            "  Downloading simpervisor-1.0.0-py3-none-any.whl.metadata (4.3 kB)\n",
            "Requirement already satisfied: traitlets>=5.1.0 in /usr/local/lib/python3.10/dist-packages (from jupyter-server-proxy->cuxfilter-cu12==24.10.*) (5.7.1)\n",
            "Requirement already satisfied: nvidia-nvjitlink-cu12 in /usr/local/lib/python3.10/dist-packages (from nvidia-cufft-cu12->cuml-cu12==24.10.*) (12.6.85)\n",
            "Requirement already satisfied: pygments<3.0.0,>=2.13.0 in /usr/local/lib/python3.10/dist-packages (from rich->cudf-cu12==24.10.*) (2.18.0)\n",
            "Requirement already satisfied: MarkupSafe>=2.0 in /usr/local/lib/python3.10/dist-packages (from jinja2>=2.10.3->distributed==2024.9.0->rapids-dask-dependency==24.10.*->cuml-cu12==24.10.*) (3.0.2)\n",
            "Requirement already satisfied: anyio<4,>=3.1.0 in /usr/local/lib/python3.10/dist-packages (from jupyter-server>=1.24.0->jupyter-server-proxy->cuxfilter-cu12==24.10.*) (3.7.1)\n",
            "Requirement already satisfied: argon2-cffi in /usr/local/lib/python3.10/dist-packages (from jupyter-server>=1.24.0->jupyter-server-proxy->cuxfilter-cu12==24.10.*) (23.1.0)\n",
            "Requirement already satisfied: jupyter-client>=6.1.12 in /usr/local/lib/python3.10/dist-packages (from jupyter-server>=1.24.0->jupyter-server-proxy->cuxfilter-cu12==24.10.*) (6.1.12)\n",
            "Requirement already satisfied: jupyter-core!=5.0.*,>=4.12 in /usr/local/lib/python3.10/dist-packages (from jupyter-server>=1.24.0->jupyter-server-proxy->cuxfilter-cu12==24.10.*) (5.7.2)\n",
            "Requirement already satisfied: nbconvert>=6.4.4 in /usr/local/lib/python3.10/dist-packages (from jupyter-server>=1.24.0->jupyter-server-proxy->cuxfilter-cu12==24.10.*) (7.16.4)\n",
            "Requirement already satisfied: nbformat>=5.2.0 in /usr/local/lib/python3.10/dist-packages (from jupyter-server>=1.24.0->jupyter-server-proxy->cuxfilter-cu12==24.10.*) (5.10.4)\n",
            "Requirement already satisfied: prometheus-client in /usr/local/lib/python3.10/dist-packages (from jupyter-server>=1.24.0->jupyter-server-proxy->cuxfilter-cu12==24.10.*) (0.21.1)\n",
            "Requirement already satisfied: pyzmq>=17 in /usr/local/lib/python3.10/dist-packages (from jupyter-server>=1.24.0->jupyter-server-proxy->cuxfilter-cu12==24.10.*) (24.0.1)\n",
            "Requirement already satisfied: Send2Trash in /usr/local/lib/python3.10/dist-packages (from jupyter-server>=1.24.0->jupyter-server-proxy->cuxfilter-cu12==24.10.*) (1.8.3)\n",
            "Requirement already satisfied: terminado>=0.8.3 in /usr/local/lib/python3.10/dist-packages (from jupyter-server>=1.24.0->jupyter-server-proxy->cuxfilter-cu12==24.10.*) (0.18.1)\n",
            "Requirement already satisfied: websocket-client in /usr/local/lib/python3.10/dist-packages (from jupyter-server>=1.24.0->jupyter-server-proxy->cuxfilter-cu12==24.10.*) (1.8.0)\n",
            "Requirement already satisfied: mdurl~=0.1 in /usr/local/lib/python3.10/dist-packages (from markdown-it-py->panel>=1.0->cuxfilter-cu12==24.10.*) (0.1.2)\n",
            "Requirement already satisfied: certifi in /usr/local/lib/python3.10/dist-packages (from pyogrio>=0.7.2->geopandas>=1.0.0->cuspatial-cu12==24.10.*) (2024.8.30)\n",
            "Requirement already satisfied: six>=1.5 in /usr/local/lib/python3.10/dist-packages (from python-dateutil>=2.8.2->pandas<2.2.3dev0,>=2.0->cudf-cu12==24.10.*) (1.16.0)\n",
            "Requirement already satisfied: webencodings in /usr/local/lib/python3.10/dist-packages (from bleach->panel>=1.0->cuxfilter-cu12==24.10.*) (0.5.1)\n",
            "Requirement already satisfied: uc-micro-py in /usr/local/lib/python3.10/dist-packages (from linkify-it-py->panel>=1.0->cuxfilter-cu12==24.10.*) (1.0.3)\n",
            "Requirement already satisfied: charset-normalizer<4,>=2 in /usr/local/lib/python3.10/dist-packages (from requests->datashader>=0.15->cuxfilter-cu12==24.10.*) (3.4.0)\n",
            "Requirement already satisfied: sniffio>=1.1 in /usr/local/lib/python3.10/dist-packages (from anyio<4,>=3.1.0->jupyter-server>=1.24.0->jupyter-server-proxy->cuxfilter-cu12==24.10.*) (1.3.1)\n",
            "Requirement already satisfied: exceptiongroup in /usr/local/lib/python3.10/dist-packages (from anyio<4,>=3.1.0->jupyter-server>=1.24.0->jupyter-server-proxy->cuxfilter-cu12==24.10.*) (1.2.2)\n",
            "Requirement already satisfied: zipp>=3.20 in /usr/local/lib/python3.10/dist-packages (from importlib-metadata>=4.13.0->dask==2024.9.0->rapids-dask-dependency==24.10.*->cuml-cu12==24.10.*) (3.21.0)\n",
            "Requirement already satisfied: platformdirs>=2.5 in /usr/local/lib/python3.10/dist-packages (from jupyter-core!=5.0.*,>=4.12->jupyter-server>=1.24.0->jupyter-server-proxy->cuxfilter-cu12==24.10.*) (4.3.6)\n",
            "Requirement already satisfied: beautifulsoup4 in /usr/local/lib/python3.10/dist-packages (from nbconvert>=6.4.4->jupyter-server>=1.24.0->jupyter-server-proxy->cuxfilter-cu12==24.10.*) (4.12.3)\n",
            "Requirement already satisfied: defusedxml in /usr/local/lib/python3.10/dist-packages (from nbconvert>=6.4.4->jupyter-server>=1.24.0->jupyter-server-proxy->cuxfilter-cu12==24.10.*) (0.7.1)\n",
            "Requirement already satisfied: jupyterlab-pygments in /usr/local/lib/python3.10/dist-packages (from nbconvert>=6.4.4->jupyter-server>=1.24.0->jupyter-server-proxy->cuxfilter-cu12==24.10.*) (0.3.0)\n",
            "Requirement already satisfied: mistune<4,>=2.0.3 in /usr/local/lib/python3.10/dist-packages (from nbconvert>=6.4.4->jupyter-server>=1.24.0->jupyter-server-proxy->cuxfilter-cu12==24.10.*) (3.0.2)\n",
            "Requirement already satisfied: nbclient>=0.5.0 in /usr/local/lib/python3.10/dist-packages (from nbconvert>=6.4.4->jupyter-server>=1.24.0->jupyter-server-proxy->cuxfilter-cu12==24.10.*) (0.10.1)\n",
            "Requirement already satisfied: pandocfilters>=1.4.1 in /usr/local/lib/python3.10/dist-packages (from nbconvert>=6.4.4->jupyter-server>=1.24.0->jupyter-server-proxy->cuxfilter-cu12==24.10.*) (1.5.1)\n",
            "Requirement already satisfied: tinycss2 in /usr/local/lib/python3.10/dist-packages (from nbconvert>=6.4.4->jupyter-server>=1.24.0->jupyter-server-proxy->cuxfilter-cu12==24.10.*) (1.4.0)\n",
            "Requirement already satisfied: fastjsonschema>=2.15 in /usr/local/lib/python3.10/dist-packages (from nbformat>=5.2.0->jupyter-server>=1.24.0->jupyter-server-proxy->cuxfilter-cu12==24.10.*) (2.21.1)\n",
            "Requirement already satisfied: jsonschema>=2.6 in /usr/local/lib/python3.10/dist-packages (from nbformat>=5.2.0->jupyter-server>=1.24.0->jupyter-server-proxy->cuxfilter-cu12==24.10.*) (4.23.0)\n",
            "Requirement already satisfied: ptyprocess in /usr/local/lib/python3.10/dist-packages (from terminado>=0.8.3->jupyter-server>=1.24.0->jupyter-server-proxy->cuxfilter-cu12==24.10.*) (0.7.0)\n",
            "Requirement already satisfied: argon2-cffi-bindings in /usr/local/lib/python3.10/dist-packages (from argon2-cffi->jupyter-server>=1.24.0->jupyter-server-proxy->cuxfilter-cu12==24.10.*) (21.2.0)\n",
            "Requirement already satisfied: jsonschema-specifications>=2023.03.6 in /usr/local/lib/python3.10/dist-packages (from jsonschema>=2.6->nbformat>=5.2.0->jupyter-server>=1.24.0->jupyter-server-proxy->cuxfilter-cu12==24.10.*) (2024.10.1)\n",
            "Requirement already satisfied: referencing>=0.28.4 in /usr/local/lib/python3.10/dist-packages (from jsonschema>=2.6->nbformat>=5.2.0->jupyter-server>=1.24.0->jupyter-server-proxy->cuxfilter-cu12==24.10.*) (0.35.1)\n",
            "Requirement already satisfied: rpds-py>=0.7.1 in /usr/local/lib/python3.10/dist-packages (from jsonschema>=2.6->nbformat>=5.2.0->jupyter-server>=1.24.0->jupyter-server-proxy->cuxfilter-cu12==24.10.*) (0.22.3)\n",
            "Requirement already satisfied: cffi>=1.0.1 in /usr/local/lib/python3.10/dist-packages (from argon2-cffi-bindings->argon2-cffi->jupyter-server>=1.24.0->jupyter-server-proxy->cuxfilter-cu12==24.10.*) (1.17.1)\n",
            "Requirement already satisfied: soupsieve>1.2 in /usr/local/lib/python3.10/dist-packages (from beautifulsoup4->nbconvert>=6.4.4->jupyter-server>=1.24.0->jupyter-server-proxy->cuxfilter-cu12==24.10.*) (2.6)\n",
            "Requirement already satisfied: pycparser in /usr/local/lib/python3.10/dist-packages (from cffi>=1.0.1->argon2-cffi-bindings->argon2-cffi->jupyter-server>=1.24.0->jupyter-server-proxy->cuxfilter-cu12==24.10.*) (2.22)\n",
            "Downloading treelite-4.3.0-py3-none-manylinux2014_x86_64.whl (915 kB)\n",
            "   ━━━━━━━━━━━━━━━━━━━━━━━━━━━━━━━━━━━━━━━━ 916.0/916.0 kB 34.1 MB/s eta 0:00:00\n",
            "Downloading dask-2024.9.0-py3-none-any.whl (1.3 MB)\n",
            "   ━━━━━━━━━━━━━━━━━━━━━━━━━━━━━━━━━━━━━━━━ 1.3/1.3 MB 53.3 MB/s eta 0:00:00\n",
            "Downloading dask_expr-1.1.14-py3-none-any.whl (242 kB)\n",
            "   ━━━━━━━━━━━━━━━━━━━━━━━━━━━━━━━━━━━━━━━━ 242.6/242.6 kB 19.7 MB/s eta 0:00:00\n",
            "Downloading distributed-2024.9.0-py3-none-any.whl (1.0 MB)\n",
            "   ━━━━━━━━━━━━━━━━━━━━━━━━━━━━━━━━━━━━━━━━ 1.0/1.0 MB 48.6 MB/s eta 0:00:00\n",
            "Downloading datashader-0.16.3-py2.py3-none-any.whl (18.3 MB)\n",
            "   ━━━━━━━━━━━━━━━━━━━━━━━━━━━━━━━━━━━━━━━━ 18.3/18.3 MB 20.2 MB/s eta 0:00:00\n",
            "Downloading jupyter_server_proxy-4.4.0-py3-none-any.whl (37 kB)\n",
            "Downloading libucx_cu12-1.17.0.post1-py3-none-manylinux_2_28_x86_64.whl (26.9 MB)\n",
            "   ━━━━━━━━━━━━━━━━━━━━━━━━━━━━━━━━━━━━━━━━ 26.9/26.9 MB 81.0 MB/s eta 0:00:00\n",
            "Downloading pynvml-11.4.1-py3-none-any.whl (46 kB)\n",
            "   ━━━━━━━━━━━━━━━━━━━━━━━━━━━━━━━━━━━━━━━━ 47.0/47.0 kB 4.0 MB/s eta 0:00:00\n",
            "Downloading simpervisor-1.0.0-py3-none-any.whl (8.3 kB)\n",
            "Downloading zict-3.0.0-py2.py3-none-any.whl (43 kB)\n",
            "   ━━━━━━━━━━━━━━━━━━━━━━━━━━━━━━━━━━━━━━━━ 43.3/43.3 kB 3.9 MB/s eta 0:00:00\n",
            "Downloading pyct-0.5.0-py2.py3-none-any.whl (15 kB)\n",
            "Downloading sortedcontainers-2.4.0-py2.py3-none-any.whl (29 kB)\n",
            "Downloading tblib-3.0.0-py3-none-any.whl (12 kB)\n",
            "Installing collected packages: sortedcontainers, zict, tblib, simpervisor, pynvml, pyct, libucx-cu12, libcuspatial-cu12, ucx-py-cu12, treelite, libucxx-cu12, dask, cuproj-cu12, ucxx-cu12, distributed, dask-expr, cucim-cu12, rapids-dask-dependency, datashader, cuvs-cu12, distributed-ucxx-cu12, dask-cudf-cu12, dask-cuda, cuspatial-cu12, raft-dask-cu12, cuml-cu12, cugraph-cu12, jupyter-server-proxy, cuxfilter-cu12\n",
            "  Attempting uninstall: pynvml\n",
            "    Found existing installation: pynvml 12.0.0\n",
            "    Uninstalling pynvml-12.0.0:\n",
            "      Successfully uninstalled pynvml-12.0.0\n",
            "  Attempting uninstall: dask\n",
            "    Found existing installation: dask 2024.10.0\n",
            "    Uninstalling dask-2024.10.0:\n",
            "      Successfully uninstalled dask-2024.10.0\n",
            "Successfully installed cucim-cu12-24.10.0 cugraph-cu12-24.10.0 cuml-cu12-24.10.0 cuproj-cu12-24.10.0 cuspatial-cu12-24.10.0 cuvs-cu12-24.10.0 cuxfilter-cu12-24.10.0 dask-2024.9.0 dask-cuda-24.10.0 dask-cudf-cu12-24.10.1 dask-expr-1.1.14 datashader-0.16.3 distributed-2024.9.0 distributed-ucxx-cu12-0.40.0 jupyter-server-proxy-4.4.0 libcuspatial-cu12-24.10.0 libucx-cu12-1.17.0.post1 libucxx-cu12-0.40.0 pyct-0.5.0 pynvml-11.4.1 raft-dask-cu12-24.10.0 rapids-dask-dependency-24.10.0 simpervisor-1.0.0 sortedcontainers-2.4.0 tblib-3.0.0 treelite-4.3.0 ucx-py-cu12-0.40.0 ucxx-cu12-0.40.0 zict-3.0.0\n",
            "\n",
            "        ***********************************************************************\n",
            "        The pip install of RAPIDS is complete.\n",
            "\n",
            "        Please do not run any further installation from the conda based installation methods, as they may cause issues!\n",
            "\n",
            "        Please ensure that you're pulling from the git repo to remain updated with the latest working install scripts.\n",
            "\n",
            "        Troubleshooting:\n",
            "            - If there is an installation failure, please check back on RAPIDSAI owned templates/notebooks to see how to update your personal files.\n",
            "            - If an installation failure persists when using the latest script, please make an issue on https://github.com/rapidsai-community/rapidsai-csp-utils\n",
            "        ***********************************************************************\n",
            "        \n"
          ]
        }
      ],
      "source": [
        "# This get the RAPIDS-Colab install files and test check your GPU.  Run this and the next cell only.\n",
        "# Please read the output of this cell.  If your Colab Instance is not RAPIDS compatible, it will warn you and give you remediation steps.\n",
        "!git clone https://github.com/rapidsai/rapidsai-csp-utils.git\n",
        "!python rapidsai-csp-utils/colab/pip-install.py\n"
      ]
    },
    {
      "cell_type": "code",
      "execution_count": null,
      "metadata": {
        "id": "q1bqoEdaOTqm"
      },
      "outputs": [],
      "source": [
        "import pandas as pd\n",
        "import numpy as np\n",
        "import warnings\n",
        "\n",
        "warnings.filterwarnings('ignore')\n",
        "\n",
        "# Memory reduction function\n",
        "def reduce_mem_usage(df, verbose=True):\n",
        "    numerics = ['int16', 'int32', 'int64', 'float16', 'float32', 'float64']\n",
        "    start_mem = df.memory_usage().sum() / 1024**2\n",
        "    for col in df.columns:\n",
        "        col_type = df[col].dtypes\n",
        "        if col_type in numerics:\n",
        "            c_min = df[col].min()\n",
        "            c_max = df[col].max()\n",
        "            if str(col_type)[:3] == 'int':\n",
        "                if c_min > np.iinfo(np.int8).min and c_max < np.iinfo(np.int8).max:\n",
        "                    df[col] = df[col].astype(np.int8)\n",
        "                elif c_min > np.iinfo(np.int16).min and c_max < np.iinfo(np.int16).max:\n",
        "                    df[col] = df[col].astype(np.int16)\n",
        "                elif c_min > np.iinfo(np.int32).min and c_max < np.iinfo(np.int32).max:\n",
        "                    df[col] = df[col].astype(np.int32)\n",
        "                elif c_min > np.iinfo(np.int64).min and c_max < np.iinfo(np.int64).max:\n",
        "                    df[col] = df[col].astype(np.int64)\n",
        "            else:\n",
        "                if c_min > np.finfo(np.float16).min and c_max < np.finfo(np.float16).max:\n",
        "                    df[col] = df[col].astype(np.float16)\n",
        "                elif c_min > np.finfo(np.float32).min and c_max < np.finfo(np.float32).max:\n",
        "                    df[col] = df[col].astype(np.float32)\n",
        "                else:\n",
        "                    df[col] = df[col].astype(np.float64)\n",
        "    end_mem = df.memory_usage().sum() / 1024**2\n",
        "    if verbose:\n",
        "        print(f'Mem. usage decreased to {end_mem:.2f} Mb ({100 * (start_mem - end_mem) / start_mem:.1f}% reduction)')\n",
        "    return df\n",
        "\n",
        "# Combined preprocessing and UID detection\n",
        "def preprocess_and_detect_uid(train_df, test_df, train_identity=None, test_identity=None):\n",
        "    print(\"Starting preprocessing...\")\n",
        "\n",
        "    # Memory reduction\n",
        "    train_df = reduce_mem_usage(train_df)\n",
        "    test_df = reduce_mem_usage(test_df)\n",
        "\n",
        "    # Merge with identity datasets if provided\n",
        "    if train_identity is not None and test_identity is not None:\n",
        "        train_df = pd.merge(train_df, train_identity, on=\"TransactionID\", how=\"left\")\n",
        "        test_df = pd.merge(test_df, test_identity, on=\"TransactionID\", how=\"left\")\n",
        "\n",
        "    # Add full address feature\n",
        "    train_df['full_addr'] = train_df['addr1'].astype(str) + '_' + train_df['addr2'].astype(str)\n",
        "    test_df['full_addr'] = test_df['addr1'].astype(str) + '_' + test_df['addr2'].astype(str)\n",
        "\n",
        "    # Add time-based UID features\n",
        "    for col in ['D1', 'D2', 'D3', 'D5', 'D10', 'D11', 'D15']:\n",
        "        if col in train_df.columns:\n",
        "            new_col = 'uid_td_' + col\n",
        "            train_df[new_col] = train_df['TransactionDT'] / (24 * 60 * 60)\n",
        "            train_df[new_col] = np.floor(train_df[new_col] - train_df[col]) + 1000\n",
        "\n",
        "            test_df[new_col] = test_df['TransactionDT'] / (24 * 60 * 60)\n",
        "            test_df[new_col] = np.floor(test_df[new_col] - test_df[col]) + 1000\n",
        "\n",
        "    # Add normalized day feature\n",
        "    train_df['DT_day'] = np.floor(train_df['TransactionDT'] / (24 * 60 * 60)) + 1000\n",
        "    test_df['DT_day'] = np.floor(test_df['TransactionDT'] / (24 * 60 * 60)) + 1000\n",
        "\n",
        "    # Round transaction amounts for feature creation\n",
        "    train_df['TransactionAmt_fix'] = np.round(train_df['TransactionAmt'], 2)\n",
        "    test_df['TransactionAmt_fix'] = np.round(test_df['TransactionAmt'], 2)\n",
        "\n",
        "    # UID detection\n",
        "    train_df['uid'] = train_df['card1'].astype(str) + '_' + train_df['card2'].astype(str) + '_' + train_df['addr1'].astype(str)\n",
        "    test_df['uid'] = test_df['card1'].astype(str) + '_' + test_df['card2'].astype(str) + '_' + test_df['addr1'].astype(str)\n",
        "\n",
        "    # Frequency encoding for UID\n",
        "    uid_freq = pd.concat([train_df['uid'], test_df['uid']]).value_counts()\n",
        "    train_df['uid_count'] = train_df['uid'].map(uid_freq)\n",
        "    test_df['uid_count'] = test_df['uid'].map(uid_freq)\n",
        "\n",
        "    print(\"Preprocessing and UID detection complete.\")\n",
        "    return train_df, test_df\n",
        "\n",
        "\n",
        "\n"
      ]
    },
    {
      "cell_type": "code",
      "execution_count": null,
      "metadata": {
        "id": "qpcdTnzuP0nO"
      },
      "outputs": [],
      "source": [
        "train_df = pd.read_csv('drive/MyDrive/DSC_final_project/train_transaction.csv')\n",
        "train_identity = pd.read_csv('drive/MyDrive/DSC_final_project/train_identity.csv')\n",
        "test_df = pd.read_csv('drive/MyDrive/DSC_final_project/test_transaction.csv')\n",
        "test_identity = pd.read_csv('drive/MyDrive/DSC_final_project/test_identity.csv')"
      ]
    },
    {
      "cell_type": "code",
      "execution_count": null,
      "metadata": {
        "colab": {
          "base_uri": "https://localhost:8080/"
        },
        "id": "iBW0HCnJt1NC",
        "outputId": "16103951-d8ea-48bd-b068-d0440774573c"
      },
      "outputs": [
        {
          "output_type": "stream",
          "name": "stdout",
          "text": [
            "Starting preprocessing...\n",
            "Mem. usage decreased to 542.35 Mb (69.4% reduction)\n",
            "Mem. usage decreased to 472.59 Mb (68.9% reduction)\n",
            "Preprocessing and UID detection complete.\n"
          ]
        }
      ],
      "source": [
        "train_processed, test_processed = preprocess_and_detect_uid(train_df, test_df, train_identity, test_identity)"
      ]
    },
    {
      "cell_type": "code",
      "execution_count": null,
      "metadata": {
        "colab": {
          "base_uri": "https://localhost:8080/",
          "height": 458
        },
        "id": "lX4pKPt9t7pR",
        "outputId": "73cabaa8-91f9-4744-99ed-53961aab6b1f"
      },
      "outputs": [
        {
          "data": {
            "text/html": [
              "<div>\n",
              "<style scoped>\n",
              "    .dataframe tbody tr th:only-of-type {\n",
              "        vertical-align: middle;\n",
              "    }\n",
              "\n",
              "    .dataframe tbody tr th {\n",
              "        vertical-align: top;\n",
              "    }\n",
              "\n",
              "    .dataframe thead th {\n",
              "        text-align: right;\n",
              "    }\n",
              "</style>\n",
              "<table border=\"1\" class=\"dataframe\">\n",
              "  <thead>\n",
              "    <tr style=\"text-align: right;\">\n",
              "      <th></th>\n",
              "      <th>isFraud</th>\n",
              "    </tr>\n",
              "  </thead>\n",
              "  <tbody>\n",
              "    <tr>\n",
              "      <th>0</th>\n",
              "      <td>0</td>\n",
              "    </tr>\n",
              "    <tr>\n",
              "      <th>1</th>\n",
              "      <td>0</td>\n",
              "    </tr>\n",
              "    <tr>\n",
              "      <th>2</th>\n",
              "      <td>0</td>\n",
              "    </tr>\n",
              "    <tr>\n",
              "      <th>3</th>\n",
              "      <td>0</td>\n",
              "    </tr>\n",
              "    <tr>\n",
              "      <th>4</th>\n",
              "      <td>0</td>\n",
              "    </tr>\n",
              "    <tr>\n",
              "      <th>...</th>\n",
              "      <td>...</td>\n",
              "    </tr>\n",
              "    <tr>\n",
              "      <th>590535</th>\n",
              "      <td>0</td>\n",
              "    </tr>\n",
              "    <tr>\n",
              "      <th>590536</th>\n",
              "      <td>0</td>\n",
              "    </tr>\n",
              "    <tr>\n",
              "      <th>590537</th>\n",
              "      <td>0</td>\n",
              "    </tr>\n",
              "    <tr>\n",
              "      <th>590538</th>\n",
              "      <td>0</td>\n",
              "    </tr>\n",
              "    <tr>\n",
              "      <th>590539</th>\n",
              "      <td>0</td>\n",
              "    </tr>\n",
              "  </tbody>\n",
              "</table>\n",
              "<p>590540 rows × 1 columns</p>\n",
              "</div><br><label><b>dtype:</b> int8</label>"
            ],
            "text/plain": [
              "0         0\n",
              "1         0\n",
              "2         0\n",
              "3         0\n",
              "4         0\n",
              "         ..\n",
              "590535    0\n",
              "590536    0\n",
              "590537    0\n",
              "590538    0\n",
              "590539    0\n",
              "Name: isFraud, Length: 590540, dtype: int8"
            ]
          },
          "execution_count": 4,
          "metadata": {},
          "output_type": "execute_result"
        }
      ],
      "source": [
        "train_processed['isFraud']"
      ]
    },
    {
      "cell_type": "code",
      "execution_count": null,
      "metadata": {
        "id": "z4R4faSmRjXW"
      },
      "outputs": [],
      "source": [
        "from sklearn.preprocessing import StandardScaler, OneHotEncoder\n",
        "import pandas as pd\n",
        "import numpy as np\n",
        "import scipy.sparse as sp\n",
        "\n",
        "def preprocess_for_baseline_with_onehot_sparse(input_train_df, input_test_df, target_column='IsFraud'):\n",
        "    # Work on local copies to avoid modifying global variables\n",
        "    train_df = input_train_df.copy()\n",
        "    test_df = input_test_df.copy()\n",
        "\n",
        "    # Drop target column from training data\n",
        "    if target_column in train_df.columns:\n",
        "        train_df = train_df.drop(columns=[target_column])\n",
        "\n",
        "    # Identify numeric and categorical columns that exist in the datasets\n",
        "    numeric_columns = train_df.select_dtypes(include=['int64', 'float64']).columns\n",
        "    categorical_columns = train_df.select_dtypes(include=['object']).columns\n",
        "\n",
        "    # Ensure the columns exist in both train and test\n",
        "    numeric_columns = [col for col in numeric_columns if col in test_df.columns]\n",
        "    categorical_columns = [col for col in categorical_columns if col in test_df.columns]\n",
        "\n",
        "    # Handle missing values\n",
        "    train_df[numeric_columns] = train_df[numeric_columns].fillna(train_df[numeric_columns].median())\n",
        "    test_df[numeric_columns] = test_df[numeric_columns].fillna(test_df[numeric_columns].median())\n",
        "    train_df[categorical_columns] = train_df[categorical_columns].fillna('missing')\n",
        "    test_df[categorical_columns] = test_df[categorical_columns].fillna('missing')\n",
        "\n",
        "    # OneHotEncoder for categorical columns\n",
        "    if categorical_columns:\n",
        "        ohe = OneHotEncoder(handle_unknown='ignore')  # Use sparse matrices\n",
        "        train_categorical_sparse = ohe.fit_transform(train_df[categorical_columns])\n",
        "        test_categorical_sparse = ohe.transform(test_df[categorical_columns])\n",
        "\n",
        "        # Save memory by retaining sparse matrices\n",
        "        train_df = train_df.drop(columns=categorical_columns)\n",
        "        test_df = test_df.drop(columns=categorical_columns)\n",
        "\n",
        "    # Standardize numeric columns\n",
        "    if numeric_columns:\n",
        "        scaler = StandardScaler()\n",
        "        train_df[numeric_columns] = scaler.fit_transform(train_df[numeric_columns])\n",
        "        test_df[numeric_columns] = scaler.transform(test_df[numeric_columns])\n",
        "\n",
        "    # Convert numeric columns to sparse format and concatenate\n",
        "    if numeric_columns:\n",
        "        train_numeric_sparse = sp.csr_matrix(train_df[numeric_columns].values.astype(np.float32))\n",
        "        test_numeric_sparse = sp.csr_matrix(test_df[numeric_columns].values.astype(np.float32))\n",
        "\n",
        "        train_sparse = sp.hstack([train_numeric_sparse, train_categorical_sparse], format='csr')\n",
        "        test_sparse = sp.hstack([test_numeric_sparse, test_categorical_sparse], format='csr')\n",
        "    else:\n",
        "        train_sparse = train_categorical_sparse\n",
        "        test_sparse = test_categorical_sparse\n",
        "\n",
        "    return train_sparse, test_sparse\n"
      ]
    },
    {
      "cell_type": "code",
      "execution_count": null,
      "metadata": {
        "colab": {
          "base_uri": "https://localhost:8080/"
        },
        "id": "b7qLiLxt4wvp",
        "outputId": "9a685001-8162-46c5-b4ad-a99ce42778ad"
      },
      "outputs": [
        {
          "output_type": "stream",
          "name": "stdout",
          "text": [
            "Collecting optuna\n",
            "  Downloading optuna-4.1.0-py3-none-any.whl.metadata (16 kB)\n",
            "Collecting alembic>=1.5.0 (from optuna)\n",
            "  Downloading alembic-1.14.0-py3-none-any.whl.metadata (7.4 kB)\n",
            "Collecting colorlog (from optuna)\n",
            "  Downloading colorlog-6.9.0-py3-none-any.whl.metadata (10 kB)\n",
            "Requirement already satisfied: numpy in /usr/local/lib/python3.10/dist-packages (from optuna) (1.26.4)\n",
            "Requirement already satisfied: packaging>=20.0 in /usr/local/lib/python3.10/dist-packages (from optuna) (24.2)\n",
            "Requirement already satisfied: sqlalchemy>=1.4.2 in /usr/local/lib/python3.10/dist-packages (from optuna) (2.0.36)\n",
            "Requirement already satisfied: tqdm in /usr/local/lib/python3.10/dist-packages (from optuna) (4.66.6)\n",
            "Requirement already satisfied: PyYAML in /usr/local/lib/python3.10/dist-packages (from optuna) (6.0.2)\n",
            "Collecting Mako (from alembic>=1.5.0->optuna)\n",
            "  Downloading Mako-1.3.8-py3-none-any.whl.metadata (2.9 kB)\n",
            "Requirement already satisfied: typing-extensions>=4 in /usr/local/lib/python3.10/dist-packages (from alembic>=1.5.0->optuna) (4.12.2)\n",
            "Requirement already satisfied: greenlet!=0.4.17 in /usr/local/lib/python3.10/dist-packages (from sqlalchemy>=1.4.2->optuna) (3.1.1)\n",
            "Requirement already satisfied: MarkupSafe>=0.9.2 in /usr/local/lib/python3.10/dist-packages (from Mako->alembic>=1.5.0->optuna) (3.0.2)\n",
            "Downloading optuna-4.1.0-py3-none-any.whl (364 kB)\n",
            "\u001b[2K   \u001b[90m━━━━━━━━━━━━━━━━━━━━━━━━━━━━━━━━━━━━━━━━\u001b[0m \u001b[32m364.4/364.4 kB\u001b[0m \u001b[31m20.6 MB/s\u001b[0m eta \u001b[36m0:00:00\u001b[0m\n",
            "\u001b[?25hDownloading alembic-1.14.0-py3-none-any.whl (233 kB)\n",
            "\u001b[2K   \u001b[90m━━━━━━━━━━━━━━━━━━━━━━━━━━━━━━━━━━━━━━━━\u001b[0m \u001b[32m233.5/233.5 kB\u001b[0m \u001b[31m17.7 MB/s\u001b[0m eta \u001b[36m0:00:00\u001b[0m\n",
            "\u001b[?25hDownloading colorlog-6.9.0-py3-none-any.whl (11 kB)\n",
            "Downloading Mako-1.3.8-py3-none-any.whl (78 kB)\n",
            "\u001b[2K   \u001b[90m━━━━━━━━━━━━━━━━━━━━━━━━━━━━━━━━━━━━━━━━\u001b[0m \u001b[32m78.6/78.6 kB\u001b[0m \u001b[31m6.1 MB/s\u001b[0m eta \u001b[36m0:00:00\u001b[0m\n",
            "\u001b[?25hInstalling collected packages: Mako, colorlog, alembic, optuna\n",
            "Successfully installed Mako-1.3.8 alembic-1.14.0 colorlog-6.9.0 optuna-4.1.0\n"
          ]
        }
      ],
      "source": [
        "!pip install optuna"
      ]
    },
    {
      "cell_type": "code",
      "execution_count": null,
      "metadata": {
        "id": "OZmAfYVSX1lV"
      },
      "outputs": [],
      "source": [
        "prepocessed_train, prepocessed_test = preprocess_for_baseline_with_onehot_sparse(train_processed, test_processed)"
      ]
    },
    {
      "cell_type": "code",
      "execution_count": null,
      "metadata": {
        "colab": {
          "base_uri": "https://localhost:8080/"
        },
        "id": "gSbpd3HcX-9g",
        "outputId": "ed3602f1-628f-4ec9-9529-9141051b1ae6"
      },
      "outputs": [
        {
          "name": "stderr",
          "output_type": "stream",
          "text": [
            "[I 2024-12-06 22:48:29,737] A new study created in memory with name: GPU Logistic Regression Tuning\n"
          ]
        },
        {
          "name": "stdout",
          "output_type": "stream",
          "text": [
            "0.34131738696261177\n",
            "0.34239190083931176\n",
            "0.3419132316833835\n",
            "0.3426304954744556\n"
          ]
        },
        {
          "name": "stderr",
          "output_type": "stream",
          "text": [
            "[I 2024-12-06 22:49:01,933] Trial 0 finished with value: 0.34279517543590854 and parameters: {'C': 1.01974693075021}. Best is trial 0 with value: 0.34279517543590854.\n"
          ]
        },
        {
          "name": "stdout",
          "output_type": "stream",
          "text": [
            "0.34279517543590854\n",
            "0.5423706705689512\n",
            "0.5436765141459714\n",
            "0.5418103523528651\n",
            "0.5421215506057802\n"
          ]
        },
        {
          "name": "stderr",
          "output_type": "stream",
          "text": [
            "[I 2024-12-06 22:49:04,745] Trial 1 finished with value: 0.542082529078044 and parameters: {'C': 0.0003798170803813578}. Best is trial 0 with value: 0.34279517543590854.\n"
          ]
        },
        {
          "name": "stdout",
          "output_type": "stream",
          "text": [
            "0.542082529078044\n",
            "0.524332550162172\n",
            "0.5255865391604699\n",
            "0.5238089754980525\n",
            "0.5241377068823354\n"
          ]
        },
        {
          "name": "stderr",
          "output_type": "stream",
          "text": [
            "[I 2024-12-06 22:49:08,835] Trial 2 finished with value: 0.5240172889562312 and parameters: {'C': 0.0015206657059152293}. Best is trial 0 with value: 0.34279517543590854.\n"
          ]
        },
        {
          "name": "stdout",
          "output_type": "stream",
          "text": [
            "0.5240172889562312\n",
            "0.5530617154143186\n",
            "0.5543585477337452\n",
            "0.5525429869472152\n",
            "0.5528422895021006\n"
          ]
        },
        {
          "name": "stderr",
          "output_type": "stream",
          "text": [
            "[I 2024-12-06 22:49:10,834] Trial 3 finished with value: 0.5528319916233693 and parameters: {'C': 0.00012380435805592387}. Best is trial 0 with value: 0.34279517543590854.\n"
          ]
        },
        {
          "name": "stdout",
          "output_type": "stream",
          "text": [
            "0.5528319916233693\n",
            "0.3323631435453769\n",
            "0.33329342072318413\n",
            "0.33281221895952334\n",
            "0.3334859214261799\n"
          ]
        },
        {
          "name": "stderr",
          "output_type": "stream",
          "text": [
            "[I 2024-12-06 22:49:51,893] Trial 4 finished with value: 0.3337574715007993 and parameters: {'C': 3.2630018283171065}. Best is trial 4 with value: 0.3337574715007993.\n"
          ]
        },
        {
          "name": "stdout",
          "output_type": "stream",
          "text": [
            "0.3337574715007993\n",
            "0.459134745275502\n",
            "0.46049079493125533\n",
            "0.45902838284708086\n",
            "0.4594165649148779\n"
          ]
        },
        {
          "name": "stderr",
          "output_type": "stream",
          "text": [
            "[I 2024-12-06 22:50:00,067] Trial 5 finished with value: 0.4591334236035164 and parameters: {'C': 0.018725874984155462}. Best is trial 4 with value: 0.3337574715007993.\n"
          ]
        },
        {
          "name": "stdout",
          "output_type": "stream",
          "text": [
            "0.4591334236035164\n",
            "0.5435457388690567\n",
            "0.5448655813372146\n",
            "0.5430198807671651\n",
            "0.5433453850074158\n"
          ]
        },
        {
          "name": "stderr",
          "output_type": "stream",
          "text": [
            "[I 2024-12-06 22:50:02,705] Trial 6 finished with value: 0.5433286683091199 and parameters: {'C': 0.0003339021920351738}. Best is trial 4 with value: 0.3337574715007993.\n"
          ]
        },
        {
          "name": "stdout",
          "output_type": "stream",
          "text": [
            "0.5433286683091199\n",
            "0.4029764542959232\n",
            "0.40401890991743944\n",
            "0.40304004648185604\n",
            "0.4036594683626384\n"
          ]
        },
        {
          "name": "stderr",
          "output_type": "stream",
          "text": [
            "[I 2024-12-06 22:50:16,589] Trial 7 finished with value: 0.40346242556842765 and parameters: {'C': 0.08780659878691065}. Best is trial 4 with value: 0.3337574715007993.\n"
          ]
        },
        {
          "name": "stdout",
          "output_type": "stream",
          "text": [
            "0.40346242556842765\n",
            "0.44020551772909233\n",
            "0.44134749653267913\n",
            "0.43987112851762494\n",
            "0.44048108915888656\n"
          ]
        },
        {
          "name": "stderr",
          "output_type": "stream",
          "text": [
            "[I 2024-12-06 22:50:26,828] Trial 8 finished with value: 0.44022465727124027 and parameters: {'C': 0.03179939398625025}. Best is trial 4 with value: 0.3337574715007993.\n"
          ]
        },
        {
          "name": "stdout",
          "output_type": "stream",
          "text": [
            "0.44022465727124027\n",
            "0.5421813597768301\n",
            "0.5435136789509618\n",
            "0.5416640691871586\n",
            "0.5419964967591778\n"
          ]
        },
        {
          "name": "stderr",
          "output_type": "stream",
          "text": [
            "[I 2024-12-06 22:50:29,698] Trial 9 finished with value: 0.5419718725590539 and parameters: {'C': 0.0003839211814373898}. Best is trial 4 with value: 0.3337574715007993.\n"
          ]
        },
        {
          "name": "stdout",
          "output_type": "stream",
          "text": [
            "0.5419718725590539\n",
            "0.33213982623007443\n",
            "0.33245041836116185\n",
            "0.3321308975505203\n",
            "0.3328353203993377\n"
          ]
        },
        {
          "name": "stderr",
          "output_type": "stream",
          "text": [
            "[I 2024-12-06 22:51:29,612] Trial 10 finished with value: 0.33314724297784404 and parameters: {'C': 40.864817467513994}. Best is trial 10 with value: 0.33314724297784404.\n"
          ]
        },
        {
          "name": "stdout",
          "output_type": "stream",
          "text": [
            "0.33314724297784404\n",
            "0.3320909269962667\n",
            "0.33244488823492835\n",
            "0.3324241051195297\n",
            "0.3331939808200488\n"
          ]
        },
        {
          "name": "stderr",
          "output_type": "stream",
          "text": [
            "[I 2024-12-06 22:52:32,239] Trial 11 finished with value: 0.3335528535729252 and parameters: {'C': 56.958407270148115}. Best is trial 10 with value: 0.33314724297784404.\n"
          ]
        },
        {
          "name": "stdout",
          "output_type": "stream",
          "text": [
            "0.3335528535729252\n",
            "0.3322659734684514\n",
            "0.3330359640542784\n",
            "0.33268020786901703\n",
            "0.3332435467895212\n"
          ]
        },
        {
          "name": "stderr",
          "output_type": "stream",
          "text": [
            "[I 2024-12-06 22:53:40,853] Trial 12 finished with value: 0.33378008942094745 and parameters: {'C': 78.56796146426251}. Best is trial 10 with value: 0.33314724297784404.\n"
          ]
        },
        {
          "name": "stdout",
          "output_type": "stream",
          "text": [
            "0.33378008942094745\n",
            "0.33155518042842486\n",
            "0.33205988317720786\n",
            "0.3317900519920378\n",
            "0.33247565169674076\n"
          ]
        },
        {
          "name": "stderr",
          "output_type": "stream",
          "text": [
            "[I 2024-12-06 22:54:35,997] Trial 13 finished with value: 0.3329529804087489 and parameters: {'C': 42.85890095129514}. Best is trial 13 with value: 0.3329529804087489.\n"
          ]
        },
        {
          "name": "stdout",
          "output_type": "stream",
          "text": [
            "0.3329529804087489\n",
            "0.33095166285936584\n",
            "0.33180816948140246\n",
            "0.33149857885943124\n",
            "0.3322780237950773\n"
          ]
        },
        {
          "name": "stderr",
          "output_type": "stream",
          "text": [
            "[I 2024-12-06 22:55:22,972] Trial 14 finished with value: 0.33258721210939185 and parameters: {'C': 4.485989414870252}. Best is trial 14 with value: 0.33258721210939185.\n"
          ]
        },
        {
          "name": "stdout",
          "output_type": "stream",
          "text": [
            "0.33258721210939185\n",
            "0.33100999481912097\n",
            "0.33208499033060634\n",
            "0.33169108653888135\n",
            "0.3324039419569283\n"
          ]
        },
        {
          "name": "stderr",
          "output_type": "stream",
          "text": [
            "[I 2024-12-06 22:56:06,486] Trial 15 finished with value: 0.3327363756026286 and parameters: {'C': 4.373708550421695}. Best is trial 14 with value: 0.33258721210939185.\n"
          ]
        },
        {
          "name": "stdout",
          "output_type": "stream",
          "text": [
            "0.3327363756026286\n",
            "0.33304114828307774\n",
            "0.33402101642539\n",
            "0.33381573982657425\n",
            "0.33466190273304497\n"
          ]
        },
        {
          "name": "stderr",
          "output_type": "stream",
          "text": [
            "[I 2024-12-06 22:56:45,657] Trial 16 finished with value: 0.3349150317571402 and parameters: {'C': 2.521610413748298}. Best is trial 14 with value: 0.33258721210939185.\n"
          ]
        },
        {
          "name": "stdout",
          "output_type": "stream",
          "text": [
            "0.3349150317571402\n",
            "0.33027674084955\n",
            "0.3309702902125936\n",
            "0.33071998484902454\n",
            "0.3314977431849833\n"
          ]
        },
        {
          "name": "stderr",
          "output_type": "stream",
          "text": [
            "[I 2024-12-06 22:57:32,568] Trial 17 finished with value: 0.3318781557968956 and parameters: {'C': 7.523470284010317}. Best is trial 17 with value: 0.3318781557968956.\n"
          ]
        },
        {
          "name": "stdout",
          "output_type": "stream",
          "text": [
            "0.3318781557968956\n",
            "0.3678279997668923\n",
            "0.36903353472062717\n",
            "0.3685479855929628\n",
            "0.3692728424075452\n"
          ]
        },
        {
          "name": "stderr",
          "output_type": "stream",
          "text": [
            "[I 2024-12-06 22:57:53,701] Trial 18 finished with value: 0.36926760198165354 and parameters: {'C': 0.26361324769032213}. Best is trial 17 with value: 0.3318781557968956.\n"
          ]
        },
        {
          "name": "stdout",
          "output_type": "stream",
          "text": [
            "0.36926760198165354\n",
            "0.33057453024747585\n",
            "0.3310828940586367\n",
            "0.3307358527172471\n",
            "0.33150242241198435\n"
          ]
        },
        {
          "name": "stderr",
          "output_type": "stream",
          "text": [
            "[I 2024-12-06 22:58:46,346] Trial 19 finished with value: 0.33191341496367394 and parameters: {'C': 12.121541808000616}. Best is trial 17 with value: 0.3318781557968956.\n"
          ]
        },
        {
          "name": "stdout",
          "output_type": "stream",
          "text": [
            "0.33191341496367394\n",
            "Best trial:\n",
            "{'C': 7.523470284010317}\n"
          ]
        }
      ],
      "source": [
        "import optuna\n",
        "import cupy as cp\n",
        "import cupyx.scipy.sparse as cps\n",
        "from cuml.linear_model import LogisticRegression\n",
        "from sklearn.metrics import log_loss, roc_auc_score, f1_score, precision_score, recall_score\n",
        "from sklearn.model_selection import StratifiedKFold\n",
        "import numpy as np\n",
        "\n",
        "# Target variable\n",
        "y_train = train_processed['isFraud']\n",
        "\n",
        "# Objective function for Optuna\n",
        "def objective(trial):\n",
        "    # Define hyperparameters to tune\n",
        "    param = {\n",
        "        \"C\": trial.suggest_loguniform(\"C\", 1e-4, 1e2),  # Regularization strength\n",
        "        \"solver\": \"qn\",  # Use quasi-Newton solver (cuML only supports this)\n",
        "        \"penalty\": \"l2\",  # L2 regularization only\n",
        "        \"class_weight\": \"balanced\",  # Handle imbalanced data\n",
        "        \"max_iter\": 10000,\n",
        "        \"tol\": 1e-4\n",
        "    }\n",
        "\n",
        "    # Logistic Regression using cuML (GPU)\n",
        "    model = LogisticRegression(**param)\n",
        "\n",
        "    # Stratified K-Fold Cross-Validation\n",
        "    cv = StratifiedKFold(n_splits=5, shuffle=True, random_state=42)\n",
        "    log_losses = []\n",
        "\n",
        "    for train_idx, val_idx in cv.split(prepocessed_train, y_train):\n",
        "        # Convert to GPU sparse matrices\n",
        "        X_train = cps.csr_matrix(prepocessed_train[train_idx])\n",
        "        X_val = cps.csr_matrix(prepocessed_train[val_idx])\n",
        "        y_train_fold = cp.array(y_train.iloc[train_idx])\n",
        "        y_val_fold = cp.array(y_train.iloc[val_idx])\n",
        "\n",
        "        # Train the model\n",
        "        model.fit(X_train, y_train_fold)\n",
        "\n",
        "        # Predict probabilities\n",
        "        y_val_pred_proba = model.predict_proba(X_val)[:, 1]\n",
        "\n",
        "        # Calculate log loss\n",
        "        log_losses.append(log_loss(y_val_fold.get(), y_val_pred_proba.get()))\n",
        "        print(np.mean(log_losses))\n",
        "    # Return mean log loss\n",
        "    return np.mean(log_losses)\n",
        "\n",
        "# Optuna study\n",
        "study = optuna.create_study(direction=\"minimize\", study_name=\"GPU Logistic Regression Tuning\")\n",
        "study.optimize(objective, n_trials=20)\n",
        "\n",
        "# Best trial parameters\n",
        "print(\"Best trial:\")\n",
        "print(study.best_trial.params)\n"
      ]
    },
    {
      "cell_type": "code",
      "execution_count": null,
      "metadata": {
        "colab": {
          "base_uri": "https://localhost:8080/"
        },
        "id": "ZwT2E_M9M6mq",
        "outputId": "b432c9c1-5635-4598-d2f2-fea944445653"
      },
      "outputs": [
        {
          "output_type": "stream",
          "name": "stdout",
          "text": [
            "[W] [16:29:33.442725] L-BFGS: max iterations reached\n",
            "[W] [16:29:33.444571] Maximum iterations reached before solver is converged. To increase model accuracy you can increase the number of iterations (max_iter) or improve the scaling of the input data.\n",
            "[W] [16:29:40.874539] L-BFGS: max iterations reached\n",
            "[W] [16:29:40.876043] Maximum iterations reached before solver is converged. To increase model accuracy you can increase the number of iterations (max_iter) or improve the scaling of the input data.\n",
            "[W] [16:29:46.355304] L-BFGS: max iterations reached\n",
            "[W] [16:29:46.356845] Maximum iterations reached before solver is converged. To increase model accuracy you can increase the number of iterations (max_iter) or improve the scaling of the input data.\n",
            "[W] [16:29:52.252562] L-BFGS: max iterations reached\n",
            "[W] [16:29:52.253673] Maximum iterations reached before solver is converged. To increase model accuracy you can increase the number of iterations (max_iter) or improve the scaling of the input data.\n",
            "[W] [16:29:58.061924] L-BFGS: max iterations reached\n",
            "[W] [16:29:58.063630] Maximum iterations reached before solver is converged. To increase model accuracy you can increase the number of iterations (max_iter) or improve the scaling of the input data.\n",
            "Final Cross-Validation Metrics with Best Parameters:\n",
            "Mean Log Loss: 0.0987\n",
            "Mean AUC Score: 0.9007\n",
            "Mean F1 Score: 0.3377\n",
            "Mean Precision: 0.7346\n",
            "Mean Recall: 0.2192\n"
          ]
        }
      ],
      "source": [
        "# Cross-validation with Best Parameters\n",
        "# best_params = study.best_trial.params\n",
        "\n",
        "import optuna\n",
        "import cupy as cp\n",
        "import cupyx.scipy.sparse as cps\n",
        "from cuml.linear_model import LogisticRegression\n",
        "from sklearn.metrics import log_loss, roc_auc_score, f1_score, precision_score, recall_score\n",
        "from sklearn.model_selection import StratifiedKFold\n",
        "import numpy as np\n",
        "best_params = {'C': 7.523470284010317}\n",
        "model = LogisticRegression(**best_params)\n",
        "cv = StratifiedKFold(n_splits=5, shuffle=True, random_state=42)\n",
        "\n",
        "auc_scores = []\n",
        "f1_scores = []\n",
        "precision_scores = []\n",
        "recall_scores = []\n",
        "log_losses = []\n",
        "\n",
        "for train_idx, val_idx in cv.split(prepocessed_train, y_train):\n",
        "    X_train = cps.csr_matrix(prepocessed_train[train_idx])\n",
        "    X_val = cps.csr_matrix(prepocessed_train[val_idx])\n",
        "    y_train_fold = cp.array(y_train.iloc[train_idx])\n",
        "    y_val_fold = cp.array(y_train.iloc[val_idx])\n",
        "\n",
        "    # Train with best parameters\n",
        "    model.fit(X_train, y_train_fold)\n",
        "\n",
        "    # Predict probabilities and classes\n",
        "    y_val_pred_proba = model.predict_proba(X_val)[:, 1]\n",
        "    y_val_pred = (y_val_pred_proba > 0.5).astype(int)  # Threshold for binary classification\n",
        "\n",
        "    # Metrics\n",
        "    log_losses.append(log_loss(y_val_fold.get(), y_val_pred_proba.get()))\n",
        "    auc_scores.append(roc_auc_score(y_val_fold.get(), y_val_pred_proba.get()))\n",
        "    f1_scores.append(f1_score(y_val_fold.get(), y_val_pred.get()))\n",
        "    precision_scores.append(precision_score(y_val_fold.get(), y_val_pred.get()))\n",
        "    recall_scores.append(recall_score(y_val_fold.get(), y_val_pred.get()))\n",
        "\n",
        "# Print Final Metrics\n",
        "print(\"Final Cross-Validation Metrics with Best Parameters:\")\n",
        "print(f\"Mean Log Loss: {np.mean(log_losses):.4f}\")\n",
        "print(f\"Mean AUC Score: {np.mean(auc_scores):.4f}\")\n",
        "print(f\"Mean F1 Score: {np.mean(f1_scores):.4f}\")\n",
        "print(f\"Mean Precision: {np.mean(precision_scores):.4f}\")\n",
        "print(f\"Mean Recall: {np.mean(recall_scores):.4f}\")\n"
      ]
    },
    {
      "cell_type": "code",
      "execution_count": null,
      "metadata": {
        "id": "ldqr9FdIrNgy"
      },
      "outputs": [],
      "source": [
        "from scipy.sparse import save_npz, load_npz\n",
        "\n",
        "# Save sparse matrices\n",
        "save_npz('drive/MyDrive/DSC_final_project/train_sparse_BASELINE_LOGISTIC.npz', prepocessed_train)\n",
        "save_npz('drive/MyDrive/DSC_final_project/test_sparse_BASELINE_LOGISTIC.npz', prepocessed_test)\n",
        "\n",
        "# Load sparse matrices\n",
        "train_sparse = load_npz('drive/MyDrive/DSC_final_project/train_sparse_BASELINE_LOGISTIC.npz')\n",
        "test_sparse = load_npz('drive/MyDrive/DSC_final_project/test_sparse_BASELINE_LOGISTIC.npz')\n"
      ]
    },
    {
      "cell_type": "code",
      "execution_count": null,
      "metadata": {
        "id": "KydlhprQs0RS"
      },
      "outputs": [],
      "source": [
        "predicted_proba = model.predict_proba(prepocessed_test)[:, 1]"
      ]
    },
    {
      "cell_type": "code",
      "execution_count": null,
      "metadata": {
        "colab": {
          "base_uri": "https://localhost:8080/"
        },
        "id": "KWL44R-kQrzm",
        "outputId": "de2d4b48-c24b-4c28-fc45-a3c38a9b4d9a"
      },
      "outputs": [
        {
          "data": {
            "text/plain": [
              "array([0.00148378, 0.01873477, 0.00662038, ..., 0.05206139, 0.01982539,\n",
              "       0.0039593 ])"
            ]
          },
          "execution_count": 22,
          "metadata": {},
          "output_type": "execute_result"
        }
      ],
      "source": [
        "predicted_proba"
      ]
    },
    {
      "cell_type": "code",
      "source": [
        "predicted_proba_test_logistic_Regression_baseline_for_Stacking = model.predict_proba(prepocessed_test)[:, 1]"
      ],
      "metadata": {
        "id": "8LuXfDo5I7ZZ"
      },
      "execution_count": null,
      "outputs": []
    },
    {
      "cell_type": "code",
      "source": [
        "predicted_proba_train_logistic_Regression_baseline_for_Stacking = model.predict_proba(prepocessed_train)[:, 1]"
      ],
      "metadata": {
        "id": "-jMIliKsHZuU"
      },
      "execution_count": null,
      "outputs": []
    },
    {
      "cell_type": "code",
      "execution_count": null,
      "metadata": {
        "id": "4vHWNMxIOm5U"
      },
      "outputs": [],
      "source": [
        "submission = pd.DataFrame({\n",
        "    \"TransactionID\": test_df[\"TransactionID\"],  # Replace with your test set's TransactionID column\n",
        "    \"isFraud\": predicted_proba  # Convert CuPy array to NumPy\n",
        "})"
      ]
    },
    {
      "cell_type": "code",
      "execution_count": null,
      "metadata": {
        "colab": {
          "base_uri": "https://localhost:8080/",
          "height": 206
        },
        "id": "UbdbxHKxQpXH",
        "outputId": "729b2c74-6ea2-43d3-a883-48a7cf2309f5"
      },
      "outputs": [
        {
          "data": {
            "application/vnd.google.colaboratory.intrinsic+json": {
              "type": "dataframe",
              "variable_name": "submission"
            },
            "text/html": [
              "\n",
              "  <div id=\"df-2aebfd30-962d-46fb-9db2-ad88da6672bb\" class=\"colab-df-container\">\n",
              "    <div>\n",
              "<style scoped>\n",
              "    .dataframe tbody tr th:only-of-type {\n",
              "        vertical-align: middle;\n",
              "    }\n",
              "\n",
              "    .dataframe tbody tr th {\n",
              "        vertical-align: top;\n",
              "    }\n",
              "\n",
              "    .dataframe thead th {\n",
              "        text-align: right;\n",
              "    }\n",
              "</style>\n",
              "<table border=\"1\" class=\"dataframe\">\n",
              "  <thead>\n",
              "    <tr style=\"text-align: right;\">\n",
              "      <th></th>\n",
              "      <th>TransactionID</th>\n",
              "      <th>isFraud</th>\n",
              "    </tr>\n",
              "  </thead>\n",
              "  <tbody>\n",
              "    <tr>\n",
              "      <th>0</th>\n",
              "      <td>3663549</td>\n",
              "      <td>0.001484</td>\n",
              "    </tr>\n",
              "    <tr>\n",
              "      <th>1</th>\n",
              "      <td>3663550</td>\n",
              "      <td>0.018735</td>\n",
              "    </tr>\n",
              "    <tr>\n",
              "      <th>2</th>\n",
              "      <td>3663551</td>\n",
              "      <td>0.006620</td>\n",
              "    </tr>\n",
              "    <tr>\n",
              "      <th>3</th>\n",
              "      <td>3663552</td>\n",
              "      <td>0.001732</td>\n",
              "    </tr>\n",
              "    <tr>\n",
              "      <th>4</th>\n",
              "      <td>3663553</td>\n",
              "      <td>0.013550</td>\n",
              "    </tr>\n",
              "  </tbody>\n",
              "</table>\n",
              "</div>\n",
              "    <div class=\"colab-df-buttons\">\n",
              "\n",
              "  <div class=\"colab-df-container\">\n",
              "    <button class=\"colab-df-convert\" onclick=\"convertToInteractive('df-2aebfd30-962d-46fb-9db2-ad88da6672bb')\"\n",
              "            title=\"Convert this dataframe to an interactive table.\"\n",
              "            style=\"display:none;\">\n",
              "\n",
              "  <svg xmlns=\"http://www.w3.org/2000/svg\" height=\"24px\" viewBox=\"0 -960 960 960\">\n",
              "    <path d=\"M120-120v-720h720v720H120Zm60-500h600v-160H180v160Zm220 220h160v-160H400v160Zm0 220h160v-160H400v160ZM180-400h160v-160H180v160Zm440 0h160v-160H620v160ZM180-180h160v-160H180v160Zm440 0h160v-160H620v160Z\"/>\n",
              "  </svg>\n",
              "    </button>\n",
              "\n",
              "  <style>\n",
              "    .colab-df-container {\n",
              "      display:flex;\n",
              "      gap: 12px;\n",
              "    }\n",
              "\n",
              "    .colab-df-convert {\n",
              "      background-color: #E8F0FE;\n",
              "      border: none;\n",
              "      border-radius: 50%;\n",
              "      cursor: pointer;\n",
              "      display: none;\n",
              "      fill: #1967D2;\n",
              "      height: 32px;\n",
              "      padding: 0 0 0 0;\n",
              "      width: 32px;\n",
              "    }\n",
              "\n",
              "    .colab-df-convert:hover {\n",
              "      background-color: #E2EBFA;\n",
              "      box-shadow: 0px 1px 2px rgba(60, 64, 67, 0.3), 0px 1px 3px 1px rgba(60, 64, 67, 0.15);\n",
              "      fill: #174EA6;\n",
              "    }\n",
              "\n",
              "    .colab-df-buttons div {\n",
              "      margin-bottom: 4px;\n",
              "    }\n",
              "\n",
              "    [theme=dark] .colab-df-convert {\n",
              "      background-color: #3B4455;\n",
              "      fill: #D2E3FC;\n",
              "    }\n",
              "\n",
              "    [theme=dark] .colab-df-convert:hover {\n",
              "      background-color: #434B5C;\n",
              "      box-shadow: 0px 1px 3px 1px rgba(0, 0, 0, 0.15);\n",
              "      filter: drop-shadow(0px 1px 2px rgba(0, 0, 0, 0.3));\n",
              "      fill: #FFFFFF;\n",
              "    }\n",
              "  </style>\n",
              "\n",
              "    <script>\n",
              "      const buttonEl =\n",
              "        document.querySelector('#df-2aebfd30-962d-46fb-9db2-ad88da6672bb button.colab-df-convert');\n",
              "      buttonEl.style.display =\n",
              "        google.colab.kernel.accessAllowed ? 'block' : 'none';\n",
              "\n",
              "      async function convertToInteractive(key) {\n",
              "        const element = document.querySelector('#df-2aebfd30-962d-46fb-9db2-ad88da6672bb');\n",
              "        const dataTable =\n",
              "          await google.colab.kernel.invokeFunction('convertToInteractive',\n",
              "                                                    [key], {});\n",
              "        if (!dataTable) return;\n",
              "\n",
              "        const docLinkHtml = 'Like what you see? Visit the ' +\n",
              "          '<a target=\"_blank\" href=https://colab.research.google.com/notebooks/data_table.ipynb>data table notebook</a>'\n",
              "          + ' to learn more about interactive tables.';\n",
              "        element.innerHTML = '';\n",
              "        dataTable['output_type'] = 'display_data';\n",
              "        await google.colab.output.renderOutput(dataTable, element);\n",
              "        const docLink = document.createElement('div');\n",
              "        docLink.innerHTML = docLinkHtml;\n",
              "        element.appendChild(docLink);\n",
              "      }\n",
              "    </script>\n",
              "  </div>\n",
              "\n",
              "\n",
              "<div id=\"df-d73b3f06-eac3-469c-8854-d4702b982666\">\n",
              "  <button class=\"colab-df-quickchart\" onclick=\"quickchart('df-d73b3f06-eac3-469c-8854-d4702b982666')\"\n",
              "            title=\"Suggest charts\"\n",
              "            style=\"display:none;\">\n",
              "\n",
              "<svg xmlns=\"http://www.w3.org/2000/svg\" height=\"24px\"viewBox=\"0 0 24 24\"\n",
              "     width=\"24px\">\n",
              "    <g>\n",
              "        <path d=\"M19 3H5c-1.1 0-2 .9-2 2v14c0 1.1.9 2 2 2h14c1.1 0 2-.9 2-2V5c0-1.1-.9-2-2-2zM9 17H7v-7h2v7zm4 0h-2V7h2v10zm4 0h-2v-4h2v4z\"/>\n",
              "    </g>\n",
              "</svg>\n",
              "  </button>\n",
              "\n",
              "<style>\n",
              "  .colab-df-quickchart {\n",
              "      --bg-color: #E8F0FE;\n",
              "      --fill-color: #1967D2;\n",
              "      --hover-bg-color: #E2EBFA;\n",
              "      --hover-fill-color: #174EA6;\n",
              "      --disabled-fill-color: #AAA;\n",
              "      --disabled-bg-color: #DDD;\n",
              "  }\n",
              "\n",
              "  [theme=dark] .colab-df-quickchart {\n",
              "      --bg-color: #3B4455;\n",
              "      --fill-color: #D2E3FC;\n",
              "      --hover-bg-color: #434B5C;\n",
              "      --hover-fill-color: #FFFFFF;\n",
              "      --disabled-bg-color: #3B4455;\n",
              "      --disabled-fill-color: #666;\n",
              "  }\n",
              "\n",
              "  .colab-df-quickchart {\n",
              "    background-color: var(--bg-color);\n",
              "    border: none;\n",
              "    border-radius: 50%;\n",
              "    cursor: pointer;\n",
              "    display: none;\n",
              "    fill: var(--fill-color);\n",
              "    height: 32px;\n",
              "    padding: 0;\n",
              "    width: 32px;\n",
              "  }\n",
              "\n",
              "  .colab-df-quickchart:hover {\n",
              "    background-color: var(--hover-bg-color);\n",
              "    box-shadow: 0 1px 2px rgba(60, 64, 67, 0.3), 0 1px 3px 1px rgba(60, 64, 67, 0.15);\n",
              "    fill: var(--button-hover-fill-color);\n",
              "  }\n",
              "\n",
              "  .colab-df-quickchart-complete:disabled,\n",
              "  .colab-df-quickchart-complete:disabled:hover {\n",
              "    background-color: var(--disabled-bg-color);\n",
              "    fill: var(--disabled-fill-color);\n",
              "    box-shadow: none;\n",
              "  }\n",
              "\n",
              "  .colab-df-spinner {\n",
              "    border: 2px solid var(--fill-color);\n",
              "    border-color: transparent;\n",
              "    border-bottom-color: var(--fill-color);\n",
              "    animation:\n",
              "      spin 1s steps(1) infinite;\n",
              "  }\n",
              "\n",
              "  @keyframes spin {\n",
              "    0% {\n",
              "      border-color: transparent;\n",
              "      border-bottom-color: var(--fill-color);\n",
              "      border-left-color: var(--fill-color);\n",
              "    }\n",
              "    20% {\n",
              "      border-color: transparent;\n",
              "      border-left-color: var(--fill-color);\n",
              "      border-top-color: var(--fill-color);\n",
              "    }\n",
              "    30% {\n",
              "      border-color: transparent;\n",
              "      border-left-color: var(--fill-color);\n",
              "      border-top-color: var(--fill-color);\n",
              "      border-right-color: var(--fill-color);\n",
              "    }\n",
              "    40% {\n",
              "      border-color: transparent;\n",
              "      border-right-color: var(--fill-color);\n",
              "      border-top-color: var(--fill-color);\n",
              "    }\n",
              "    60% {\n",
              "      border-color: transparent;\n",
              "      border-right-color: var(--fill-color);\n",
              "    }\n",
              "    80% {\n",
              "      border-color: transparent;\n",
              "      border-right-color: var(--fill-color);\n",
              "      border-bottom-color: var(--fill-color);\n",
              "    }\n",
              "    90% {\n",
              "      border-color: transparent;\n",
              "      border-bottom-color: var(--fill-color);\n",
              "    }\n",
              "  }\n",
              "</style>\n",
              "\n",
              "  <script>\n",
              "    async function quickchart(key) {\n",
              "      const quickchartButtonEl =\n",
              "        document.querySelector('#' + key + ' button');\n",
              "      quickchartButtonEl.disabled = true;  // To prevent multiple clicks.\n",
              "      quickchartButtonEl.classList.add('colab-df-spinner');\n",
              "      try {\n",
              "        const charts = await google.colab.kernel.invokeFunction(\n",
              "            'suggestCharts', [key], {});\n",
              "      } catch (error) {\n",
              "        console.error('Error during call to suggestCharts:', error);\n",
              "      }\n",
              "      quickchartButtonEl.classList.remove('colab-df-spinner');\n",
              "      quickchartButtonEl.classList.add('colab-df-quickchart-complete');\n",
              "    }\n",
              "    (() => {\n",
              "      let quickchartButtonEl =\n",
              "        document.querySelector('#df-d73b3f06-eac3-469c-8854-d4702b982666 button');\n",
              "      quickchartButtonEl.style.display =\n",
              "        google.colab.kernel.accessAllowed ? 'block' : 'none';\n",
              "    })();\n",
              "  </script>\n",
              "</div>\n",
              "\n",
              "    </div>\n",
              "  </div>\n"
            ],
            "text/plain": [
              "   TransactionID   isFraud\n",
              "0        3663549  0.001484\n",
              "1        3663550  0.018735\n",
              "2        3663551  0.006620\n",
              "3        3663552  0.001732\n",
              "4        3663553  0.013550"
            ]
          },
          "execution_count": 24,
          "metadata": {},
          "output_type": "execute_result"
        }
      ],
      "source": [
        "submission.head()"
      ]
    },
    {
      "cell_type": "code",
      "execution_count": null,
      "metadata": {
        "id": "ZDS8sqHAQ2Lk"
      },
      "outputs": [],
      "source": [
        "submission = pd.DataFrame({\n",
        "    \"TransactionID\": test_df[\"TransactionID\"],  # Replace with your test set's TransactionID column\n",
        "    \"isFraud\": predicted_proba  # Convert CuPy array to NumPy\n",
        "})\n",
        "\n",
        "# Save to CSV\n",
        "submission.to_csv(\"drive/MyDrive/DSC_final_project/log_reg_initial_submission.csv\", index=False)"
      ]
    },
    {
      "cell_type": "code",
      "execution_count": null,
      "metadata": {
        "id": "PfV1Xmu3RQAT"
      },
      "outputs": [],
      "source": []
    },
    {
      "cell_type": "code",
      "execution_count": null,
      "metadata": {
        "id": "JvurwwBVZ1Oj"
      },
      "outputs": [],
      "source": []
    },
    {
      "cell_type": "markdown",
      "metadata": {
        "id": "OSPTcKOmZ19s"
      },
      "source": [
        "## Preprocessing for Advanced models"
      ]
    },
    {
      "cell_type": "code",
      "execution_count": null,
      "metadata": {
        "id": "cWxOZsPCZ4Fa"
      },
      "outputs": [],
      "source": [
        "from sklearn.preprocessing import StandardScaler, OneHotEncoder\n",
        "from sklearn.impute import SimpleImputer\n",
        "import scipy.sparse as sp\n",
        "\n",
        "def preprocess_for_isolation_forest(input_train_df, input_test_df,target_column='IsFraud'):\n",
        "    # Work on local copies to avoid modifying global variables\n",
        "    train_df = input_train_df.copy()\n",
        "    test_df = input_test_df.copy()\n",
        "    if target_column in train_df.columns:\n",
        "        train_df = train_df.drop(columns=[target_column])\n",
        "\n",
        "    # Identify numeric and categorical columns that exist in the datasets\n",
        "    numeric_columns = train_df.select_dtypes(include=['int64', 'float64']).columns\n",
        "    categorical_columns = train_df.select_dtypes(include=['object']).columns\n",
        "\n",
        "    # Ensure the columns exist in both train and test\n",
        "    numeric_columns = [col for col in numeric_columns if col in test_df.columns]\n",
        "    categorical_columns = [col for col in categorical_columns if col in test_df.columns]\n",
        "\n",
        "    # Handle missing values\n",
        "    numeric_imputer = SimpleImputer(strategy='median')\n",
        "    train_df[numeric_columns] = numeric_imputer.fit_transform(train_df[numeric_columns])\n",
        "    test_df[numeric_columns] = numeric_imputer.transform(test_df[numeric_columns])\n",
        "\n",
        "    categorical_imputer = SimpleImputer(strategy='constant', fill_value='missing')\n",
        "    train_df[categorical_columns] = categorical_imputer.fit_transform(train_df[categorical_columns])\n",
        "    test_df[categorical_columns] = categorical_imputer.transform(test_df[categorical_columns])\n",
        "\n",
        "    # OneHotEncoder for categorical columns\n",
        "    if categorical_columns:\n",
        "        ohe = OneHotEncoder(handle_unknown='ignore')  # Use sparse matrices\n",
        "        train_categorical_sparse = ohe.fit_transform(train_df[categorical_columns])\n",
        "        test_categorical_sparse = ohe.transform(test_df[categorical_columns])\n",
        "\n",
        "        # Drop original categorical columns\n",
        "        train_df = train_df.drop(columns=categorical_columns)\n",
        "        test_df = test_df.drop(columns=categorical_columns)\n",
        "\n",
        "    # Standardize numeric columns\n",
        "    if numeric_columns:\n",
        "        scaler = StandardScaler()\n",
        "        train_df[numeric_columns] = scaler.fit_transform(train_df[numeric_columns])\n",
        "        test_df[numeric_columns] = scaler.transform(test_df[numeric_columns])\n",
        "\n",
        "    # Convert numeric columns to sparse format and concatenate\n",
        "    if numeric_columns:\n",
        "        train_numeric_sparse = sp.csr_matrix(train_df[numeric_columns].values.astype(np.float32))\n",
        "        test_numeric_sparse = sp.csr_matrix(test_df[numeric_columns].values.astype(np.float32))\n",
        "\n",
        "        train_sparse = sp.hstack([train_numeric_sparse, train_categorical_sparse], format='csr')\n",
        "        test_sparse = sp.hstack([test_numeric_sparse, test_categorical_sparse], format='csr')\n",
        "    else:\n",
        "        train_sparse = train_categorical_sparse\n",
        "        test_sparse = test_categorical_sparse\n",
        "\n",
        "    return train_sparse, test_sparse\n"
      ]
    },
    {
      "cell_type": "code",
      "execution_count": null,
      "metadata": {
        "id": "CMcTj57qlPcs"
      },
      "outputs": [],
      "source": [
        "from sklearn.preprocessing import StandardScaler\n",
        "from sklearn.impute import SimpleImputer\n",
        "import pandas as pd\n",
        "import numpy as np\n",
        "\n",
        "\n",
        "\n",
        "def preprocess_for_dbscan_optimized(input_train_df, input_test_df, target_column='isFraud'):\n",
        "    # Work on local copies to avoid modifying global variables\n",
        "    train_df = input_train_df.copy()\n",
        "    test_df = input_test_df.copy()\n",
        "\n",
        "    # Drop target column\n",
        "    if target_column in train_df.columns:\n",
        "        train_df = train_df.drop(columns=[target_column])\n",
        "\n",
        "    # Identify numeric and categorical columns that exist in the datasets\n",
        "    numeric_columns = train_df.select_dtypes(include=['int64', 'float64']).columns\n",
        "    categorical_columns = train_df.select_dtypes(include=['object']).columns\n",
        "\n",
        "    # Ensure the columns exist in both train and test\n",
        "    numeric_columns = [col for col in numeric_columns if col in test_df.columns]\n",
        "    categorical_columns = [col for col in categorical_columns if col in test_df.columns]\n",
        "\n",
        "    # Handle missing values\n",
        "    numeric_imputer = SimpleImputer(strategy='median')\n",
        "    train_df[numeric_columns] = numeric_imputer.fit_transform(train_df[numeric_columns])\n",
        "    test_df[numeric_columns] = numeric_imputer.transform(test_df[numeric_columns])\n",
        "\n",
        "    categorical_imputer = SimpleImputer(strategy='constant', fill_value='missing')\n",
        "    train_df[categorical_columns] = categorical_imputer.fit_transform(train_df[categorical_columns])\n",
        "    test_df[categorical_columns] = categorical_imputer.transform(test_df[categorical_columns])\n",
        "\n",
        "    # Handle specific case for id_12\n",
        "    if 'id_12' in categorical_columns:\n",
        "        train_df['id_12'] = train_df['id_12'].fillna('missing').astype(str)\n",
        "        test_df['id_12'] = test_df['id_12'].fillna('missing').astype(str)\n",
        "\n",
        "        mapping = {'NotFound': 0, 'Found': 1, 'missing': -1}\n",
        "        train_df['id_12'] = train_df['id_12'].map(mapping)\n",
        "        test_df['id_12'] = test_df['id_12'].map(mapping)\n",
        "\n",
        "        if train_df['id_12'].isnull().any() or test_df['id_12'].isnull().any():\n",
        "            raise ValueError(\"Mapping failed! Check values in id_12 for unmapped categories.\")\n",
        "\n",
        "    # Frequency Encoding for other categorical columns\n",
        "    for col in categorical_columns:\n",
        "        if col != 'id_12':  # Skip id_12 as it's already encoded\n",
        "            combined = pd.concat([train_df[col], test_df[col]])\n",
        "            freq_encoding = combined.value_counts(normalize=True)  # Frequency proportions\n",
        "            train_df[col] = train_df[col].map(freq_encoding).fillna(0)  # Encode train\n",
        "            test_df[col] = test_df[col].map(freq_encoding).fillna(0)    # Encode test\n",
        "\n",
        "    # Align column order between train and test\n",
        "    all_columns = train_df.columns\n",
        "    test_df = test_df[all_columns]\n",
        "\n",
        "    # Verify all columns are numeric\n",
        "    for col in train_df.columns:\n",
        "        if not pd.api.types.is_numeric_dtype(train_df[col]):\n",
        "            raise ValueError(f\"Column {col} is not numeric after preprocessing! Values: {train_df[col].unique()}\")\n",
        "\n",
        "    # Standardize numeric columns\n",
        "    scaler = StandardScaler()\n",
        "    train_df = scaler.fit_transform(train_df)\n",
        "    test_df = scaler.transform(test_df)\n",
        "\n",
        "    return train_df, test_df\n"
      ]
    },
    {
      "cell_type": "code",
      "execution_count": null,
      "metadata": {
        "colab": {
          "base_uri": "https://localhost:8080/"
        },
        "id": "Txyfmf_EZ49C",
        "outputId": "5c106442-77db-4d17-f1f0-0fea1228e2ad"
      },
      "outputs": [
        {
          "name": "stdout",
          "output_type": "stream",
          "text": [
            "Starting preprocessing...\n",
            "Mem. usage decreased to 542.35 Mb (69.4% reduction)\n",
            "Mem. usage decreased to 472.59 Mb (68.9% reduction)\n",
            "Preprocessing and UID detection complete.\n"
          ]
        }
      ],
      "source": [
        "train_processed, test_processed = preprocess_and_detect_uid(train_df, test_df, train_identity, test_identity)"
      ]
    },
    {
      "cell_type": "code",
      "execution_count": null,
      "metadata": {
        "id": "4xE8ecaet_te"
      },
      "outputs": [],
      "source": [
        "train_processed, test_processed = preprocess_and_detect_uid(train_df, test_df, train_identity, test_identity)\n",
        "test_processed.columns = test_processed.columns.str.replace('-', '_')\n",
        "train_processed.replace([np.inf, -np.inf], np.nan, inplace=True)\n",
        "test_processed.replace([np.inf, -np.inf], np.nan, inplace=True)"
      ]
    },
    {
      "cell_type": "code",
      "execution_count": null,
      "metadata": {
        "colab": {
          "base_uri": "https://localhost:8080/"
        },
        "id": "gRQ8_YKstOZV",
        "outputId": "2c2b77cc-7fc4-4f47-901d-1f9742738f26"
      },
      "outputs": [
        {
          "name": "stdout",
          "output_type": "stream",
          "text": [
            "NaN values in numeric train columns: True\n",
            "NaN values in numeric test columns: True\n",
            "Infinity values in numeric train columns: True\n",
            "Infinity values in numeric test columns: True\n",
            "Max value in numeric train columns: inf\n",
            "Min value in numeric train columns: -660.0\n",
            "Max value in numeric test columns: inf\n",
            "Min value in numeric test columns: -720.0\n"
          ]
        }
      ],
      "source": [
        "# Check for NaN values in numeric columns\n",
        "print(\"NaN values in numeric train columns:\", train_processed.select_dtypes(include=[np.number]).isna().any().any())\n",
        "print(\"NaN values in numeric test columns:\", test_processed.select_dtypes(include=[np.number]).isna().any().any())\n",
        "\n",
        "# Check for Infinity values in numeric columns\n",
        "print(\"Infinity values in numeric train columns:\", np.isinf(train_processed.select_dtypes(include=[np.number])).any().any())\n",
        "print(\"Infinity values in numeric test columns:\", np.isinf(test_processed.select_dtypes(include=[np.number])).any().any())\n",
        "\n",
        "# Check max/min values for extreme ranges in numeric columns\n",
        "print(\"Max value in numeric train columns:\", train_processed.select_dtypes(include=[np.number]).max().max())\n",
        "print(\"Min value in numeric train columns:\", train_processed.select_dtypes(include=[np.number]).min().min())\n",
        "print(\"Max value in numeric test columns:\", test_processed.select_dtypes(include=[np.number]).max().max())\n",
        "print(\"Min value in numeric test columns:\", test_processed.select_dtypes(include=[np.number]).min().min())\n"
      ]
    },
    {
      "cell_type": "code",
      "execution_count": null,
      "metadata": {
        "id": "PI9aAFHNbFaV"
      },
      "outputs": [],
      "source": [
        "filled_preprocessed_train, filled_preprocessed_test =preprocess_for_dbscan_optimized(train_processed, test_processed)"
      ]
    },
    {
      "cell_type": "code",
      "execution_count": null,
      "metadata": {
        "id": "NAGatEFBvi0_"
      },
      "outputs": [],
      "source": [
        "import numpy as np\n",
        "\n",
        "def verify_preprocessed_data(train_data, test_data):\n",
        "    print(\"=== Verification of Preprocessed Data ===\")\n",
        "\n",
        "    # Check for NaN values\n",
        "    print(\"NaN values in train data:\", np.isnan(train_data).any())\n",
        "    print(\"NaN values in test data:\", np.isnan(test_data).any())\n",
        "\n",
        "    # Check for Infinity values\n",
        "    print(\"Infinity values in train data:\", np.isinf(train_data).any())\n",
        "    print(\"Infinity values in test data:\", np.isinf(test_data).any())\n",
        "\n",
        "    # Check for extreme values\n",
        "    print(\"Max value in train data:\", np.max(train_data))\n",
        "    print(\"Min value in train data:\", np.min(train_data))\n",
        "    print(\"Max value in test data:\", np.max(test_data))\n",
        "    print(\"Min value in test data:\", np.min(test_data))\n",
        "\n",
        "    # Check for shape consistency\n",
        "    print(\"Shape of train data:\", train_data.shape)\n",
        "    print(\"Shape of test data:\", test_data.shape)\n",
        "\n",
        "    # Check for zero variance columns\n",
        "    zero_variance_train = (train_data.var(axis=0) == 0).sum()\n",
        "    zero_variance_test = (test_data.var(axis=0) == 0).sum()\n",
        "    print(f\"Zero-variance columns in train data: {zero_variance_train}\")\n",
        "    print(f\"Zero-variance columns in test data: {zero_variance_test}\")\n",
        "\n",
        "    print(\"=== Verification Completed ===\")\n",
        "#verify_preprocessed_data(filled_preprocessed_train, filled_preprocessed_test)"
      ]
    },
    {
      "cell_type": "code",
      "execution_count": null,
      "metadata": {
        "colab": {
          "base_uri": "https://localhost:8080/"
        },
        "id": "fF_siUWMij9A",
        "outputId": "7945a688-584b-4624-b612-b4bb5bd7ef05"
      },
      "outputs": [
        {
          "name": "stderr",
          "output_type": "stream",
          "text": [
            "[I 2024-12-07 02:44:04,385] A new study created in memory with name: DBSCAN Tuning\n"
          ]
        },
        {
          "name": "stdout",
          "output_type": "stream",
          "text": [
            "[W] [02:44:07.115778] Batch size limited by the chosen integer type (4 bytes). 7348 -> 4545. Using the larger integer type might result in better performance\n",
            "[W] [03:15:20.010159] Batch size limited by the chosen integer type (4 bytes). 7348 -> 4545. Using the larger integer type might result in better performance\n",
            "[W] [03:46:32.088962] Batch size limited by the chosen integer type (4 bytes). 7348 -> 4545. Using the larger integer type might result in better performance\n",
            "[W] [04:17:44.200599] Batch size limited by the chosen integer type (4 bytes). 7348 -> 4545. Using the larger integer type might result in better performance\n"
          ]
        },
        {
          "name": "stderr",
          "output_type": "stream",
          "text": [
            "[I 2024-12-07 05:20:06,706] Trial 0 finished with value: -0.5 and parameters: {'eps': 0.1682518443131811, 'min_samples': 47}. Best is trial 0 with value: -0.5.\n"
          ]
        },
        {
          "name": "stdout",
          "output_type": "stream",
          "text": [
            "[W] [04:48:56.274405] Batch size limited by the chosen integer type (4 bytes). 7348 -> 4545. Using the larger integer type might result in better performance\n"
          ]
        }
      ],
      "source": [
        "import optuna\n",
        "import numpy as np\n",
        "from cuml.cluster import DBSCAN\n",
        "from sklearn.metrics import roc_auc_score, log_loss\n",
        "from sklearn.model_selection import StratifiedKFold\n",
        "\n",
        "\n",
        "# Target variable\n",
        "y_train = train_processed['isFraud']\n",
        "\n",
        "# Define the objective function for Optuna\n",
        "def objective(trial):\n",
        "    # Suggest hyperparameters for DBSCAN\n",
        "    eps = trial.suggest_float(\"eps\", 0.1, 10.0, log=True)  # Neighborhood radius\n",
        "    min_samples = trial.suggest_int(\"min_samples\", 2, 50)  # Minimum samples per cluster\n",
        "\n",
        "    # Initialize DBSCAN with cuML\n",
        "    dbscan = DBSCAN(eps=eps, min_samples=min_samples, verbose=False)\n",
        "\n",
        "    # StratifiedKFold for cross-validation\n",
        "    cv = StratifiedKFold(n_splits=5, shuffle=True, random_state=42)\n",
        "    auc_scores = []\n",
        "    log_losses = []\n",
        "\n",
        "    for train_idx, val_idx in cv.split(filled_preprocessed_train, y_train):\n",
        "        X_train, X_val = filled_preprocessed_train[train_idx], filled_preprocessed_train[val_idx]\n",
        "        y_val = y_train.iloc[val_idx]\n",
        "\n",
        "        # Fit DBSCAN\n",
        "        dbscan.fit(X_train)\n",
        "\n",
        "        # Get cluster labels (-1 indicates noise)\n",
        "        cluster_labels = dbscan.labels_\n",
        "\n",
        "        # Skip fold if DBSCAN failed to find clusters\n",
        "        if len(np.unique(cluster_labels)) <= 1:\n",
        "            auc_scores.append(0.5)  # Assign neutral AUC for failure cases\n",
        "            log_losses.append(np.inf)  # Assign high log loss\n",
        "            continue\n",
        "\n",
        "        # Use cluster labels as predictions for simplicity\n",
        "        # Map cluster labels to binary predictions (fraud/no fraud)\n",
        "        cluster_to_fraud = {label: np.mean(y_train[dbscan.labels_ == label]) for label in np.unique(cluster_labels) if label != -1}\n",
        "        y_pred_proba = np.array([cluster_to_fraud.get(label, 0.0) for label in cluster_labels])\n",
        "\n",
        "        # Calculate metrics\n",
        "        auc_scores.append(roc_auc_score(y_val, y_pred_proba))\n",
        "        log_losses.append(log_loss(y_val, y_pred_proba + 1e-15))  # Avoid log(0)\n",
        "\n",
        "    # Decide the metric to optimize\n",
        "    metric_to_optimize = \"auc\"  # Change to \"log_loss\" if desired\n",
        "    if metric_to_optimize == \"auc\":\n",
        "        return -np.mean(auc_scores)  # Optuna minimizes, so negate AUC\n",
        "    else:\n",
        "        return np.mean(log_losses)\n",
        "    print(np.mean(auc_scores))\n",
        "\n",
        "# Run Optuna optimization\n",
        "study = optuna.create_study(direction=\"maximize\", study_name=\"DBSCAN Tuning\")\n",
        "study.optimize(objective, n_trials=20)\n",
        "\n",
        "# Print the best parameters\n",
        "print(\"Best parameters:\", study.best_trial.params)\n",
        "\n",
        "# # Re-train DBSCAN on the full dataset with the best parameters\n",
        "# best_params = study.best_trial.params\n",
        "# final_dbscan = DBSCAN(eps=best_params[\"eps\"], min_samples=best_params[\"min_samples\"], verbose=False)\n",
        "# final_dbscan.fit(filled_preprocessed_train)\n",
        "\n",
        "# # Use the trained model for predictions on the test set\n",
        "# test_cluster_labels = final_dbscan.fit_predict(filled_preprocessed_test)\n",
        "\n",
        "# # Map cluster labels to probabilities for test predictions\n",
        "# test_cluster_to_fraud = {\n",
        "#     label: np.mean(y_train[final_dbscan.labels_ == label]) for label in np.unique(final_dbscan.labels_) if label != -1\n",
        "# }\n",
        "# test_pred_proba = np.array([test_cluster_to_fraud.get(label, 0.0) for label in test_cluster_labels])\n",
        "\n",
        "# # Save test predictions for submission\n",
        "# submission = pd.DataFrame({\"TransactionID\": test_processed[\"TransactionID\"], \"isFraud\": test_pred_proba})\n",
        "# submission.to_csv(\"dbscan_submission.csv\", index=False)\n",
        "\n",
        "# print(\"Submission file created: dbscan_submission.csv\")\n"
      ]
    },
    {
      "cell_type": "code",
      "execution_count": null,
      "metadata": {
        "id": "iGBne_T90X_c",
        "colab": {
          "base_uri": "https://localhost:8080/"
        },
        "outputId": "a42122c3-e880-44e0-898d-ddb0448ad4dd"
      },
      "outputs": [
        {
          "output_type": "stream",
          "name": "stdout",
          "text": [
            "Collecting catboost\n",
            "  Downloading catboost-1.2.7-cp310-cp310-manylinux2014_x86_64.whl.metadata (1.2 kB)\n",
            "Requirement already satisfied: graphviz in /usr/local/lib/python3.10/dist-packages (from catboost) (0.20.3)\n",
            "Requirement already satisfied: matplotlib in /usr/local/lib/python3.10/dist-packages (from catboost) (3.8.0)\n",
            "Requirement already satisfied: numpy<2.0,>=1.16.0 in /usr/local/lib/python3.10/dist-packages (from catboost) (1.26.4)\n",
            "Requirement already satisfied: pandas>=0.24 in /usr/local/lib/python3.10/dist-packages (from catboost) (2.2.2)\n",
            "Requirement already satisfied: scipy in /usr/local/lib/python3.10/dist-packages (from catboost) (1.13.1)\n",
            "Requirement already satisfied: plotly in /usr/local/lib/python3.10/dist-packages (from catboost) (5.24.1)\n",
            "Requirement already satisfied: six in /usr/local/lib/python3.10/dist-packages (from catboost) (1.16.0)\n",
            "Requirement already satisfied: python-dateutil>=2.8.2 in /usr/local/lib/python3.10/dist-packages (from pandas>=0.24->catboost) (2.8.2)\n",
            "Requirement already satisfied: pytz>=2020.1 in /usr/local/lib/python3.10/dist-packages (from pandas>=0.24->catboost) (2024.2)\n",
            "Requirement already satisfied: tzdata>=2022.7 in /usr/local/lib/python3.10/dist-packages (from pandas>=0.24->catboost) (2024.2)\n",
            "Requirement already satisfied: contourpy>=1.0.1 in /usr/local/lib/python3.10/dist-packages (from matplotlib->catboost) (1.3.1)\n",
            "Requirement already satisfied: cycler>=0.10 in /usr/local/lib/python3.10/dist-packages (from matplotlib->catboost) (0.12.1)\n",
            "Requirement already satisfied: fonttools>=4.22.0 in /usr/local/lib/python3.10/dist-packages (from matplotlib->catboost) (4.55.1)\n",
            "Requirement already satisfied: kiwisolver>=1.0.1 in /usr/local/lib/python3.10/dist-packages (from matplotlib->catboost) (1.4.7)\n",
            "Requirement already satisfied: packaging>=20.0 in /usr/local/lib/python3.10/dist-packages (from matplotlib->catboost) (24.2)\n",
            "Requirement already satisfied: pillow>=6.2.0 in /usr/local/lib/python3.10/dist-packages (from matplotlib->catboost) (11.0.0)\n",
            "Requirement already satisfied: pyparsing>=2.3.1 in /usr/local/lib/python3.10/dist-packages (from matplotlib->catboost) (3.2.0)\n",
            "Requirement already satisfied: tenacity>=6.2.0 in /usr/local/lib/python3.10/dist-packages (from plotly->catboost) (9.0.0)\n",
            "Downloading catboost-1.2.7-cp310-cp310-manylinux2014_x86_64.whl (98.7 MB)\n",
            "\u001b[2K   \u001b[90m━━━━━━━━━━━━━━━━━━━━━━━━━━━━━━━━━━━━━━━━\u001b[0m \u001b[32m98.7/98.7 MB\u001b[0m \u001b[31m22.5 MB/s\u001b[0m eta \u001b[36m0:00:00\u001b[0m\n",
            "\u001b[?25hInstalling collected packages: catboost\n",
            "Successfully installed catboost-1.2.7\n"
          ]
        }
      ],
      "source": [
        "!pip install catboost"
      ]
    },
    {
      "cell_type": "markdown",
      "metadata": {
        "id": "beHzG9WVppdH"
      },
      "source": [
        "# Neural network"
      ]
    },
    {
      "cell_type": "code",
      "execution_count": null,
      "metadata": {
        "id": "SZnKgjKtp37g"
      },
      "outputs": [],
      "source": [
        "import torch\n",
        "import torch.nn as nn\n",
        "import torch.optim as optim\n",
        "from sklearn.model_selection import train_test_split\n",
        "from sklearn.preprocessing import StandardScaler\n",
        "from sklearn.metrics import roc_auc_score"
      ]
    },
    {
      "cell_type": "code",
      "execution_count": null,
      "metadata": {
        "colab": {
          "base_uri": "https://localhost:8080/"
        },
        "id": "uD75YtAKrkQl",
        "outputId": "2f5a61f3-4eb3-4178-b3c7-4f66e194efd8"
      },
      "outputs": [
        {
          "name": "stdout",
          "output_type": "stream",
          "text": [
            "Starting preprocessing...\n",
            "Mem. usage decreased to 542.35 Mb (0.0% reduction)\n",
            "Mem. usage decreased to 472.59 Mb (0.0% reduction)\n",
            "Preprocessing and UID detection complete.\n"
          ]
        }
      ],
      "source": [
        "train_processed, test_processed = preprocess_and_detect_uid(train_df, test_df, train_identity, test_identity)\n",
        "test_processed.columns = test_processed.columns.str.replace('-', '_')"
      ]
    },
    {
      "cell_type": "code",
      "execution_count": null,
      "metadata": {
        "id": "zyvdjeG2ritq"
      },
      "outputs": [],
      "source": [
        "train_processed.replace([np.inf, -np.inf], np.nan, inplace=True)\n",
        "test_processed.replace([np.inf, -np.inf], np.nan, inplace=True)"
      ]
    },
    {
      "cell_type": "code",
      "execution_count": null,
      "metadata": {
        "id": "uW8Z2NGgxi1S"
      },
      "outputs": [],
      "source": [
        "from sklearn.preprocessing import StandardScaler\n",
        "from sklearn.impute import SimpleImputer\n",
        "import pandas as pd\n",
        "import numpy as np\n",
        "\n",
        "\n",
        "def preprocess_for_NN(input_train_df, input_test_df, target_column='isFraud'):\n",
        "    # Work on local copies to avoid modifying global variables\n",
        "    train_df = input_train_df.copy()\n",
        "    test_df = input_test_df.copy()\n",
        "\n",
        "    # Drop target column\n",
        "    if target_column in train_df.columns:\n",
        "        train_df = train_df.drop(columns=[target_column])\n",
        "\n",
        "    # Identify numeric and categorical columns that exist in the datasets\n",
        "    numeric_columns = train_df.select_dtypes(include=['int64', 'float64']).columns\n",
        "    categorical_columns = train_df.select_dtypes(include=['object']).columns\n",
        "    print(categorical_columns)\n",
        "    # Ensure numeric and categorical columns exist in both train and test\n",
        "    numeric_columns = [col for col in numeric_columns if col in test_df.columns]\n",
        "    categorical_columns = [col for col in categorical_columns if col in test_df.columns]\n",
        "\n",
        "    # Handle missing values for numeric columns\n",
        "    numeric_imputer = SimpleImputer(strategy='median')\n",
        "    train_df[numeric_columns] = numeric_imputer.fit_transform(train_df[numeric_columns])\n",
        "    test_df[numeric_columns] = numeric_imputer.transform(test_df[numeric_columns])\n",
        "\n",
        "    # Handle missing values for categorical columns\n",
        "    categorical_imputer = SimpleImputer(strategy='constant', fill_value='missing')\n",
        "    train_df[categorical_columns] = categorical_imputer.fit_transform(train_df[categorical_columns])\n",
        "    test_df[categorical_columns] = categorical_imputer.transform(test_df[categorical_columns])\n",
        "\n",
        "    # # Special case: Encoding for id_12\n",
        "    # if 'id_12' in categorical_columns:\n",
        "    #     train_df['id_12'] = train_df['id_12'].fillna('missing').astype(str)\n",
        "    #     test_df['id_12'] = test_df['id_12'].fillna('missing').astype(str)\n",
        "\n",
        "    #     mapping = {'NotFound': 0, 'Found': 1, 'missing': -1}\n",
        "    #     train_df['id_12'] = train_df['id_12'].map(mapping)\n",
        "    #     test_df['id_12'] = test_df['id_12'].map(mapping)\n",
        "\n",
        "    #     # Check if mapping was successful\n",
        "    #     if train_df['id_12'].isnull().any() or test_df['id_12'].isnull().any():\n",
        "    #         raise ValueError(\"Mapping failed! Check values in id_12 for unmapped categories.\")\n",
        "\n",
        "    # # Frequency Encoding for remaining categorical columns\n",
        "    # for col in categorical_columns:\n",
        "    #     if col != 'id_12':  # Skip id_12 as it's already encoded\n",
        "    #         combined = pd.concat([train_df[col], test_df[col]])\n",
        "    #         freq_encoding = combined.value_counts(normalize=True)  # Frequency proportions\n",
        "    #         train_df[col] = train_df[col].map(freq_encoding).fillna(0)  # Encode train\n",
        "    #         test_df[col] = test_df[col].map(freq_encoding).fillna(0)    # Encode test\n",
        "\n",
        "    # Align column order between train and test\n",
        "    all_columns = train_df.columns\n",
        "    test_df = test_df[all_columns]\n",
        "\n",
        "    # Verify all columns are numeric\n",
        "    for col in train_df.columns:\n",
        "        if not pd.api.types.is_numeric_dtype(train_df[col]):\n",
        "            raise ValueError(f\"Column {col} is not numeric after preprocessing! Values: {train_df[col].unique()}\")\n",
        "\n",
        "    # Remove any infinite values\n",
        "    train_df.replace([np.inf, -np.inf], np.nan, inplace=True)\n",
        "    test_df.replace([np.inf, -np.inf], np.nan, inplace=True)\n",
        "\n",
        "    # Re-impute numeric columns to handle infinities replaced with NaN\n",
        "    train_df[numeric_columns] = numeric_imputer.fit_transform(train_df[numeric_columns])\n",
        "    test_df[numeric_columns] = numeric_imputer.transform(test_df[numeric_columns])\n",
        "\n",
        "    # Standardize numeric columns\n",
        "    scaler = StandardScaler()\n",
        "    train_df = scaler.fit_transform(train_df)\n",
        "    test_df = scaler.transform(test_df)\n",
        "\n",
        "    return train_df, test_df\n"
      ]
    },
    {
      "cell_type": "code",
      "execution_count": null,
      "metadata": {
        "id": "AIfBle9CykFT"
      },
      "outputs": [],
      "source": [
        "def preprocess_for_NN(input_train_df, input_test_df, target_column='isFraud'):\n",
        "    print(\"Starting preprocessing (Method B)...\")\n",
        "    train_df = input_train_df.copy()\n",
        "    test_df = input_test_df.copy()\n",
        "\n",
        "    # Drop target column\n",
        "    if target_column in train_df.columns:\n",
        "        train_df = train_df.drop(columns=[target_column])\n",
        "\n",
        "    # Identify numeric and categorical columns\n",
        "    numeric_columns = train_df.select_dtypes(include=['int64', 'float64']).columns.tolist()\n",
        "    categorical_columns = train_df.select_dtypes(include=['object']).columns.tolist()\n",
        "\n",
        "    # Ensure numeric and categorical columns exist in both train and test\n",
        "    numeric_columns = [col for col in numeric_columns if col in test_df.columns]\n",
        "    categorical_columns = [col for col in categorical_columns if col in test_df.columns]\n",
        "\n",
        "    # Handle missing values\n",
        "    numeric_imputer = SimpleImputer(strategy='median')\n",
        "    train_df[numeric_columns] = numeric_imputer.fit_transform(train_df[numeric_columns])\n",
        "    test_df[numeric_columns] = numeric_imputer.transform(test_df[numeric_columns])\n",
        "\n",
        "    categorical_imputer = SimpleImputer(strategy='constant', fill_value='missing')\n",
        "    train_df[categorical_columns] = categorical_imputer.fit_transform(train_df[categorical_columns])\n",
        "    test_df[categorical_columns] = categorical_imputer.transform(test_df[categorical_columns])\n",
        "\n",
        "    # Frequency Encoding for categorical columns\n",
        "    for col in categorical_columns:\n",
        "        combined = pd.concat([train_df[col], test_df[col]])\n",
        "        freq_encoding = combined.value_counts(normalize=True)\n",
        "        train_df[col] = train_df[col].map(freq_encoding).fillna(0)\n",
        "        test_df[col] = test_df[col].map(freq_encoding).fillna(0)\n",
        "\n",
        "    # Align column order\n",
        "    test_df = test_df[train_df.columns]\n",
        "\n",
        "    # Replace infinities with NaN\n",
        "    train_df.replace([np.inf, -np.inf], np.nan, inplace=True)\n",
        "    test_df.replace([np.inf, -np.inf], np.nan, inplace=True)\n",
        "\n",
        "    # Final imputation for NaNs\n",
        "    train_df = numeric_imputer.fit_transform(train_df)\n",
        "    test_df = numeric_imputer.transform(test_df)\n",
        "\n",
        "    # Standardize numeric columns\n",
        "    scaler = StandardScaler()\n",
        "    train_df = scaler.fit_transform(train_df)\n",
        "    test_df = scaler.transform(test_df)\n",
        "\n",
        "    print(\"Preprocessing (Method B) complete.\")\n",
        "    return train_df, test_df"
      ]
    },
    {
      "cell_type": "code",
      "execution_count": null,
      "metadata": {
        "colab": {
          "base_uri": "https://localhost:8080/"
        },
        "id": "M1jutdMHp7Ib",
        "outputId": "1f4e3ec8-9777-4ac3-e31f-4962c1267165"
      },
      "outputs": [
        {
          "name": "stdout",
          "output_type": "stream",
          "text": [
            "Starting preprocessing (Method B)...\n",
            "Preprocessing (Method B) complete.\n",
            "=== Verification of Preprocessed Data ===\n",
            "NaN values in train data: False\n",
            "NaN values in test data: False\n",
            "Infinity values in train data: False\n",
            "Infinity values in test data: False\n",
            "Max value in train data: 604.9377178842773\n",
            "Min value in train data: -186.37770000411408\n",
            "Max value in test data: 2431.967463663471\n",
            "Min value in test data: -186.37770000411408\n",
            "Shape of train data: (590540, 445)\n",
            "Shape of test data: (506691, 445)\n",
            "Zero-variance columns in train data: 0\n",
            "Zero-variance columns in test data: 0\n",
            "=== Verification Completed ===\n"
          ]
        }
      ],
      "source": [
        "train_df_NN, test_df_NN = preprocess_for_NN(train_processed, test_processed, target_column='isFraud')\n",
        "verify_preprocessed_data(train_df_NN, test_df_NN)\n",
        "# Convert to PyTorch tensors for neural network\n",
        "train_tensor = torch.tensor(train_df_NN, dtype=torch.float32)\n",
        "test_tensor = torch.tensor(test_df_NN, dtype=torch.float32)"
      ]
    },
    {
      "cell_type": "code",
      "execution_count": null,
      "metadata": {
        "colab": {
          "base_uri": "https://localhost:8080/"
        },
        "id": "9gdl0YlRvTEi",
        "outputId": "b9cb1f54-20a9-4ddb-b3fb-7bbf135f6272"
      },
      "outputs": [
        {
          "name": "stdout",
          "output_type": "stream",
          "text": [
            "=== Verification of Preprocessed Data ===\n",
            "NaN values in train data: True\n",
            "NaN values in test data: True\n",
            "Infinity values in train data: False\n",
            "Infinity values in test data: False\n",
            "Max value in train data: nan\n",
            "Min value in train data: nan\n",
            "Max value in test data: nan\n",
            "Min value in test data: nan\n",
            "Shape of train data: (590540, 445)\n",
            "Shape of test data: (506691, 445)\n",
            "Zero-variance columns in train data: 0\n",
            "Zero-variance columns in test data: 0\n",
            "=== Verification Completed ===\n"
          ]
        }
      ],
      "source": [
        "verify_preprocessed_data(train_df_NN, test_df_NN)"
      ]
    },
    {
      "cell_type": "code",
      "execution_count": null,
      "metadata": {
        "colab": {
          "base_uri": "https://localhost:8080/"
        },
        "id": "6bxkawamvhLr",
        "outputId": "1ae58328-f68c-46a7-b7d3-9cab6c52180f"
      },
      "outputs": [
        {
          "name": "stdout",
          "output_type": "stream",
          "text": [
            "Checking for NaN values in training dataset:\n",
            "Series([], dtype: int64)\n",
            "\n",
            "Checking for NaN values in testing dataset:\n",
            "Series([], dtype: int64)\n"
          ]
        }
      ],
      "source": [
        "import pandas as pd\n",
        "\n",
        "# Replace with actual column names if you have them\n",
        "column_names = [f\"feature_{i}\" for i in range(train_df_NN.shape[1])]\n",
        "\n",
        "# Convert to DataFrame\n",
        "train_df_NN_df = pd.DataFrame(train_df_NN, columns=column_names)\n",
        "test_df_NN_df = pd.DataFrame(test_df_NN, columns=column_names)\n",
        "\n",
        "\n",
        "print(\"Checking for NaN values in training dataset:\")\n",
        "nan_train = train_df_NN_df.isnull().sum()\n",
        "nan_train = nan_train[nan_train > 0]  # Filter only columns with NaN values\n",
        "print(nan_train)\n",
        "\n",
        "print(\"\\nChecking for NaN values in testing dataset:\")\n",
        "nan_test = test_df_NN_df.isnull().sum()\n",
        "nan_test = nan_test[nan_test > 0]  # Filter only columns with NaN values\n",
        "print(nan_test)"
      ]
    },
    {
      "cell_type": "code",
      "execution_count": null,
      "metadata": {
        "colab": {
          "base_uri": "https://localhost:8080/",
          "height": 1000
        },
        "id": "P3WkfOngp1Sl",
        "outputId": "0483c691-5f33-4a34-ed43-d65cf87f5742"
      },
      "outputs": [
        {
          "name": "stdout",
          "output_type": "stream",
          "text": [
            "Epoch 1/50, Loss: 0.0026\n",
            "Epoch 2/50, Loss: 0.0020\n",
            "Epoch 3/50, Loss: 0.0019\n",
            "Epoch 4/50, Loss: 0.0017\n",
            "Epoch 5/50, Loss: 0.0016\n",
            "Epoch 6/50, Loss: 0.0016\n",
            "Epoch 7/50, Loss: 0.0015\n",
            "Epoch 8/50, Loss: 0.0015\n",
            "Epoch 9/50, Loss: 0.0014\n",
            "Epoch 10/50, Loss: 0.0014\n",
            "Epoch 11/50, Loss: 0.0015\n",
            "Epoch 12/50, Loss: 0.0014\n",
            "Epoch 13/50, Loss: 0.0014\n",
            "Epoch 14/50, Loss: 0.0013\n",
            "Epoch 15/50, Loss: 0.0013\n",
            "Epoch 16/50, Loss: 0.0013\n",
            "Epoch 17/50, Loss: 0.0012\n",
            "Epoch 18/50, Loss: 0.0012\n",
            "Epoch 19/50, Loss: 0.0013\n",
            "Epoch 20/50, Loss: 0.0013\n",
            "Epoch 21/50, Loss: 0.0012\n",
            "Epoch 22/50, Loss: 0.0012\n",
            "Epoch 23/50, Loss: 0.0012\n",
            "Epoch 24/50, Loss: 0.0012\n",
            "Epoch 25/50, Loss: 0.0011\n",
            "Epoch 26/50, Loss: 0.0011\n",
            "Epoch 27/50, Loss: 0.0011\n",
            "Epoch 28/50, Loss: 0.0013\n",
            "Epoch 29/50, Loss: 0.0013\n",
            "Epoch 30/50, Loss: 0.0012\n",
            "Epoch 31/50, Loss: 0.0012\n",
            "Epoch 32/50, Loss: 0.0011\n",
            "Epoch 33/50, Loss: 0.0013\n",
            "Epoch 34/50, Loss: 0.0012\n",
            "Epoch 35/50, Loss: 0.0013\n",
            "Epoch 36/50, Loss: 0.0013\n",
            "Epoch 37/50, Loss: 0.0013\n",
            "Epoch 38/50, Loss: 0.0012\n",
            "Epoch 39/50, Loss: 0.0012\n",
            "Epoch 40/50, Loss: 0.0011\n",
            "Epoch 41/50, Loss: 0.0012\n",
            "Epoch 42/50, Loss: 0.0011\n",
            "Epoch 43/50, Loss: 0.0013\n",
            "Epoch 44/50, Loss: 0.0012\n",
            "Epoch 45/50, Loss: 0.0011\n",
            "Epoch 46/50, Loss: 0.0012\n",
            "Epoch 47/50, Loss: 0.0012\n",
            "Epoch 48/50, Loss: 0.0011\n",
            "Epoch 49/50, Loss: 0.0014\n",
            "Epoch 50/50, Loss: 0.0011\n"
          ]
        },
        {
          "ename": "AttributeError",
          "evalue": "'Series' object has no attribute 'numpy'",
          "output_type": "error",
          "traceback": [
            "\u001b[0;31m---------------------------------------------------------------------------\u001b[0m",
            "\u001b[0;31mAttributeError\u001b[0m                            Traceback (most recent call last)",
            "\u001b[0;32m<ipython-input-61-cabfb1b5b7b9>\u001b[0m in \u001b[0;36m<cell line: 96>\u001b[0;34m()\u001b[0m\n\u001b[1;32m     94\u001b[0m \u001b[0;34m\u001b[0m\u001b[0m\n\u001b[1;32m     95\u001b[0m \u001b[0;31m# Calculate AUC\u001b[0m\u001b[0;34m\u001b[0m\u001b[0;34m\u001b[0m\u001b[0m\n\u001b[0;32m---> 96\u001b[0;31m \u001b[0mauc\u001b[0m \u001b[0;34m=\u001b[0m \u001b[0mroc_auc_score\u001b[0m\u001b[0;34m(\u001b[0m\u001b[0my_val_split\u001b[0m\u001b[0;34m.\u001b[0m\u001b[0mnumpy\u001b[0m\u001b[0;34m(\u001b[0m\u001b[0;34m)\u001b[0m\u001b[0;34m,\u001b[0m \u001b[0mreconstruction_loss\u001b[0m\u001b[0;34m)\u001b[0m\u001b[0;34m\u001b[0m\u001b[0;34m\u001b[0m\u001b[0m\n\u001b[0m\u001b[1;32m     97\u001b[0m \u001b[0mprint\u001b[0m\u001b[0;34m(\u001b[0m\u001b[0;34mf\"AUC Score: {auc:.4f}\"\u001b[0m\u001b[0;34m)\u001b[0m\u001b[0;34m\u001b[0m\u001b[0;34m\u001b[0m\u001b[0m\n\u001b[1;32m     98\u001b[0m \u001b[0;34m\u001b[0m\u001b[0m\n",
            "\u001b[0;32m/usr/local/lib/python3.10/dist-packages/pandas/core/generic.py\u001b[0m in \u001b[0;36m__getattr__\u001b[0;34m(self, name)\u001b[0m\n\u001b[1;32m   6297\u001b[0m         ):\n\u001b[1;32m   6298\u001b[0m             \u001b[0;32mreturn\u001b[0m \u001b[0mself\u001b[0m\u001b[0;34m[\u001b[0m\u001b[0mname\u001b[0m\u001b[0;34m]\u001b[0m\u001b[0;34m\u001b[0m\u001b[0;34m\u001b[0m\u001b[0m\n\u001b[0;32m-> 6299\u001b[0;31m         \u001b[0;32mreturn\u001b[0m \u001b[0mobject\u001b[0m\u001b[0;34m.\u001b[0m\u001b[0m__getattribute__\u001b[0m\u001b[0;34m(\u001b[0m\u001b[0mself\u001b[0m\u001b[0;34m,\u001b[0m \u001b[0mname\u001b[0m\u001b[0;34m)\u001b[0m\u001b[0;34m\u001b[0m\u001b[0;34m\u001b[0m\u001b[0m\n\u001b[0m\u001b[1;32m   6300\u001b[0m \u001b[0;34m\u001b[0m\u001b[0m\n\u001b[1;32m   6301\u001b[0m     \u001b[0;34m@\u001b[0m\u001b[0mfinal\u001b[0m\u001b[0;34m\u001b[0m\u001b[0;34m\u001b[0m\u001b[0m\n",
            "\u001b[0;31mAttributeError\u001b[0m: 'Series' object has no attribute 'numpy'"
          ]
        }
      ],
      "source": [
        "import numpy as np\n",
        "import torch\n",
        "import torch.nn as nn\n",
        "import torch.optim as optim\n",
        "from sklearn.model_selection import train_test_split\n",
        "from sklearn.metrics import roc_auc_score\n",
        "from sklearn.preprocessing import StandardScaler\n",
        "\n",
        "# Assume train_tensor and y_train are ready from preprocessing\n",
        "\n",
        "# Train-Validation Split\n",
        "X_train_split, X_val_split, y_train_split, y_val_split = train_test_split(\n",
        "    train_tensor.numpy(),  # Convert to NumPy for splitting\n",
        "    y_train,               # Target labels\n",
        "    test_size=0.2,         # 20% validation split\n",
        "    random_state=42        # For reproducibility\n",
        ")\n",
        "\n",
        "# Target for validation\n",
        "\n",
        "scaler = StandardScaler()\n",
        "X_train_split = scaler.fit_transform(X_train_split)\n",
        "X_val_split = scaler.transform(X_val_split)\n",
        "\n",
        "# Convert to tensors\n",
        "train_tensor_split = torch.tensor(X_train_split, dtype=torch.float32)\n",
        "val_tensor = torch.tensor(X_val_split, dtype=torch.float32)\n",
        "\n",
        "# Define the Autoencoder Neural Network\n",
        "class Autoencoder(nn.Module):\n",
        "    def __init__(self, input_dim, encoding_dim):\n",
        "        super(Autoencoder, self).__init__()\n",
        "        self.encoder = nn.Sequential(\n",
        "            nn.Linear(input_dim, 128),\n",
        "            nn.ReLU(),\n",
        "            nn.Linear(128, encoding_dim),\n",
        "            nn.ReLU()\n",
        "        )\n",
        "        self.decoder = nn.Sequential(\n",
        "            nn.Linear(encoding_dim, 128),\n",
        "            nn.ReLU(),\n",
        "            nn.Linear(128, input_dim)\n",
        "        )\n",
        "\n",
        "    def forward(self, x):\n",
        "        encoded = self.encoder(x)\n",
        "        decoded = self.decoder(encoded)\n",
        "        return decoded\n",
        "\n",
        "# Initialize the Autoencoder\n",
        "input_dim = train_tensor_split.shape[1]  # Number of features\n",
        "encoding_dim = 32  # Bottleneck size\n",
        "model = Autoencoder(input_dim, encoding_dim)\n",
        "\n",
        "# Define Loss Function and Optimizer\n",
        "criterion = nn.MSELoss()  # Reconstruction loss\n",
        "optimizer = optim.Adam(model.parameters(), lr=0.001)\n",
        "\n",
        "# Training Loop\n",
        "epochs = 50\n",
        "batch_size = 128\n",
        "\n",
        "for epoch in range(epochs):\n",
        "    model.train()\n",
        "    permutation = torch.randperm(train_tensor_split.size(0))\n",
        "    epoch_loss = 0\n",
        "\n",
        "    for i in range(0, train_tensor_split.size(0), batch_size):\n",
        "        indices = permutation[i:i + batch_size]\n",
        "        batch_data = train_tensor_split[indices]\n",
        "\n",
        "        # Forward pass\n",
        "        outputs = model(batch_data)\n",
        "        loss = criterion(outputs, batch_data)\n",
        "\n",
        "        # Backward pass\n",
        "        optimizer.zero_grad()\n",
        "        loss.backward()\n",
        "        optimizer.step()\n",
        "\n",
        "        epoch_loss += loss.item()\n",
        "\n",
        "    print(f\"Epoch {epoch + 1}/{epochs}, Loss: {epoch_loss / len(train_tensor_split):.4f}\")\n",
        "\n"
      ]
    },
    {
      "cell_type": "code",
      "execution_count": null,
      "metadata": {
        "colab": {
          "base_uri": "https://localhost:8080/"
        },
        "id": "BeXc17ml36-P",
        "outputId": "bffa6d32-c29e-42c9-bacf-4a67b6e39f17"
      },
      "outputs": [
        {
          "name": "stdout",
          "output_type": "stream",
          "text": [
            "Starting Fold 1\n",
            "Fold 1, Epoch 1/50, Loss: 0.0027\n",
            "Fold 1, Epoch 2/50, Loss: 0.0020\n",
            "Fold 1, Epoch 3/50, Loss: 0.0018\n",
            "Fold 1, Epoch 4/50, Loss: 0.0016\n",
            "Fold 1, Epoch 5/50, Loss: 0.0017\n",
            "Fold 1, Epoch 6/50, Loss: 0.0015\n",
            "Fold 1, Epoch 7/50, Loss: 0.0014\n",
            "Fold 1, Epoch 8/50, Loss: 0.0014\n",
            "Fold 1, Epoch 9/50, Loss: 0.0014\n",
            "Fold 1, Epoch 10/50, Loss: 0.0013\n",
            "Fold 1, Epoch 11/50, Loss: 0.0012\n",
            "Fold 1, Epoch 12/50, Loss: 0.0014\n",
            "Fold 1, Epoch 13/50, Loss: 0.0013\n",
            "Fold 1, Epoch 14/50, Loss: 0.0014\n",
            "Fold 1, Epoch 15/50, Loss: 0.0013\n",
            "Fold 1, Epoch 16/50, Loss: 0.0012\n",
            "Fold 1, Epoch 17/50, Loss: 0.0013\n",
            "Fold 1, Epoch 18/50, Loss: 0.0012\n",
            "Fold 1, Epoch 19/50, Loss: 0.0012\n",
            "Fold 1, Epoch 20/50, Loss: 0.0012\n",
            "Fold 1, Epoch 21/50, Loss: 0.0012\n",
            "Fold 1, Epoch 22/50, Loss: 0.0011\n",
            "Fold 1, Epoch 23/50, Loss: 0.0011\n",
            "Fold 1, Epoch 24/50, Loss: 0.0011\n",
            "Fold 1, Epoch 25/50, Loss: 0.0012\n",
            "Fold 1, Epoch 26/50, Loss: 0.0011\n",
            "Fold 1, Epoch 27/50, Loss: 0.0011\n",
            "Fold 1, Epoch 28/50, Loss: 0.0015\n",
            "Fold 1, Epoch 29/50, Loss: 0.0012\n",
            "Fold 1, Epoch 30/50, Loss: 0.0011\n",
            "Fold 1, Epoch 31/50, Loss: 0.0011\n",
            "Fold 1, Epoch 32/50, Loss: 0.0010\n",
            "Fold 1, Epoch 33/50, Loss: 0.0011\n",
            "Fold 1, Epoch 34/50, Loss: 0.0012\n",
            "Fold 1, Epoch 35/50, Loss: 0.0011\n",
            "Fold 1, Epoch 36/50, Loss: 0.0012\n",
            "Fold 1, Epoch 37/50, Loss: 0.0010\n",
            "Fold 1, Epoch 38/50, Loss: 0.0011\n",
            "Fold 1, Epoch 39/50, Loss: 0.0010\n",
            "Fold 1, Epoch 40/50, Loss: 0.0013\n",
            "Fold 1, Epoch 41/50, Loss: 0.0010\n",
            "Fold 1, Epoch 42/50, Loss: 0.0011\n",
            "Fold 1, Epoch 43/50, Loss: 0.0010\n",
            "Fold 1, Epoch 44/50, Loss: 0.0011\n",
            "Fold 1, Epoch 45/50, Loss: 0.0011\n",
            "Fold 1, Epoch 46/50, Loss: 0.0010\n",
            "Fold 1, Epoch 47/50, Loss: 0.0010\n",
            "Fold 1, Epoch 48/50, Loss: 0.0013\n",
            "Fold 1, Epoch 49/50, Loss: 0.0011\n",
            "Fold 1, Epoch 50/50, Loss: 0.0010\n",
            "Fold 1, AUC Score: 0.7674\n",
            "Starting Fold 2\n",
            "Fold 2, Epoch 1/50, Loss: 0.0026\n",
            "Fold 2, Epoch 2/50, Loss: 0.0018\n",
            "Fold 2, Epoch 3/50, Loss: 0.0018\n",
            "Fold 2, Epoch 4/50, Loss: 0.0016\n",
            "Fold 2, Epoch 5/50, Loss: 0.0015\n",
            "Fold 2, Epoch 6/50, Loss: 0.0015\n",
            "Fold 2, Epoch 7/50, Loss: 0.0014\n",
            "Fold 2, Epoch 8/50, Loss: 0.0014\n",
            "Fold 2, Epoch 9/50, Loss: 0.0013\n",
            "Fold 2, Epoch 10/50, Loss: 0.0012\n",
            "Fold 2, Epoch 11/50, Loss: 0.0013\n",
            "Fold 2, Epoch 12/50, Loss: 0.0013\n",
            "Fold 2, Epoch 13/50, Loss: 0.0015\n",
            "Fold 2, Epoch 14/50, Loss: 0.0013\n",
            "Fold 2, Epoch 15/50, Loss: 0.0013\n",
            "Fold 2, Epoch 16/50, Loss: 0.0013\n",
            "Fold 2, Epoch 17/50, Loss: 0.0013\n",
            "Fold 2, Epoch 18/50, Loss: 0.0012\n",
            "Fold 2, Epoch 19/50, Loss: 0.0012\n",
            "Fold 2, Epoch 20/50, Loss: 0.0012\n",
            "Fold 2, Epoch 21/50, Loss: 0.0012\n",
            "Fold 2, Epoch 22/50, Loss: 0.0011\n",
            "Fold 2, Epoch 23/50, Loss: 0.0012\n",
            "Fold 2, Epoch 24/50, Loss: 0.0011\n",
            "Fold 2, Epoch 25/50, Loss: 0.0011\n",
            "Fold 2, Epoch 26/50, Loss: 0.0012\n",
            "Fold 2, Epoch 27/50, Loss: 0.0012\n",
            "Fold 2, Epoch 28/50, Loss: 0.0011\n",
            "Fold 2, Epoch 29/50, Loss: 0.0012\n",
            "Fold 2, Epoch 30/50, Loss: 0.0012\n",
            "Fold 2, Epoch 31/50, Loss: 0.0012\n",
            "Fold 2, Epoch 32/50, Loss: 0.0012\n",
            "Fold 2, Epoch 33/50, Loss: 0.0011\n",
            "Fold 2, Epoch 34/50, Loss: 0.0013\n",
            "Fold 2, Epoch 35/50, Loss: 0.0011\n",
            "Fold 2, Epoch 36/50, Loss: 0.0012\n",
            "Fold 2, Epoch 37/50, Loss: 0.0011\n",
            "Fold 2, Epoch 38/50, Loss: 0.0011\n",
            "Fold 2, Epoch 39/50, Loss: 0.0011\n",
            "Fold 2, Epoch 40/50, Loss: 0.0012\n",
            "Fold 2, Epoch 41/50, Loss: 0.0012\n",
            "Fold 2, Epoch 42/50, Loss: 0.0011\n",
            "Fold 2, Epoch 43/50, Loss: 0.0010\n",
            "Fold 2, Epoch 44/50, Loss: 0.0011\n",
            "Fold 2, Epoch 45/50, Loss: 0.0011\n",
            "Fold 2, Epoch 46/50, Loss: 0.0011\n",
            "Fold 2, Epoch 47/50, Loss: 0.0011\n",
            "Fold 2, Epoch 48/50, Loss: 0.0011\n",
            "Fold 2, Epoch 49/50, Loss: 0.0010\n",
            "Fold 2, Epoch 50/50, Loss: 0.0012\n",
            "Fold 2, AUC Score: 0.7669\n",
            "Starting Fold 3\n",
            "Fold 3, Epoch 1/50, Loss: 0.0025\n",
            "Fold 3, Epoch 2/50, Loss: 0.0017\n",
            "Fold 3, Epoch 3/50, Loss: 0.0016\n",
            "Fold 3, Epoch 4/50, Loss: 0.0014\n",
            "Fold 3, Epoch 5/50, Loss: 0.0014\n",
            "Fold 3, Epoch 6/50, Loss: 0.0013\n",
            "Fold 3, Epoch 7/50, Loss: 0.0013\n",
            "Fold 3, Epoch 8/50, Loss: 0.0013\n",
            "Fold 3, Epoch 9/50, Loss: 0.0013\n",
            "Fold 3, Epoch 10/50, Loss: 0.0012\n",
            "Fold 3, Epoch 11/50, Loss: 0.0012\n",
            "Fold 3, Epoch 12/50, Loss: 0.0011\n",
            "Fold 3, Epoch 13/50, Loss: 0.0012\n",
            "Fold 3, Epoch 14/50, Loss: 0.0011\n",
            "Fold 3, Epoch 15/50, Loss: 0.0011\n",
            "Fold 3, Epoch 16/50, Loss: 0.0011\n",
            "Fold 3, Epoch 17/50, Loss: 0.0011\n",
            "Fold 3, Epoch 18/50, Loss: 0.0011\n",
            "Fold 3, Epoch 19/50, Loss: 0.0011\n",
            "Fold 3, Epoch 20/50, Loss: 0.0011\n",
            "Fold 3, Epoch 21/50, Loss: 0.0011\n",
            "Fold 3, Epoch 22/50, Loss: 0.0011\n",
            "Fold 3, Epoch 23/50, Loss: 0.0010\n",
            "Fold 3, Epoch 24/50, Loss: 0.0010\n",
            "Fold 3, Epoch 25/50, Loss: 0.0010\n",
            "Fold 3, Epoch 26/50, Loss: 0.0010\n",
            "Fold 3, Epoch 27/50, Loss: 0.0011\n",
            "Fold 3, Epoch 28/50, Loss: 0.0010\n",
            "Fold 3, Epoch 29/50, Loss: 0.0010\n",
            "Fold 3, Epoch 30/50, Loss: 0.0010\n",
            "Fold 3, Epoch 31/50, Loss: 0.0010\n",
            "Fold 3, Epoch 32/50, Loss: 0.0010\n",
            "Fold 3, Epoch 33/50, Loss: 0.0010\n",
            "Fold 3, Epoch 34/50, Loss: 0.0010\n",
            "Fold 3, Epoch 35/50, Loss: 0.0010\n",
            "Fold 3, Epoch 36/50, Loss: 0.0010\n",
            "Fold 3, Epoch 37/50, Loss: 0.0010\n",
            "Fold 3, Epoch 38/50, Loss: 0.0010\n",
            "Fold 3, Epoch 39/50, Loss: 0.0010\n",
            "Fold 3, Epoch 40/50, Loss: 0.0010\n",
            "Fold 3, Epoch 41/50, Loss: 0.0010\n",
            "Fold 3, Epoch 42/50, Loss: 0.0010\n",
            "Fold 3, Epoch 43/50, Loss: 0.0010\n",
            "Fold 3, Epoch 44/50, Loss: 0.0010\n",
            "Fold 3, Epoch 45/50, Loss: 0.0009\n",
            "Fold 3, Epoch 46/50, Loss: 0.0010\n",
            "Fold 3, Epoch 47/50, Loss: 0.0010\n",
            "Fold 3, Epoch 48/50, Loss: 0.0010\n",
            "Fold 3, Epoch 49/50, Loss: 0.0010\n",
            "Fold 3, Epoch 50/50, Loss: 0.0009\n",
            "Fold 3, AUC Score: 0.7676\n",
            "Starting Fold 4\n",
            "Fold 4, Epoch 1/50, Loss: 0.0026\n",
            "Fold 4, Epoch 2/50, Loss: 0.0020\n",
            "Fold 4, Epoch 3/50, Loss: 0.0018\n",
            "Fold 4, Epoch 4/50, Loss: 0.0016\n",
            "Fold 4, Epoch 5/50, Loss: 0.0015\n",
            "Fold 4, Epoch 6/50, Loss: 0.0015\n",
            "Fold 4, Epoch 7/50, Loss: 0.0014\n",
            "Fold 4, Epoch 8/50, Loss: 0.0014\n",
            "Fold 4, Epoch 9/50, Loss: 0.0013\n",
            "Fold 4, Epoch 10/50, Loss: 0.0013\n",
            "Fold 4, Epoch 11/50, Loss: 0.0013\n",
            "Fold 4, Epoch 12/50, Loss: 0.0012\n",
            "Fold 4, Epoch 13/50, Loss: 0.0012\n",
            "Fold 4, Epoch 14/50, Loss: 0.0012\n",
            "Fold 4, Epoch 15/50, Loss: 0.0012\n",
            "Fold 4, Epoch 16/50, Loss: 0.0012\n",
            "Fold 4, Epoch 17/50, Loss: 0.0012\n",
            "Fold 4, Epoch 18/50, Loss: 0.0012\n",
            "Fold 4, Epoch 19/50, Loss: 0.0012\n",
            "Fold 4, Epoch 20/50, Loss: 0.0011\n",
            "Fold 4, Epoch 21/50, Loss: 0.0011\n",
            "Fold 4, Epoch 22/50, Loss: 0.0011\n",
            "Fold 4, Epoch 23/50, Loss: 0.0012\n",
            "Fold 4, Epoch 24/50, Loss: 0.0011\n",
            "Fold 4, Epoch 25/50, Loss: 0.0012\n",
            "Fold 4, Epoch 26/50, Loss: 0.0011\n",
            "Fold 4, Epoch 27/50, Loss: 0.0011\n",
            "Fold 4, Epoch 28/50, Loss: 0.0010\n",
            "Fold 4, Epoch 29/50, Loss: 0.0011\n",
            "Fold 4, Epoch 30/50, Loss: 0.0011\n",
            "Fold 4, Epoch 31/50, Loss: 0.0011\n",
            "Fold 4, Epoch 32/50, Loss: 0.0011\n",
            "Fold 4, Epoch 33/50, Loss: 0.0011\n",
            "Fold 4, Epoch 34/50, Loss: 0.0010\n",
            "Fold 4, Epoch 35/50, Loss: 0.0011\n",
            "Fold 4, Epoch 36/50, Loss: 0.0011\n",
            "Fold 4, Epoch 37/50, Loss: 0.0011\n",
            "Fold 4, Epoch 38/50, Loss: 0.0011\n",
            "Fold 4, Epoch 39/50, Loss: 0.0011\n",
            "Fold 4, Epoch 40/50, Loss: 0.0011\n",
            "Fold 4, Epoch 41/50, Loss: 0.0010\n",
            "Fold 4, Epoch 42/50, Loss: 0.0011\n",
            "Fold 4, Epoch 43/50, Loss: 0.0011\n",
            "Fold 4, Epoch 44/50, Loss: 0.0011\n",
            "Fold 4, Epoch 45/50, Loss: 0.0011\n",
            "Fold 4, Epoch 46/50, Loss: 0.0011\n",
            "Fold 4, Epoch 47/50, Loss: 0.0010\n",
            "Fold 4, Epoch 48/50, Loss: 0.0011\n",
            "Fold 4, Epoch 49/50, Loss: 0.0011\n",
            "Fold 4, Epoch 50/50, Loss: 0.0010\n",
            "Fold 4, AUC Score: 0.7672\n",
            "Starting Fold 5\n",
            "Fold 5, Epoch 1/50, Loss: 0.0026\n",
            "Fold 5, Epoch 2/50, Loss: 0.0019\n",
            "Fold 5, Epoch 3/50, Loss: 0.0018\n",
            "Fold 5, Epoch 4/50, Loss: 0.0016\n",
            "Fold 5, Epoch 5/50, Loss: 0.0015\n",
            "Fold 5, Epoch 6/50, Loss: 0.0015\n",
            "Fold 5, Epoch 7/50, Loss: 0.0014\n",
            "Fold 5, Epoch 8/50, Loss: 0.0013\n",
            "Fold 5, Epoch 9/50, Loss: 0.0015\n",
            "Fold 5, Epoch 10/50, Loss: 0.0013\n",
            "Fold 5, Epoch 11/50, Loss: 0.0013\n",
            "Fold 5, Epoch 12/50, Loss: 0.0013\n",
            "Fold 5, Epoch 13/50, Loss: 0.0013\n",
            "Fold 5, Epoch 14/50, Loss: 0.0013\n",
            "Fold 5, Epoch 15/50, Loss: 0.0012\n",
            "Fold 5, Epoch 16/50, Loss: 0.0012\n",
            "Fold 5, Epoch 17/50, Loss: 0.0012\n",
            "Fold 5, Epoch 18/50, Loss: 0.0012\n",
            "Fold 5, Epoch 19/50, Loss: 0.0013\n",
            "Fold 5, Epoch 20/50, Loss: 0.0012\n",
            "Fold 5, Epoch 21/50, Loss: 0.0012\n",
            "Fold 5, Epoch 22/50, Loss: 0.0012\n",
            "Fold 5, Epoch 23/50, Loss: 0.0011\n",
            "Fold 5, Epoch 24/50, Loss: 0.0012\n",
            "Fold 5, Epoch 25/50, Loss: 0.0012\n",
            "Fold 5, Epoch 26/50, Loss: 0.0011\n",
            "Fold 5, Epoch 27/50, Loss: 0.0013\n",
            "Fold 5, Epoch 28/50, Loss: 0.0011\n",
            "Fold 5, Epoch 29/50, Loss: 0.0011\n",
            "Fold 5, Epoch 30/50, Loss: 0.0011\n",
            "Fold 5, Epoch 31/50, Loss: 0.0011\n",
            "Fold 5, Epoch 32/50, Loss: 0.0012\n",
            "Fold 5, Epoch 33/50, Loss: 0.0011\n",
            "Fold 5, Epoch 34/50, Loss: 0.0013\n",
            "Fold 5, Epoch 35/50, Loss: 0.0012\n",
            "Fold 5, Epoch 36/50, Loss: 0.0011\n",
            "Fold 5, Epoch 37/50, Loss: 0.0011\n",
            "Fold 5, Epoch 38/50, Loss: 0.0011\n",
            "Fold 5, Epoch 39/50, Loss: 0.0012\n",
            "Fold 5, Epoch 40/50, Loss: 0.0013\n",
            "Fold 5, Epoch 41/50, Loss: 0.0013\n",
            "Fold 5, Epoch 42/50, Loss: 0.0012\n",
            "Fold 5, Epoch 43/50, Loss: 0.0013\n",
            "Fold 5, Epoch 44/50, Loss: 0.0012\n",
            "Fold 5, Epoch 45/50, Loss: 0.0013\n",
            "Fold 5, Epoch 46/50, Loss: 0.0011\n",
            "Fold 5, Epoch 47/50, Loss: 0.0011\n",
            "Fold 5, Epoch 48/50, Loss: 0.0013\n",
            "Fold 5, Epoch 49/50, Loss: 0.0011\n",
            "Fold 5, Epoch 50/50, Loss: 0.0011\n",
            "Fold 5, AUC Score: 0.7646\n",
            "Final Cross-Validation AUC: 0.7667\n"
          ]
        }
      ],
      "source": [
        "import numpy as np\n",
        "import torch\n",
        "import torch.nn as nn\n",
        "import torch.optim as optim\n",
        "from sklearn.model_selection import StratifiedKFold\n",
        "from sklearn.metrics import roc_auc_score\n",
        "from sklearn.preprocessing import StandardScaler\n",
        "\n",
        "# Define the Autoencoder Neural Network\n",
        "class Autoencoder(nn.Module):\n",
        "    def __init__(self, input_dim, encoding_dim):\n",
        "        super(Autoencoder, self).__init__()\n",
        "        self.encoder = nn.Sequential(\n",
        "            nn.Linear(input_dim, 128),\n",
        "            nn.ReLU(),\n",
        "            nn.Linear(128, encoding_dim),\n",
        "            nn.ReLU()\n",
        "        )\n",
        "        self.decoder = nn.Sequential(\n",
        "            nn.Linear(encoding_dim, 128),\n",
        "            nn.ReLU(),\n",
        "            nn.Linear(128, input_dim)\n",
        "        )\n",
        "\n",
        "    def forward(self, x):\n",
        "        encoded = self.encoder(x)\n",
        "        decoded = self.decoder(encoded)\n",
        "        return decoded\n",
        "\n",
        "# Assume train_tensor and y_train are ready from preprocessing\n",
        "\n",
        "# Scale the entire dataset first\n",
        "scaler = StandardScaler()\n",
        "X_scaled = scaler.fit_transform(train_tensor.numpy())\n",
        "y = y_train.values  # Assuming y_train is a pandas Series\n",
        "\n",
        "# Cross-validation setup\n",
        "kf = StratifiedKFold(n_splits=5, shuffle=True, random_state=42)\n",
        "\n",
        "encoding_dim = 32  # Bottleneck size\n",
        "epochs = 50\n",
        "batch_size = 128\n",
        "\n",
        "auc_scores = []\n",
        "\n",
        "for fold, (train_idx, val_idx) in enumerate(kf.split(X_scaled, y)):\n",
        "    print(f\"Starting Fold {fold + 1}\")\n",
        "    X_train_split, X_val_split = X_scaled[train_idx], X_scaled[val_idx]\n",
        "    y_train_split, y_val_split = y[train_idx], y[val_idx]\n",
        "\n",
        "    # Convert to tensors\n",
        "    train_tensor_split = torch.tensor(X_train_split, dtype=torch.float32)\n",
        "    val_tensor = torch.tensor(X_val_split, dtype=torch.float32)\n",
        "\n",
        "    # Initialize the Autoencoder\n",
        "    input_dim = train_tensor_split.shape[1]\n",
        "    model = Autoencoder(input_dim, encoding_dim)\n",
        "\n",
        "    # Define Loss Function and Optimizer\n",
        "    criterion = nn.MSELoss()  # Reconstruction loss\n",
        "    optimizer = optim.Adam(model.parameters(), lr=0.001)\n",
        "\n",
        "    # Training Loop\n",
        "    for epoch in range(epochs):\n",
        "        model.train()\n",
        "        permutation = torch.randperm(train_tensor_split.size(0))\n",
        "        epoch_loss = 0\n",
        "\n",
        "        for i in range(0, train_tensor_split.size(0), batch_size):\n",
        "            indices = permutation[i:i + batch_size]\n",
        "            batch_data = train_tensor_split[indices]\n",
        "\n",
        "            # Forward pass\n",
        "            outputs = model(batch_data)\n",
        "            loss = criterion(outputs, batch_data)\n",
        "\n",
        "            # Backward pass\n",
        "            optimizer.zero_grad()\n",
        "            loss.backward()\n",
        "            optimizer.step()\n",
        "\n",
        "            epoch_loss += loss.item()\n",
        "\n",
        "        print(f\"Fold {fold + 1}, Epoch {epoch + 1}/{epochs}, Loss: {epoch_loss / len(train_tensor_split):.4f}\")\n",
        "\n",
        "    # Evaluate on validation data\n",
        "    model.eval()\n",
        "    with torch.no_grad():\n",
        "        val_reconstructed = model(val_tensor)\n",
        "        reconstruction_loss = torch.mean((val_reconstructed - val_tensor) ** 2, dim=1).numpy()\n",
        "\n",
        "    # Anomaly Detection Threshold\n",
        "    threshold = np.percentile(reconstruction_loss, 95)  # Adjust the percentile as needed\n",
        "    y_pred = (reconstruction_loss > threshold).astype(int)\n",
        "\n",
        "    # Calculate AUC\n",
        "    auc = roc_auc_score(y_val_split, reconstruction_loss)\n",
        "    auc_scores.append(auc)\n",
        "    print(f\"Fold {fold + 1}, AUC Score: {auc:.4f}\")\n",
        "\n",
        "# Final Cross-Validation AUC\n",
        "print(f\"Final Cross-Validation AUC: {np.mean(auc_scores):.4f}\")\n"
      ]
    },
    {
      "cell_type": "code",
      "execution_count": null,
      "metadata": {
        "id": "S39zMMjFub6D"
      },
      "outputs": [],
      "source": [
        "#assert not torch.isnan(train_tensor_split).any(), \"NaN values found in train_tensor_split\"\n",
        "assert not torch.isinf(train_tensor_split).any(), \"Inf values found in train_tensor_split\"\n"
      ]
    },
    {
      "cell_type": "code",
      "execution_count": null,
      "metadata": {
        "colab": {
          "base_uri": "https://localhost:8080/"
        },
        "id": "N1Eay2_frGQd",
        "outputId": "36e8e440-44b2-47fb-d43a-80ef623a124c"
      },
      "outputs": [
        {
          "name": "stdout",
          "output_type": "stream",
          "text": [
            "Submission file created: autoencoder_submission.csv\n"
          ]
        }
      ],
      "source": [
        "\n",
        "# Prediction for Test Set\n",
        "test_tensor = torch.tensor(test_df_NN, dtype=torch.float32)  # Assuming test_tensor is ready\n",
        "with torch.no_grad():\n",
        "    test_reconstructed = model(test_tensor)\n",
        "    test_reconstruction_loss = torch.mean((test_reconstructed - test_tensor) ** 2, dim=1).numpy()\n",
        "\n",
        "# Submission\n",
        "submission = pd.DataFrame({\n",
        "    \"TransactionID\": test_processed[\"TransactionID\"],\n",
        "    \"isFraud\": test_reconstruction_loss  # Use reconstruction loss directly as probabilities\n",
        "})\n",
        "submission.to_csv(\"autoencoder_submission.csv\", index=False)\n",
        "print(\"Submission file created: autoencoder_submission.csv\")"
      ]
    },
    {
      "cell_type": "code",
      "execution_count": null,
      "metadata": {
        "colab": {
          "base_uri": "https://localhost:8080/"
        },
        "id": "MgXIbxZ7XPMo",
        "outputId": "25268b06-b467-49c7-98e1-95a4909541f9"
      },
      "outputs": [
        {
          "name": "stdout",
          "output_type": "stream",
          "text": [
            "Model saved as 'autoencoder_model.pth'\n"
          ]
        }
      ],
      "source": [
        "torch.save(model.state_dict(), \"autoencoder_model.pth\")\n",
        "print(\"Model saved as 'autoencoder_model.pth'\")"
      ]
    },
    {
      "cell_type": "code",
      "execution_count": null,
      "metadata": {
        "id": "YCoLmZwGXQ8g"
      },
      "outputs": [],
      "source": []
    },
    {
      "cell_type": "markdown",
      "source": [
        "# Satcking Logistic Regression with Catboost"
      ],
      "metadata": {
        "id": "_1wJBcq0Hs_s"
      }
    },
    {
      "cell_type": "code",
      "source": [
        "train_processed, test_processed = preprocess_and_detect_uid(train_df, test_df, train_identity, test_identity)\n",
        "test_processed.columns = test_processed.columns.str.replace('-', '_')\n",
        "train_processed.replace([np.inf, -np.inf], np.nan, inplace=True)\n",
        "test_processed.replace([np.inf, -np.inf], np.nan, inplace=True)"
      ],
      "metadata": {
        "colab": {
          "base_uri": "https://localhost:8080/"
        },
        "id": "KpYSAuQsIL9C",
        "outputId": "679f3704-72ed-47b2-ccab-80de5cc40069"
      },
      "execution_count": null,
      "outputs": [
        {
          "output_type": "stream",
          "name": "stdout",
          "text": [
            "Starting preprocessing...\n",
            "Mem. usage decreased to 542.35 Mb (0.0% reduction)\n",
            "Mem. usage decreased to 472.59 Mb (0.0% reduction)\n",
            "Preprocessing and UID detection complete.\n"
          ]
        }
      ]
    },
    {
      "cell_type": "code",
      "source": [
        "filled_train, filled_test, train_y, cat_features = preprocess_for_catboost(train_processed, test_processed)\n",
        "\n",
        "print(\"Preprocessed Train Shape:\", filled_train.shape)\n",
        "print(\"Preprocessed Test Shape:\", filled_test.shape)\n",
        "print(\"Categorical Features:\", cat_features)\n"
      ],
      "metadata": {
        "colab": {
          "base_uri": "https://localhost:8080/"
        },
        "id": "-XC3axapIKs3",
        "outputId": "12fa3d66-7e58-4fed-b0c4-3dbe3e87611c"
      },
      "execution_count": null,
      "outputs": [
        {
          "output_type": "stream",
          "name": "stdout",
          "text": [
            "Preprocessed Train Shape: (590540, 65)\n",
            "Preprocessed Test Shape: (506691, 65)\n",
            "Categorical Features: [32, 33, 34, 35, 36, 37, 38, 39, 40, 41, 42, 43, 44, 45, 46, 47, 48, 49, 50, 51, 52, 53, 54, 55, 56, 57, 58, 59, 60, 61, 62, 63, 64]\n"
          ]
        }
      ]
    },
    {
      "cell_type": "code",
      "source": [
        "filled_train['stacked_log_reg'] = predicted_proba_train_logistic_Regression_baseline_for_Stacking\n",
        "filled_test['stacked_log_reg'] = predicted_proba_test_logistic_Regression_baseline_for_Stacking"
      ],
      "metadata": {
        "id": "_DwQ7jQ0IZqs"
      },
      "execution_count": null,
      "outputs": []
    },
    {
      "cell_type": "code",
      "source": [
        "filled_train['stacked_log_reg']"
      ],
      "metadata": {
        "colab": {
          "base_uri": "https://localhost:8080/",
          "height": 458
        },
        "id": "52soYQBAJwCJ",
        "outputId": "a8dc1f81-36fb-43fc-9731-865afd081352"
      },
      "execution_count": null,
      "outputs": [
        {
          "output_type": "execute_result",
          "data": {
            "text/plain": [
              "0         0.751780\n",
              "1         0.993111\n",
              "2         0.022570\n",
              "3         0.209198\n",
              "4         0.998900\n",
              "            ...   \n",
              "590535    0.000249\n",
              "590536    0.019864\n",
              "590537    0.003043\n",
              "590538    0.009289\n",
              "590539    0.002690\n",
              "Name: stacked_log_reg, Length: 590540, dtype: float64"
            ],
            "text/html": [
              "<div>\n",
              "<style scoped>\n",
              "    .dataframe tbody tr th:only-of-type {\n",
              "        vertical-align: middle;\n",
              "    }\n",
              "\n",
              "    .dataframe tbody tr th {\n",
              "        vertical-align: top;\n",
              "    }\n",
              "\n",
              "    .dataframe thead th {\n",
              "        text-align: right;\n",
              "    }\n",
              "</style>\n",
              "<table border=\"1\" class=\"dataframe\">\n",
              "  <thead>\n",
              "    <tr style=\"text-align: right;\">\n",
              "      <th></th>\n",
              "      <th>stacked_log_reg</th>\n",
              "    </tr>\n",
              "  </thead>\n",
              "  <tbody>\n",
              "    <tr>\n",
              "      <th>0</th>\n",
              "      <td>0.751780</td>\n",
              "    </tr>\n",
              "    <tr>\n",
              "      <th>1</th>\n",
              "      <td>0.993111</td>\n",
              "    </tr>\n",
              "    <tr>\n",
              "      <th>2</th>\n",
              "      <td>0.022570</td>\n",
              "    </tr>\n",
              "    <tr>\n",
              "      <th>3</th>\n",
              "      <td>0.209198</td>\n",
              "    </tr>\n",
              "    <tr>\n",
              "      <th>4</th>\n",
              "      <td>0.998900</td>\n",
              "    </tr>\n",
              "    <tr>\n",
              "      <th>...</th>\n",
              "      <td>...</td>\n",
              "    </tr>\n",
              "    <tr>\n",
              "      <th>590535</th>\n",
              "      <td>0.000249</td>\n",
              "    </tr>\n",
              "    <tr>\n",
              "      <th>590536</th>\n",
              "      <td>0.019864</td>\n",
              "    </tr>\n",
              "    <tr>\n",
              "      <th>590537</th>\n",
              "      <td>0.003043</td>\n",
              "    </tr>\n",
              "    <tr>\n",
              "      <th>590538</th>\n",
              "      <td>0.009289</td>\n",
              "    </tr>\n",
              "    <tr>\n",
              "      <th>590539</th>\n",
              "      <td>0.002690</td>\n",
              "    </tr>\n",
              "  </tbody>\n",
              "</table>\n",
              "<p>590540 rows × 1 columns</p>\n",
              "</div><br><label><b>dtype:</b> float64</label>"
            ]
          },
          "metadata": {},
          "execution_count": 36
        }
      ]
    },
    {
      "cell_type": "code",
      "source": [
        "import optuna\n",
        "import pandas as pd\n",
        "import numpy as np\n",
        "from catboost import CatBoostClassifier, Pool\n",
        "from sklearn.model_selection import StratifiedKFold\n",
        "from sklearn.metrics import roc_auc_score\n",
        "\n",
        "# Target variable\n",
        "y_train = train_processed['isFraud']\n",
        "\n",
        "# Define the objective function for Optuna\n",
        "def objective(trial):\n",
        "    # Suggest hyperparameters for CatBoost\n",
        "    params = {\n",
        "        \"iterations\": trial.suggest_int(\"iterations\", 100, 1000),\n",
        "        \"depth\": trial.suggest_int(\"depth\", 3, 10),\n",
        "        \"learning_rate\": trial.suggest_float(\"learning_rate\", 1e-3, 0.5, log=True),\n",
        "        \"l2_leaf_reg\": trial.suggest_float(\"l2_leaf_reg\", 1e-3, 10.0, log=True),\n",
        "        \"bagging_temperature\": trial.suggest_float(\"bagging_temperature\", 0.0, 1.0),\n",
        "        \"random_strength\": trial.suggest_float(\"random_strength\", 0.0, 10.0),\n",
        "        \"border_count\": trial.suggest_int(\"border_count\", 32, 255),\n",
        "        \"loss_function\": \"Logloss\",\n",
        "        \"eval_metric\": \"Logloss\",\n",
        "        \"task_type\": \"GPU\",\n",
        "        \"verbose\": False,\n",
        "        \"random_state\": 42,\n",
        "    }\n",
        "\n",
        "    # Cross-validation setup\n",
        "    cv = StratifiedKFold(n_splits=5, shuffle=True, random_state=42)\n",
        "    auc_scores = []\n",
        "\n",
        "    for train_idx, val_idx in cv.split(filled_train, y_train):\n",
        "        X_train, X_val = filled_train.iloc[train_idx], filled_train.iloc[val_idx]\n",
        "        y_train_fold, y_val_fold = y_train.iloc[train_idx], y_train.iloc[val_idx]\n",
        "\n",
        "        # Create CatBoost Pool\n",
        "        train_pool = Pool(X_train, y_train_fold, cat_features=cat_features)\n",
        "        val_pool = Pool(X_val, y_val_fold, cat_features=cat_features)\n",
        "\n",
        "        # Train CatBoost model\n",
        "        model = CatBoostClassifier(**params)\n",
        "        model.fit(train_pool, eval_set=val_pool, early_stopping_rounds=50, verbose=False)\n",
        "\n",
        "        # Predict probabilities for validation set\n",
        "        y_val_pred_proba = model.predict_proba(X_val)[:, 1]  # Probabilities for class 1\n",
        "\n",
        "        # Calculate AUC\n",
        "        auc = roc_auc_score(y_val_fold, y_val_pred_proba)\n",
        "        auc_scores.append(auc)\n",
        "        print(np.mean(auc_scores))\n",
        "\n",
        "    # Return the mean AUC (maximize this)\n",
        "    return np.mean(auc_scores)\n",
        "\n",
        "# Run Optuna optimization\n",
        "study = optuna.create_study(direction=\"maximize\", study_name=\"CatBoost AUC Tuning\")\n",
        "study.optimize(objective, n_trials=50)\n",
        "\n",
        "# Print best parameters\n",
        "print(\"Best parameters:\", study.best_trial.params)\n",
        "\n"
      ],
      "metadata": {
        "colab": {
          "base_uri": "https://localhost:8080/"
        },
        "id": "HsmvPo4SKGZV",
        "outputId": "611b53ce-a18a-4605-b36c-e6e3be3a65ff"
      },
      "execution_count": null,
      "outputs": [
        {
          "output_type": "stream",
          "name": "stderr",
          "text": [
            "[I 2024-12-08 16:48:59,080] A new study created in memory with name: CatBoost AUC Tuning\n"
          ]
        },
        {
          "output_type": "stream",
          "name": "stdout",
          "text": [
            "0.9589560358013585\n",
            "0.9609716040234281\n",
            "0.960934019884608\n",
            "0.9603944105305997\n"
          ]
        },
        {
          "output_type": "stream",
          "name": "stderr",
          "text": [
            "[I 2024-12-08 16:51:50,362] Trial 0 finished with value: 0.9607153943222896 and parameters: {'iterations': 557, 'depth': 6, 'learning_rate': 0.45326398619337, 'l2_leaf_reg': 0.011476656803977863, 'bagging_temperature': 0.2240223010411081, 'random_strength': 5.536505896148168, 'border_count': 169}. Best is trial 0 with value: 0.9607153943222896.\n"
          ]
        },
        {
          "output_type": "stream",
          "name": "stdout",
          "text": [
            "0.9607153943222896\n",
            "0.9351211470888625\n",
            "0.9362380964563046\n",
            "0.936397239262857\n",
            "0.9368187776196131\n"
          ]
        },
        {
          "output_type": "stream",
          "name": "stderr",
          "text": [
            "[I 2024-12-08 16:53:00,744] Trial 1 finished with value: 0.9368149481176452 and parameters: {'iterations': 246, 'depth': 3, 'learning_rate': 0.10021798811709581, 'l2_leaf_reg': 0.03275453222778487, 'bagging_temperature': 0.45006997858307973, 'random_strength': 0.23060323305153618, 'border_count': 78}. Best is trial 0 with value: 0.9607153943222896.\n"
          ]
        },
        {
          "output_type": "stream",
          "name": "stdout",
          "text": [
            "0.9368149481176452\n",
            "0.9232052920772505\n",
            "0.9248984123183897\n",
            "0.9248846627104422\n",
            "0.9243448131661138\n"
          ]
        },
        {
          "output_type": "stream",
          "name": "stderr",
          "text": [
            "[I 2024-12-08 16:56:36,097] Trial 2 finished with value: 0.9246500286753486 and parameters: {'iterations': 819, 'depth': 5, 'learning_rate': 0.011074769878687456, 'l2_leaf_reg': 0.007856346140730587, 'bagging_temperature': 0.1971282954921686, 'random_strength': 7.005262862977317, 'border_count': 63}. Best is trial 0 with value: 0.9607153943222896.\n"
          ]
        },
        {
          "output_type": "stream",
          "name": "stdout",
          "text": [
            "0.9246500286753486\n",
            "0.9251152522234092\n",
            "0.9274986576461028\n",
            "0.9284331599597464\n",
            "0.928108175149361\n"
          ]
        },
        {
          "output_type": "stream",
          "name": "stderr",
          "text": [
            "[I 2024-12-08 16:59:28,034] Trial 3 finished with value: 0.9282543077972626 and parameters: {'iterations': 531, 'depth': 6, 'learning_rate': 0.013743783505078619, 'l2_leaf_reg': 2.406158886967847, 'bagging_temperature': 0.4497631024516763, 'random_strength': 1.128842105704374, 'border_count': 187}. Best is trial 0 with value: 0.9607153943222896.\n"
          ]
        },
        {
          "output_type": "stream",
          "name": "stdout",
          "text": [
            "0.9282543077972626\n",
            "0.8400198559150478\n",
            "0.8409985646805893\n",
            "0.8412165311187475\n",
            "0.8400385454161737\n"
          ]
        },
        {
          "output_type": "stream",
          "name": "stderr",
          "text": [
            "[I 2024-12-08 17:01:59,666] Trial 4 finished with value: 0.8393083063848386 and parameters: {'iterations': 942, 'depth': 3, 'learning_rate': 0.0013470601532050242, 'l2_leaf_reg': 8.970868022466693, 'bagging_temperature': 0.12303945242142, 'random_strength': 6.773371381715878, 'border_count': 151}. Best is trial 0 with value: 0.9607153943222896.\n"
          ]
        },
        {
          "output_type": "stream",
          "name": "stdout",
          "text": [
            "0.8393083063848386\n",
            "0.8840595648828363\n",
            "0.8853338460981681\n",
            "0.8857519967842039\n",
            "0.8857968696528696\n"
          ]
        },
        {
          "output_type": "stream",
          "name": "stderr",
          "text": [
            "[I 2024-12-08 17:05:09,366] Trial 5 finished with value: 0.8851511105071206 and parameters: {'iterations': 632, 'depth': 6, 'learning_rate': 0.0033595620328419375, 'l2_leaf_reg': 0.4024775430218668, 'bagging_temperature': 0.37807872532860376, 'random_strength': 7.3410929343302245, 'border_count': 219}. Best is trial 0 with value: 0.9607153943222896.\n"
          ]
        },
        {
          "output_type": "stream",
          "name": "stdout",
          "text": [
            "0.8851511105071206\n",
            "0.7951942717632645\n",
            "0.7966324885162896\n",
            "0.7953189989229207\n",
            "0.7939969768653938\n"
          ]
        },
        {
          "output_type": "stream",
          "name": "stderr",
          "text": [
            "[I 2024-12-08 17:06:31,868] Trial 6 finished with value: 0.7939494019528979 and parameters: {'iterations': 194, 'depth': 10, 'learning_rate': 0.0021691837265927975, 'l2_leaf_reg': 4.028040389185629, 'bagging_temperature': 0.5155271583818841, 'random_strength': 8.345421088979464, 'border_count': 91}. Best is trial 0 with value: 0.9607153943222896.\n"
          ]
        },
        {
          "output_type": "stream",
          "name": "stdout",
          "text": [
            "0.7939494019528979\n",
            "0.9533090136212505\n",
            "0.9556281402986897\n",
            "0.9562606814134352\n",
            "0.9573568128872851\n"
          ]
        },
        {
          "output_type": "stream",
          "name": "stderr",
          "text": [
            "[I 2024-12-08 17:08:19,015] Trial 7 finished with value: 0.9557609168851968 and parameters: {'iterations': 260, 'depth': 6, 'learning_rate': 0.22487206594873302, 'l2_leaf_reg': 0.050230426232164255, 'bagging_temperature': 0.479635907888903, 'random_strength': 7.590868289458409, 'border_count': 203}. Best is trial 0 with value: 0.9607153943222896.\n"
          ]
        },
        {
          "output_type": "stream",
          "name": "stdout",
          "text": [
            "0.9557609168851968\n",
            "0.9423625048931006\n",
            "0.9408393712716544\n",
            "0.9418028321971548\n",
            "0.9424495235323482\n"
          ]
        },
        {
          "output_type": "stream",
          "name": "stderr",
          "text": [
            "[I 2024-12-08 17:09:49,331] Trial 8 finished with value: 0.9428026076531196 and parameters: {'iterations': 419, 'depth': 3, 'learning_rate': 0.15549053173319347, 'l2_leaf_reg': 0.08010279019685321, 'bagging_temperature': 0.9367390654666601, 'random_strength': 4.98816417995036, 'border_count': 90}. Best is trial 0 with value: 0.9607153943222896.\n"
          ]
        },
        {
          "output_type": "stream",
          "name": "stdout",
          "text": [
            "0.9428026076531196\n",
            "0.916897952939397\n",
            "0.9180445801594004\n",
            "0.9185172894803652\n",
            "0.9187956065354475\n"
          ]
        },
        {
          "output_type": "stream",
          "name": "stderr",
          "text": [
            "[I 2024-12-08 17:11:54,476] Trial 9 finished with value: 0.9178141704073859 and parameters: {'iterations': 484, 'depth': 4, 'learning_rate': 0.017538746417508595, 'l2_leaf_reg': 0.19775587554425011, 'bagging_temperature': 0.6225774523253825, 'random_strength': 5.977274871728312, 'border_count': 210}. Best is trial 0 with value: 0.9607153943222896.\n"
          ]
        },
        {
          "output_type": "stream",
          "name": "stdout",
          "text": [
            "0.9178141704073859\n",
            "0.948202958915078\n",
            "0.9520872120986595\n",
            "0.9535071603916272\n",
            "0.9547168013259055\n"
          ]
        },
        {
          "output_type": "stream",
          "name": "stderr",
          "text": [
            "[I 2024-12-08 17:13:57,272] Trial 10 finished with value: 0.9550468587512064 and parameters: {'iterations': 711, 'depth': 8, 'learning_rate': 0.47608760908172953, 'l2_leaf_reg': 0.0011227384379080036, 'bagging_temperature': 0.014166907026949671, 'random_strength': 2.684386865016411, 'border_count': 252}. Best is trial 0 with value: 0.9607153943222896.\n"
          ]
        },
        {
          "output_type": "stream",
          "name": "stdout",
          "text": [
            "0.9550468587512064\n",
            "0.9509633745094415\n",
            "0.9563638285018616\n",
            "0.9572941291896232\n",
            "0.957894348163755\n"
          ]
        },
        {
          "output_type": "stream",
          "name": "stderr",
          "text": [
            "[I 2024-12-08 17:16:44,915] Trial 11 finished with value: 0.9583442390670454 and parameters: {'iterations': 354, 'depth': 8, 'learning_rate': 0.4053044508341824, 'l2_leaf_reg': 0.009855163875325148, 'bagging_temperature': 0.7438710256082182, 'random_strength': 9.336458841544943, 'border_count': 142}. Best is trial 0 with value: 0.9607153943222896.\n"
          ]
        },
        {
          "output_type": "stream",
          "name": "stdout",
          "text": [
            "0.9583442390670454\n",
            "0.9464144376516895\n",
            "0.9478787379177533\n",
            "0.9475571690995949\n",
            "0.9486069276234104\n"
          ]
        },
        {
          "output_type": "stream",
          "name": "stderr",
          "text": [
            "[I 2024-12-08 17:19:36,846] Trial 12 finished with value: 0.9492486048318369 and parameters: {'iterations': 376, 'depth': 8, 'learning_rate': 0.0547421155848247, 'l2_leaf_reg': 0.007499195228695075, 'bagging_temperature': 0.8090326966259089, 'random_strength': 9.68970695212713, 'border_count': 137}. Best is trial 0 with value: 0.9607153943222896.\n"
          ]
        },
        {
          "output_type": "stream",
          "name": "stdout",
          "text": [
            "0.9492486048318369\n",
            "0.954177673807247\n",
            "0.9572403605621427\n",
            "0.9578095310567205\n",
            "0.959100622552939\n"
          ]
        },
        {
          "output_type": "stream",
          "name": "stderr",
          "text": [
            "[I 2024-12-08 17:22:06,942] Trial 13 finished with value: 0.9572082113999281 and parameters: {'iterations': 348, 'depth': 8, 'learning_rate': 0.3510401514951259, 'l2_leaf_reg': 0.004970117258893852, 'bagging_temperature': 0.7039998964767211, 'random_strength': 4.052675727539883, 'border_count': 142}. Best is trial 0 with value: 0.9607153943222896.\n"
          ]
        },
        {
          "output_type": "stream",
          "name": "stdout",
          "text": [
            "0.9572082113999281\n",
            "0.9605628292544528\n",
            "0.9613570530099541\n",
            "0.9619997460582077\n",
            "0.9629926999993936\n"
          ]
        },
        {
          "output_type": "stream",
          "name": "stderr",
          "text": [
            "[I 2024-12-08 17:28:59,126] Trial 14 finished with value: 0.9631851406560117 and parameters: {'iterations': 632, 'depth': 10, 'learning_rate': 0.05429520798747817, 'l2_leaf_reg': 0.0014656139685710419, 'bagging_temperature': 0.2723350262445067, 'random_strength': 9.426751987733903, 'border_count': 165}. Best is trial 14 with value: 0.9631851406560117.\n"
          ]
        },
        {
          "output_type": "stream",
          "name": "stdout",
          "text": [
            "0.9631851406560117\n",
            "0.9641912627145023\n",
            "0.9647598409374546\n",
            "0.9652479217728139\n",
            "0.965369902289994\n"
          ]
        },
        {
          "output_type": "stream",
          "name": "stderr",
          "text": [
            "[I 2024-12-08 17:36:07,746] Trial 15 finished with value: 0.9654900794387944 and parameters: {'iterations': 681, 'depth': 10, 'learning_rate': 0.09537110666645382, 'l2_leaf_reg': 0.0015253830003535153, 'bagging_temperature': 0.2768519593024324, 'random_strength': 3.4921816840353954, 'border_count': 181}. Best is trial 15 with value: 0.9654900794387944.\n"
          ]
        },
        {
          "output_type": "stream",
          "name": "stdout",
          "text": [
            "0.9654900794387944\n",
            "0.9601459867300404\n",
            "0.9611684035347603\n",
            "0.9620226144452876\n",
            "0.9626267742770575\n"
          ]
        },
        {
          "output_type": "stream",
          "name": "stderr",
          "text": [
            "[I 2024-12-08 17:44:19,705] Trial 16 finished with value: 0.9629648148362406 and parameters: {'iterations': 754, 'depth': 10, 'learning_rate': 0.040825436209500174, 'l2_leaf_reg': 0.0013281223670987272, 'bagging_temperature': 0.3125887034310189, 'random_strength': 3.03895670479022, 'border_count': 243}. Best is trial 15 with value: 0.9654900794387944.\n"
          ]
        },
        {
          "output_type": "stream",
          "name": "stdout",
          "text": [
            "0.9629648148362406\n",
            "0.9634562338186242\n",
            "0.96474633840901\n",
            "0.9649892735507594\n",
            "0.9652678956417158\n"
          ]
        },
        {
          "output_type": "stream",
          "name": "stderr",
          "text": [
            "[I 2024-12-08 17:51:51,676] Trial 17 finished with value: 0.9657562588202413 and parameters: {'iterations': 878, 'depth': 9, 'learning_rate': 0.06359196495368959, 'l2_leaf_reg': 0.0029006968059049503, 'bagging_temperature': 0.016661862679708983, 'random_strength': 2.345499793318164, 'border_count': 115}. Best is trial 17 with value: 0.9657562588202413.\n"
          ]
        },
        {
          "output_type": "stream",
          "name": "stdout",
          "text": [
            "0.9657562588202413\n",
            "0.9247225577576121\n",
            "0.9260873477439688\n",
            "0.9270360006461873\n",
            "0.927381558372254\n"
          ]
        },
        {
          "output_type": "stream",
          "name": "stderr",
          "text": [
            "[I 2024-12-08 17:59:17,548] Trial 18 finished with value: 0.9277057578549324 and parameters: {'iterations': 950, 'depth': 9, 'learning_rate': 0.005349627375283845, 'l2_leaf_reg': 0.003526717014914897, 'bagging_temperature': 0.03756900453274524, 'random_strength': 2.0789028145949553, 'border_count': 118}. Best is trial 17 with value: 0.9657562588202413.\n"
          ]
        },
        {
          "output_type": "stream",
          "name": "stdout",
          "text": [
            "0.9277057578549324\n",
            "0.966465993910778\n",
            "0.9670484653627934\n",
            "0.9670134861714496\n",
            "0.9674064263380574\n"
          ]
        },
        {
          "output_type": "stream",
          "name": "stderr",
          "text": [
            "[I 2024-12-08 18:06:26,806] Trial 19 finished with value: 0.9676572286920144 and parameters: {'iterations': 836, 'depth': 9, 'learning_rate': 0.09715448909982823, 'l2_leaf_reg': 0.023104380057350743, 'bagging_temperature': 0.1206129266989493, 'random_strength': 3.4127914471868745, 'border_count': 116}. Best is trial 19 with value: 0.9676572286920144.\n"
          ]
        },
        {
          "output_type": "stream",
          "name": "stdout",
          "text": [
            "0.9676572286920144\n",
            "0.958277373963208\n",
            "0.9599613026537881\n",
            "0.9603224262587776\n",
            "0.9609442751790607\n"
          ]
        },
        {
          "output_type": "stream",
          "name": "stderr",
          "text": [
            "[I 2024-12-08 18:13:26,445] Trial 20 finished with value: 0.9614162352741873 and parameters: {'iterations': 850, 'depth': 9, 'learning_rate': 0.034557694570186856, 'l2_leaf_reg': 0.02191982562443513, 'bagging_temperature': 0.12818271258391242, 'random_strength': 4.40163587244976, 'border_count': 36}. Best is trial 19 with value: 0.9676572286920144.\n"
          ]
        },
        {
          "output_type": "stream",
          "name": "stdout",
          "text": [
            "0.9614162352741873\n",
            "0.9650016458688234\n",
            "0.965994616268631\n",
            "0.9662392241569974\n",
            "0.9668844045772375\n"
          ]
        },
        {
          "output_type": "stream",
          "name": "stderr",
          "text": [
            "[I 2024-12-08 18:20:39,975] Trial 21 finished with value: 0.9670010562880599 and parameters: {'iterations': 858, 'depth': 9, 'learning_rate': 0.10324502910932085, 'l2_leaf_reg': 0.002959069485749281, 'bagging_temperature': 0.12371133060122114, 'random_strength': 3.2709349425401055, 'border_count': 110}. Best is trial 19 with value: 0.9676572286920144.\n"
          ]
        },
        {
          "output_type": "stream",
          "name": "stdout",
          "text": [
            "0.9670010562880599\n",
            "0.964158101999497\n",
            "0.9649335700019317\n",
            "0.9656844566806596\n",
            "0.9664312104517867\n"
          ]
        },
        {
          "output_type": "stream",
          "name": "stderr",
          "text": [
            "[I 2024-12-08 18:28:04,928] Trial 22 finished with value: 0.9669047824652669 and parameters: {'iterations': 868, 'depth': 9, 'learning_rate': 0.10847727105658277, 'l2_leaf_reg': 0.0030965380159980863, 'bagging_temperature': 0.12478028957403095, 'random_strength': 1.942694663767941, 'border_count': 118}. Best is trial 19 with value: 0.9676572286920144.\n"
          ]
        },
        {
          "output_type": "stream",
          "name": "stdout",
          "text": [
            "0.9669047824652669\n",
            "0.9628669511171014\n",
            "0.9648310047194257\n",
            "0.9650585180031644\n",
            "0.9658624551198971\n"
          ]
        },
        {
          "output_type": "stream",
          "name": "stderr",
          "text": [
            "[I 2024-12-08 18:36:05,450] Trial 23 finished with value: 0.9662772192292618 and parameters: {'iterations': 985, 'depth': 9, 'learning_rate': 0.1529664844633978, 'l2_leaf_reg': 0.018783234903305645, 'bagging_temperature': 0.131762779946309, 'random_strength': 1.4389077513400073, 'border_count': 113}. Best is trial 19 with value: 0.9676572286920144.\n"
          ]
        },
        {
          "output_type": "stream",
          "name": "stdout",
          "text": [
            "0.9662772192292618\n",
            "0.9516659816240929\n",
            "0.9527614047676415\n",
            "0.9531564674273098\n",
            "0.9538413172955406\n"
          ]
        },
        {
          "output_type": "stream",
          "name": "stderr",
          "text": [
            "[I 2024-12-08 18:40:47,661] Trial 24 finished with value: 0.9539296557236602 and parameters: {'iterations': 793, 'depth': 7, 'learning_rate': 0.027737784187345516, 'l2_leaf_reg': 0.003242451805081241, 'bagging_temperature': 0.10136087604827448, 'random_strength': 3.7359744885271806, 'border_count': 102}. Best is trial 19 with value: 0.9676572286920144.\n"
          ]
        },
        {
          "output_type": "stream",
          "name": "stdout",
          "text": [
            "0.9539296557236602\n",
            "0.9652157137104865\n",
            "0.9670009692263128\n",
            "0.9669539034069908\n",
            "0.967373151325005\n"
          ]
        },
        {
          "output_type": "stream",
          "name": "stderr",
          "text": [
            "[I 2024-12-08 18:46:07,883] Trial 25 finished with value: 0.9676341645018747 and parameters: {'iterations': 894, 'depth': 7, 'learning_rate': 0.21165095489636612, 'l2_leaf_reg': 0.17437264112415893, 'bagging_temperature': 0.3491785350882037, 'random_strength': 0.2897003949569701, 'border_count': 65}. Best is trial 19 with value: 0.9676572286920144.\n"
          ]
        },
        {
          "output_type": "stream",
          "name": "stdout",
          "text": [
            "0.9676341645018747\n",
            "0.9662596838121046\n",
            "0.9670717582329623\n",
            "0.9671994846687829\n",
            "0.9671235813278882\n"
          ]
        },
        {
          "output_type": "stream",
          "name": "stderr",
          "text": [
            "[I 2024-12-08 18:51:23,025] Trial 26 finished with value: 0.9675956315320079 and parameters: {'iterations': 884, 'depth': 7, 'learning_rate': 0.26396446404401397, 'l2_leaf_reg': 0.5398385891326517, 'bagging_temperature': 0.3479964412671651, 'random_strength': 0.10488155867429533, 'border_count': 53}. Best is trial 19 with value: 0.9676572286920144.\n"
          ]
        },
        {
          "output_type": "stream",
          "name": "stdout",
          "text": [
            "0.9675956315320079\n",
            "0.966430170486122\n",
            "0.9667933766103916\n",
            "0.9669833334950146\n",
            "0.967353614424856\n"
          ]
        },
        {
          "output_type": "stream",
          "name": "stderr",
          "text": [
            "[I 2024-12-08 18:56:48,001] Trial 27 finished with value: 0.9676497353412434 and parameters: {'iterations': 914, 'depth': 7, 'learning_rate': 0.14985488280644285, 'l2_leaf_reg': 0.5809187825660769, 'bagging_temperature': 0.34443250076214577, 'random_strength': 0.5401654037942478, 'border_count': 34}. Best is trial 19 with value: 0.9676572286920144.\n"
          ]
        },
        {
          "output_type": "stream",
          "name": "stdout",
          "text": [
            "0.9676497353412434\n",
            "0.9644396081653304\n",
            "0.9658698304192843\n",
            "0.9663560175241196\n",
            "0.9667345201633138\n"
          ]
        },
        {
          "output_type": "stream",
          "name": "stderr",
          "text": [
            "[I 2024-12-08 19:02:39,459] Trial 28 finished with value: 0.9670671926717264 and parameters: {'iterations': 988, 'depth': 7, 'learning_rate': 0.21394258508034997, 'l2_leaf_reg': 0.7776902617279754, 'bagging_temperature': 0.5667661569372334, 'random_strength': 1.038674759432599, 'border_count': 34}. Best is trial 19 with value: 0.9676572286920144.\n"
          ]
        },
        {
          "output_type": "stream",
          "name": "stdout",
          "text": [
            "0.9670671926717264\n",
            "0.9596326135489811\n",
            "0.9607346175560747\n",
            "0.9612905019706887\n",
            "0.9619226460722714\n"
          ]
        },
        {
          "output_type": "stream",
          "name": "stderr",
          "text": [
            "[I 2024-12-08 19:06:06,384] Trial 29 finished with value: 0.9624608874659584 and parameters: {'iterations': 748, 'depth': 5, 'learning_rate': 0.14670515865932426, 'l2_leaf_reg': 0.17780439098919631, 'bagging_temperature': 0.2098879118954324, 'random_strength': 0.585750295488522, 'border_count': 54}. Best is trial 19 with value: 0.9676572286920144.\n"
          ]
        },
        {
          "output_type": "stream",
          "name": "stdout",
          "text": [
            "0.9624608874659584\n",
            "0.9558803821388392\n",
            "0.9560960871010293\n",
            "0.9565743923691254\n",
            "0.9573864139244389\n"
          ]
        },
        {
          "output_type": "stream",
          "name": "stderr",
          "text": [
            "[I 2024-12-08 19:10:08,910] Trial 30 finished with value: 0.9580235780287841 and parameters: {'iterations': 918, 'depth': 5, 'learning_rate': 0.07188572347240821, 'l2_leaf_reg': 1.1218788250941272, 'bagging_temperature': 0.3951852962886201, 'random_strength': 1.6292619771044619, 'border_count': 75}. Best is trial 19 with value: 0.9676572286920144.\n"
          ]
        },
        {
          "output_type": "stream",
          "name": "stdout",
          "text": [
            "0.9580235780287841\n",
            "0.965401708438678\n",
            "0.966235594677088\n",
            "0.9665328588014025\n",
            "0.9669157055821402\n"
          ]
        },
        {
          "output_type": "stream",
          "name": "stderr",
          "text": [
            "[I 2024-12-08 19:15:34,559] Trial 31 finished with value: 0.9672622714921246 and parameters: {'iterations': 912, 'depth': 7, 'learning_rate': 0.2860218378374551, 'l2_leaf_reg': 0.36675357722812907, 'bagging_temperature': 0.3569698032420829, 'random_strength': 0.8225511432977115, 'border_count': 50}. Best is trial 19 with value: 0.9676572286920144.\n"
          ]
        },
        {
          "output_type": "stream",
          "name": "stdout",
          "text": [
            "0.9672622714921246\n",
            "0.964020142213666\n",
            "0.964896300029469\n",
            "0.9652694845347155\n",
            "0.9655910143298858\n"
          ]
        },
        {
          "output_type": "stream",
          "name": "stderr",
          "text": [
            "[I 2024-12-08 19:20:25,323] Trial 32 finished with value: 0.9659182566624288 and parameters: {'iterations': 798, 'depth': 7, 'learning_rate': 0.24123273471724313, 'l2_leaf_reg': 0.1083764986112296, 'bagging_temperature': 0.30965478086324416, 'random_strength': 0.09632389972573757, 'border_count': 68}. Best is trial 19 with value: 0.9676572286920144.\n"
          ]
        },
        {
          "output_type": "stream",
          "name": "stdout",
          "text": [
            "0.9659182566624288\n",
            "0.9630777171138626\n",
            "0.9642918044226086\n",
            "0.9651497656913238\n",
            "0.9655135885722443\n"
          ]
        },
        {
          "output_type": "stream",
          "name": "stderr",
          "text": [
            "[I 2024-12-08 19:24:39,144] Trial 33 finished with value: 0.966026651949185 and parameters: {'iterations': 815, 'depth': 6, 'learning_rate': 0.17485868898639167, 'l2_leaf_reg': 0.8245455919052341, 'bagging_temperature': 0.21993224483960344, 'random_strength': 0.05266536214208162, 'border_count': 49}. Best is trial 19 with value: 0.9676572286920144.\n"
          ]
        },
        {
          "output_type": "stream",
          "name": "stdout",
          "text": [
            "0.966026651949185\n",
            "0.9662281740195505\n",
            "0.9675171473830091\n",
            "0.9670683536907866\n",
            "0.9675256479312475\n"
          ]
        },
        {
          "output_type": "stream",
          "name": "stderr",
          "text": [
            "[I 2024-12-08 19:30:22,647] Trial 34 finished with value: 0.9674853730151727 and parameters: {'iterations': 989, 'depth': 7, 'learning_rate': 0.3051234507911496, 'l2_leaf_reg': 0.35944271204059935, 'bagging_temperature': 0.39381593852670677, 'random_strength': 0.5806630029710743, 'border_count': 85}. Best is trial 19 with value: 0.9676572286920144.\n"
          ]
        },
        {
          "output_type": "stream",
          "name": "stdout",
          "text": [
            "0.9674853730151727\n",
            "0.9265832832557062\n",
            "0.9283570714960389\n",
            "0.9293299824780205\n",
            "0.9292809523949478\n"
          ]
        },
        {
          "output_type": "stream",
          "name": "stderr",
          "text": [
            "[I 2024-12-08 19:31:10,573] Trial 35 finished with value: 0.9299974991657287 and parameters: {'iterations': 103, 'depth': 8, 'learning_rate': 0.49754447978246097, 'l2_leaf_reg': 1.7238042608677429, 'bagging_temperature': 0.43991560561836635, 'random_strength': 1.5907338754274927, 'border_count': 65}. Best is trial 19 with value: 0.9676572286920144.\n"
          ]
        },
        {
          "output_type": "stream",
          "name": "stdout",
          "text": [
            "0.9299974991657287\n",
            "0.9589962822118222\n",
            "0.960235926437121\n",
            "0.9604933924560003\n",
            "0.9611443541984104\n"
          ]
        },
        {
          "output_type": "stream",
          "name": "stderr",
          "text": [
            "[I 2024-12-08 19:34:36,976] Trial 36 finished with value: 0.9614875125226112 and parameters: {'iterations': 636, 'depth': 6, 'learning_rate': 0.11511330092299564, 'l2_leaf_reg': 0.042350440097539015, 'bagging_temperature': 0.5866464667748734, 'random_strength': 0.013917095256119102, 'border_count': 42}. Best is trial 19 with value: 0.9676572286920144.\n"
          ]
        },
        {
          "output_type": "stream",
          "name": "stdout",
          "text": [
            "0.9614875125226112\n",
            "0.9631461767804108\n",
            "0.9637996946980432\n",
            "0.9643969818266124\n",
            "0.9648787076788945\n"
          ]
        },
        {
          "output_type": "stream",
          "name": "stderr",
          "text": [
            "[I 2024-12-08 19:39:59,303] Trial 37 finished with value: 0.9652192906965272 and parameters: {'iterations': 904, 'depth': 7, 'learning_rate': 0.08323089215533275, 'l2_leaf_reg': 0.21413522175469377, 'bagging_temperature': 0.26300913412471494, 'random_strength': 0.7629794519822716, 'border_count': 57}. Best is trial 19 with value: 0.9676572286920144.\n"
          ]
        },
        {
          "output_type": "stream",
          "name": "stdout",
          "text": [
            "0.9652192906965272\n",
            "0.9100964550221031\n",
            "0.9115980698514611\n",
            "0.9126016586175622\n",
            "0.9128280016462776\n"
          ]
        },
        {
          "output_type": "stream",
          "name": "stderr",
          "text": [
            "[I 2024-12-08 19:43:15,933] Trial 38 finished with value: 0.9128311167748151 and parameters: {'iterations': 738, 'depth': 5, 'learning_rate': 0.007742858822296521, 'l2_leaf_reg': 0.08270950002064431, 'bagging_temperature': 0.33907427059238554, 'random_strength': 6.048673005224808, 'border_count': 74}. Best is trial 19 with value: 0.9676572286920144.\n"
          ]
        },
        {
          "output_type": "stream",
          "name": "stdout",
          "text": [
            "0.9128311167748151\n",
            "0.955777674590347\n",
            "0.9564707058239397\n",
            "0.9579084638259975\n",
            "0.9584614553184269\n"
          ]
        },
        {
          "output_type": "stream",
          "name": "stderr",
          "text": [
            "[I 2024-12-08 19:46:41,833] Trial 39 finished with value: 0.9590168070775809 and parameters: {'iterations': 940, 'depth': 4, 'learning_rate': 0.1812382930386544, 'l2_leaf_reg': 4.172893914171999, 'bagging_temperature': 0.49756044922755016, 'random_strength': 2.5353870420931433, 'border_count': 129}. Best is trial 19 with value: 0.9676572286920144.\n"
          ]
        },
        {
          "output_type": "stream",
          "name": "stdout",
          "text": [
            "0.9590168070775809\n",
            "0.9640572874379694\n",
            "0.9641250405521761\n",
            "0.9643233356394215\n",
            "0.9649696520150375\n"
          ]
        },
        {
          "output_type": "stream",
          "name": "stderr",
          "text": [
            "[I 2024-12-08 19:49:49,512] Trial 40 finished with value: 0.9651574400041177 and parameters: {'iterations': 550, 'depth': 6, 'learning_rate': 0.3128714943220283, 'l2_leaf_reg': 0.5086172272735641, 'bagging_temperature': 0.4198718414659204, 'random_strength': 1.1238141064902507, 'border_count': 97}. Best is trial 19 with value: 0.9676572286920144.\n"
          ]
        },
        {
          "output_type": "stream",
          "name": "stdout",
          "text": [
            "0.9651574400041177\n",
            "0.9646788188658253\n",
            "0.9660710645949749\n",
            "0.9664473336135861\n",
            "0.9672390447367818\n"
          ]
        },
        {
          "output_type": "stream",
          "name": "stderr",
          "text": [
            "[I 2024-12-08 19:55:38,444] Trial 41 finished with value: 0.9677223623099167 and parameters: {'iterations': 977, 'depth': 7, 'learning_rate': 0.2826326158602375, 'l2_leaf_reg': 0.3072312497021844, 'bagging_temperature': 0.1810000291777522, 'random_strength': 0.6166119609138719, 'border_count': 81}. Best is trial 41 with value: 0.9677223623099167.\n"
          ]
        },
        {
          "output_type": "stream",
          "name": "stdout",
          "text": [
            "0.9677223623099167\n",
            "0.9661209564269606\n",
            "0.9671117498386745\n",
            "0.9661975704066129\n",
            "0.9664751715441154\n"
          ]
        },
        {
          "output_type": "stream",
          "name": "stderr",
          "text": [
            "[I 2024-12-08 20:01:34,936] Trial 42 finished with value: 0.9665090861183587 and parameters: {'iterations': 830, 'depth': 8, 'learning_rate': 0.2312540898815097, 'l2_leaf_reg': 0.24507667159108185, 'bagging_temperature': 0.19695482337222775, 'random_strength': 0.45134960442446037, 'border_count': 85}. Best is trial 41 with value: 0.9677223623099167.\n"
          ]
        },
        {
          "output_type": "stream",
          "name": "stdout",
          "text": [
            "0.9665090861183587\n",
            "0.9657204288384348\n",
            "0.9667972830857345\n",
            "0.9669662760716111\n",
            "0.9676963837508841\n"
          ]
        },
        {
          "output_type": "stream",
          "name": "stderr",
          "text": [
            "[I 2024-12-08 20:07:13,266] Trial 43 finished with value: 0.9680341026849497 and parameters: {'iterations': 958, 'depth': 7, 'learning_rate': 0.13855689881749275, 'l2_leaf_reg': 0.6113539009883876, 'bagging_temperature': 0.17710574014981362, 'random_strength': 1.3229705738948407, 'border_count': 62}. Best is trial 43 with value: 0.9680341026849497.\n"
          ]
        },
        {
          "output_type": "stream",
          "name": "stdout",
          "text": [
            "0.9680341026849497\n",
            "0.9632664467463845\n",
            "0.9644042794865664\n",
            "0.9649921552543628\n",
            "0.9653621993685517\n"
          ]
        },
        {
          "output_type": "stream",
          "name": "stderr",
          "text": [
            "[I 2024-12-08 20:12:05,125] Trial 44 finished with value: 0.9657651971353858 and parameters: {'iterations': 952, 'depth': 6, 'learning_rate': 0.12487116302886611, 'l2_leaf_reg': 0.12630378560991348, 'bagging_temperature': 0.17360388137699234, 'random_strength': 1.3772190256357204, 'border_count': 76}. Best is trial 43 with value: 0.9680341026849497.\n"
          ]
        },
        {
          "output_type": "stream",
          "name": "stdout",
          "text": [
            "0.9657651971353858\n",
            "0.9503222762000607\n",
            "0.9519771268909316\n",
            "0.9524925134836605\n",
            "0.9530072668479665\n"
          ]
        },
        {
          "output_type": "stream",
          "name": "stderr",
          "text": [
            "[I 2024-12-08 20:18:22,750] Trial 45 finished with value: 0.953374931497482 and parameters: {'iterations': 948, 'depth': 8, 'learning_rate': 0.020042025897397023, 'l2_leaf_reg': 2.1177197190268515, 'bagging_temperature': 0.24049424584209622, 'random_strength': 4.923249027628453, 'border_count': 64}. Best is trial 43 with value: 0.9680341026849497.\n"
          ]
        },
        {
          "output_type": "stream",
          "name": "stdout",
          "text": [
            "0.953374931497482\n",
            "0.9635358942773639\n",
            "0.9649559418590935\n",
            "0.9649924349028233\n",
            "0.9655259534871335\n"
          ]
        },
        {
          "output_type": "stream",
          "name": "stderr",
          "text": [
            "[I 2024-12-08 20:23:27,915] Trial 46 finished with value: 0.9653267146862514 and parameters: {'iterations': 985, 'depth': 6, 'learning_rate': 0.376972086710624, 'l2_leaf_reg': 0.05777031429000985, 'bagging_temperature': 0.06720516122580364, 'random_strength': 1.9605261938181289, 'border_count': 157}. Best is trial 43 with value: 0.9680341026849497.\n"
          ]
        },
        {
          "output_type": "stream",
          "name": "stdout",
          "text": [
            "0.9653267146862514\n",
            "0.8614860456857445\n",
            "0.863003278984669\n",
            "0.8636583498070222\n",
            "0.8625790628621515\n"
          ]
        },
        {
          "output_type": "stream",
          "name": "stderr",
          "text": [
            "[I 2024-12-08 20:28:16,141] Trial 47 finished with value: 0.8621720592401136 and parameters: {'iterations': 905, 'depth': 7, 'learning_rate': 0.0012805016378676494, 'l2_leaf_reg': 1.1506386347131325, 'bagging_temperature': 0.166374421779822, 'random_strength': 1.1298150756792125, 'border_count': 40}. Best is trial 43 with value: 0.9680341026849497.\n"
          ]
        },
        {
          "output_type": "stream",
          "name": "stdout",
          "text": [
            "0.8621720592401136\n",
            "0.9617858103107048\n",
            "0.9635313895416986\n",
            "0.9637594880346508\n",
            "0.9642038886434068\n"
          ]
        },
        {
          "output_type": "stream",
          "name": "stderr",
          "text": [
            "[I 2024-12-08 20:33:57,723] Trial 48 finished with value: 0.9643102869751174 and parameters: {'iterations': 797, 'depth': 8, 'learning_rate': 0.18200937937524891, 'l2_leaf_reg': 0.28310069591566106, 'bagging_temperature': 0.9797257026522773, 'random_strength': 2.8241524957938022, 'border_count': 99}. Best is trial 43 with value: 0.9680341026849497.\n"
          ]
        },
        {
          "output_type": "stream",
          "name": "stdout",
          "text": [
            "0.9643102869751174\n",
            "0.9459060108678643\n",
            "0.9472824942689315\n",
            "0.9476508078333951\n",
            "0.9483578692198142\n"
          ]
        },
        {
          "output_type": "stream",
          "name": "stderr",
          "text": [
            "[I 2024-12-08 20:36:43,067] Trial 49 finished with value: 0.9487187224402718 and parameters: {'iterations': 700, 'depth': 4, 'learning_rate': 0.04690662989318129, 'l2_leaf_reg': 0.13180821967242326, 'bagging_temperature': 0.06729213916605695, 'random_strength': 2.2040551445135046, 'border_count': 129}. Best is trial 43 with value: 0.9680341026849497.\n"
          ]
        },
        {
          "output_type": "stream",
          "name": "stdout",
          "text": [
            "0.9487187224402718\n",
            "Best parameters: {'iterations': 958, 'depth': 7, 'learning_rate': 0.13855689881749275, 'l2_leaf_reg': 0.6113539009883876, 'bagging_temperature': 0.17710574014981362, 'random_strength': 1.3229705738948407, 'border_count': 62}\n"
          ]
        }
      ]
    },
    {
      "cell_type": "code",
      "source": [
        "# Train the final model with the best parameters on the full dataset\n",
        "#best_params = study.best_trial.params\n",
        "best_params = {'iterations': 958, 'depth': 7, 'learning_rate': 0.13855689881749275, 'task_type': 'GPU', 'l2_leaf_reg': 0.6113539009883876, 'bagging_temperature': 0.17710574014981362, 'random_strength': 1.3229705738948407, 'border_count': 62}\n",
        "final_pool = Pool(filled_train, y_train, cat_features=cat_features)\n",
        "final_model = CatBoostClassifier(**best_params, verbose=100)\n",
        "final_model.fit(final_pool)\n",
        "\n",
        "# Make predictions on the test set\n",
        "test_pool = Pool(filled_test, cat_features=cat_features)\n",
        "test_pred_proba = final_model.predict_proba(test_pool)[:, 1]\n",
        "\n",
        "# Create submission\n",
        "submission = pd.DataFrame({\n",
        "    \"TransactionID\": test_processed[\"TransactionID\"],\n",
        "    \"isFraud\": test_pred_proba\n",
        "})\n",
        "submission.to_csv(\"catboost_log_reg_stacked_auc_submission.csv\", index=False)\n",
        "\n",
        "print(\"Submission file created: catboost_auc_submission.csv\")"
      ],
      "metadata": {
        "colab": {
          "base_uri": "https://localhost:8080/"
        },
        "id": "mJiv3Bj5HwYL",
        "outputId": "ce044fce-3d35-43ae-a3b9-09e6d8f8ee44"
      },
      "execution_count": null,
      "outputs": [
        {
          "output_type": "stream",
          "name": "stdout",
          "text": [
            "0:\tlearn: 0.4893707\ttotal: 79.7ms\tremaining: 1m 16s\n",
            "100:\tlearn: 0.0710812\ttotal: 7.17s\tremaining: 1m\n",
            "200:\tlearn: 0.0635219\ttotal: 14.8s\tremaining: 55.6s\n",
            "300:\tlearn: 0.0593398\ttotal: 22.3s\tremaining: 48.6s\n",
            "400:\tlearn: 0.0564467\ttotal: 29.4s\tremaining: 40.9s\n",
            "500:\tlearn: 0.0546512\ttotal: 36.7s\tremaining: 33.5s\n",
            "600:\tlearn: 0.0525618\ttotal: 44s\tremaining: 26.1s\n",
            "700:\tlearn: 0.0507231\ttotal: 51.1s\tremaining: 18.7s\n",
            "800:\tlearn: 0.0490758\ttotal: 58.3s\tremaining: 11.4s\n",
            "900:\tlearn: 0.0476297\ttotal: 1m 5s\tremaining: 4.15s\n",
            "957:\tlearn: 0.0468720\ttotal: 1m 9s\tremaining: 0us\n",
            "Submission file created: catboost_auc_submission.csv\n"
          ]
        }
      ]
    },
    {
      "cell_type": "code",
      "source": [
        "filled_test['stacked_log_reg']"
      ],
      "metadata": {
        "colab": {
          "base_uri": "https://localhost:8080/",
          "height": 458
        },
        "id": "VkAyMBwVIJki",
        "outputId": "a522fe22-0482-43f9-a0c3-acdd1edce3d5"
      },
      "execution_count": null,
      "outputs": [
        {
          "output_type": "execute_result",
          "data": {
            "text/plain": [
              "0         0.999997\n",
              "1         0.999885\n",
              "2         0.999993\n",
              "3         1.000000\n",
              "4         1.000000\n",
              "            ...   \n",
              "506686    1.000000\n",
              "506687    0.999928\n",
              "506688    0.994934\n",
              "506689    0.999972\n",
              "506690    1.000000\n",
              "Name: stacked_log_reg, Length: 506691, dtype: float64"
            ],
            "text/html": [
              "<div>\n",
              "<style scoped>\n",
              "    .dataframe tbody tr th:only-of-type {\n",
              "        vertical-align: middle;\n",
              "    }\n",
              "\n",
              "    .dataframe tbody tr th {\n",
              "        vertical-align: top;\n",
              "    }\n",
              "\n",
              "    .dataframe thead th {\n",
              "        text-align: right;\n",
              "    }\n",
              "</style>\n",
              "<table border=\"1\" class=\"dataframe\">\n",
              "  <thead>\n",
              "    <tr style=\"text-align: right;\">\n",
              "      <th></th>\n",
              "      <th>stacked_log_reg</th>\n",
              "    </tr>\n",
              "  </thead>\n",
              "  <tbody>\n",
              "    <tr>\n",
              "      <th>0</th>\n",
              "      <td>0.999997</td>\n",
              "    </tr>\n",
              "    <tr>\n",
              "      <th>1</th>\n",
              "      <td>0.999885</td>\n",
              "    </tr>\n",
              "    <tr>\n",
              "      <th>2</th>\n",
              "      <td>0.999993</td>\n",
              "    </tr>\n",
              "    <tr>\n",
              "      <th>3</th>\n",
              "      <td>1.000000</td>\n",
              "    </tr>\n",
              "    <tr>\n",
              "      <th>4</th>\n",
              "      <td>1.000000</td>\n",
              "    </tr>\n",
              "    <tr>\n",
              "      <th>...</th>\n",
              "      <td>...</td>\n",
              "    </tr>\n",
              "    <tr>\n",
              "      <th>506686</th>\n",
              "      <td>1.000000</td>\n",
              "    </tr>\n",
              "    <tr>\n",
              "      <th>506687</th>\n",
              "      <td>0.999928</td>\n",
              "    </tr>\n",
              "    <tr>\n",
              "      <th>506688</th>\n",
              "      <td>0.994934</td>\n",
              "    </tr>\n",
              "    <tr>\n",
              "      <th>506689</th>\n",
              "      <td>0.999972</td>\n",
              "    </tr>\n",
              "    <tr>\n",
              "      <th>506690</th>\n",
              "      <td>1.000000</td>\n",
              "    </tr>\n",
              "  </tbody>\n",
              "</table>\n",
              "<p>506691 rows × 1 columns</p>\n",
              "</div><br><label><b>dtype:</b> float64</label>"
            ]
          },
          "metadata": {},
          "execution_count": 39
        }
      ]
    },
    {
      "cell_type": "code",
      "source": [
        "import optuna\n",
        "import pandas as pd\n",
        "import numpy as np\n",
        "from catboost import CatBoostClassifier, Pool\n",
        "from sklearn.model_selection import StratifiedKFold\n",
        "from sklearn.metrics import roc_auc_score, precision_recall_curve, auc\n",
        "\n",
        "# Target variable\n",
        "y_train = train_processed['isFraud']\n",
        "\n",
        "# Define the objective function for Optuna\n",
        "def objective(trial):\n",
        "    # Suggest hyperparameters for CatBoost\n",
        "    params = {\n",
        "        \"iterations\": trial.suggest_int(\"iterations\", 100, 1000),\n",
        "        \"depth\": trial.suggest_int(\"depth\", 3, 10),\n",
        "        \"learning_rate\": trial.suggest_float(\"learning_rate\", 1e-3, 0.5, log=True),\n",
        "        \"l2_leaf_reg\": trial.suggest_float(\"l2_leaf_reg\", 1e-3, 10.0, log=True),\n",
        "        \"bagging_temperature\": trial.suggest_float(\"bagging_temperature\", 0.0, 1.0),\n",
        "        \"random_strength\": trial.suggest_float(\"random_strength\", 0.0, 10.0),\n",
        "        \"border_count\": trial.suggest_int(\"border_count\", 32, 255),\n",
        "        \"loss_function\": \"Logloss\",\n",
        "        \"eval_metric\": \"Logloss\",\n",
        "        \"task_type\": \"GPU\",\n",
        "        \"verbose\": False,\n",
        "        \"random_state\": 42,\n",
        "    }\n",
        "\n",
        "    # Cross-validation setup\n",
        "    cv = StratifiedKFold(n_splits=5, shuffle=True, random_state=42)\n",
        "    roc_auc_scores = []\n",
        "    pr_auc_scores = []\n",
        "\n",
        "    for train_idx, val_idx in cv.split(filled_train, y_train):\n",
        "        X_train, X_val = filled_train.iloc[train_idx], filled_train.iloc[val_idx]\n",
        "        y_train_fold, y_val_fold = y_train.iloc[train_idx], y_train.iloc[val_idx]\n",
        "\n",
        "        # Create CatBoost Pool\n",
        "        train_pool = Pool(X_train, y_train_fold, cat_features=cat_features)\n",
        "        val_pool = Pool(X_val, y_val_fold, cat_features=cat_features)\n",
        "\n",
        "        # Train CatBoost model\n",
        "        model = CatBoostClassifier(**params)\n",
        "        model.fit(train_pool, eval_set=val_pool, early_stopping_rounds=50, verbose=False)\n",
        "\n",
        "        # Predict probabilities for validation set\n",
        "        y_val_pred_proba = model.predict_proba(X_val)[:, 1]  # Probabilities for class 1\n",
        "\n",
        "        # Calculate ROC AUC\n",
        "        roc_auc = roc_auc_score(y_val_fold, y_val_pred_proba)\n",
        "        roc_auc_scores.append(roc_auc)\n",
        "\n",
        "        # Calculate Precision-Recall AUC\n",
        "        precision, recall, _ = precision_recall_curve(y_val_fold, y_val_pred_proba)\n",
        "        pr_auc = auc(recall, precision)\n",
        "        pr_auc_scores.append(pr_auc)\n",
        "\n",
        "    # Save metrics for this trial\n",
        "    trial.set_user_attr(\"roc_auc_scores\", roc_auc_scores)\n",
        "    trial.set_user_attr(\"pr_auc_scores\", pr_auc_scores)\n",
        "    print(f'ROC AUC: {np.mean(roc_auc_scores)}')\n",
        "    print(f'PR AUC: {np.mean(pr_auc_scores)}')\n",
        "    # Return the mean ROC AUC and PR AUC\n",
        "    return np.mean(roc_auc_scores), np.mean(pr_auc_scores)\n",
        "\n",
        "# Run Optuna multi-objective optimization\n",
        "study = optuna.create_study(\n",
        "    directions=[\"maximize\", \"maximize\"],  # Multi-objective optimization\n",
        "    study_name=\"CatBoost Multi-Objective Tuning\"\n",
        ")\n",
        "study.optimize(objective, n_trials=50)\n",
        "\n",
        "# Save metrics to DataFrame for later analysis\n",
        "results = []\n",
        "for trial in study.trials:\n",
        "    results.append({\n",
        "        \"trial_number\": trial.number,\n",
        "        \"roc_auc\": np.mean(trial.user_attrs[\"roc_auc_scores\"]),\n",
        "        \"pr_auc\": np.mean(trial.user_attrs[\"pr_auc_scores\"])\n",
        "    })\n",
        "\n",
        "metrics_df = pd.DataFrame(results)\n",
        "metrics_df.to_csv(\"optuna_metrics.csv\", index=False)\n",
        "\n",
        "# Print best parameters\n",
        "print(\"Best ROC AUC Trial:\")\n",
        "print(study.best_trials[0].values)\n",
        "print(\"Best PR AUC Trial:\")\n",
        "print(study.best_trials[1].values)\n"
      ],
      "metadata": {
        "colab": {
          "base_uri": "https://localhost:8080/"
        },
        "id": "2tWrGR47Af0l",
        "outputId": "887b025c-0aac-4194-9e48-5877a31dc4f8"
      },
      "execution_count": null,
      "outputs": [
        {
          "metadata": {
            "tags": null
          },
          "name": "stderr",
          "output_type": "stream",
          "text": [
            "[I 2024-12-08 21:43:24,296] A new study created in memory with name: CatBoost Multi-Objective Tuning\n",
            "[I 2024-12-08 21:50:20,342] Trial 0 finished with values: [0.9644038163549361, 0.8325089024842246] and parameters: {'iterations': 630, 'depth': 10, 'learning_rate': 0.1535726401767315, 'l2_leaf_reg': 0.24527383446914192, 'bagging_temperature': 0.7758189094916633, 'random_strength': 1.9454538767507445, 'border_count': 52}.\n"
          ]
        },
        {
          "metadata": {
            "tags": null
          },
          "name": "stdout",
          "output_type": "stream",
          "text": [
            "ROC AUC: 0.9644038163549361\n",
            "PR AUC: 0.8325089024842246\n"
          ]
        },
        {
          "metadata": {
            "tags": null
          },
          "name": "stderr",
          "output_type": "stream",
          "text": [
            "[I 2024-12-08 21:52:22,880] Trial 1 finished with values: [0.8938027582853069, 0.5408833680578891] and parameters: {'iterations': 679, 'depth': 3, 'learning_rate': 0.004845294259107338, 'l2_leaf_reg': 0.3721982120361202, 'bagging_temperature': 0.8158767212007675, 'random_strength': 0.45685457709192967, 'border_count': 32}.\n"
          ]
        },
        {
          "metadata": {
            "tags": null
          },
          "name": "stdout",
          "output_type": "stream",
          "text": [
            "ROC AUC: 0.8938027582853069\n",
            "PR AUC: 0.5408833680578891\n"
          ]
        },
        {
          "metadata": {
            "tags": null
          },
          "name": "stderr",
          "output_type": "stream",
          "text": [
            "[I 2024-12-08 21:58:30,692] Trial 2 finished with values: [0.9407119671752021, 0.7129449967594199] and parameters: {'iterations': 966, 'depth': 8, 'learning_rate': 0.013284223756845825, 'l2_leaf_reg': 1.1370348208471195, 'bagging_temperature': 0.9228547607338592, 'random_strength': 8.826745757097349, 'border_count': 107}.\n"
          ]
        },
        {
          "metadata": {
            "tags": null
          },
          "name": "stdout",
          "output_type": "stream",
          "text": [
            "ROC AUC: 0.9407119671752021\n",
            "PR AUC: 0.7129449967594199\n"
          ]
        },
        {
          "metadata": {
            "tags": null
          },
          "name": "stderr",
          "output_type": "stream",
          "text": [
            "[I 2024-12-08 22:01:47,466] Trial 3 finished with values: [0.84459198876316, 0.37821438358809806] and parameters: {'iterations': 672, 'depth': 6, 'learning_rate': 0.0017396790380804048, 'l2_leaf_reg': 0.007735682623715023, 'bagging_temperature': 0.363447840784334, 'random_strength': 6.96320355898915, 'border_count': 205}.\n"
          ]
        },
        {
          "metadata": {
            "tags": null
          },
          "name": "stdout",
          "output_type": "stream",
          "text": [
            "ROC AUC: 0.84459198876316\n",
            "PR AUC: 0.37821438358809806\n"
          ]
        },
        {
          "metadata": {
            "tags": null
          },
          "name": "stderr",
          "output_type": "stream",
          "text": [
            "[I 2024-12-08 22:06:59,453] Trial 4 finished with values: [0.9627700734376609, 0.8068664554515074] and parameters: {'iterations': 886, 'depth': 7, 'learning_rate': 0.08385340887738532, 'l2_leaf_reg': 9.531440281837588, 'bagging_temperature': 0.4479534428272809, 'random_strength': 0.885400700400395, 'border_count': 47}.\n"
          ]
        },
        {
          "metadata": {
            "tags": null
          },
          "name": "stdout",
          "output_type": "stream",
          "text": [
            "ROC AUC: 0.9627700734376609\n",
            "PR AUC: 0.8068664554515074\n"
          ]
        },
        {
          "metadata": {
            "tags": null
          },
          "name": "stderr",
          "output_type": "stream",
          "text": [
            "[I 2024-12-08 22:09:41,658] Trial 5 finished with values: [0.9237896694643869, 0.6607974981473744] and parameters: {'iterations': 676, 'depth': 4, 'learning_rate': 0.01460069290208518, 'l2_leaf_reg': 0.49822796096985805, 'bagging_temperature': 0.6938381690844493, 'random_strength': 4.2572741867392665, 'border_count': 173}.\n"
          ]
        },
        {
          "metadata": {
            "tags": null
          },
          "name": "stdout",
          "output_type": "stream",
          "text": [
            "ROC AUC: 0.9237896694643869\n",
            "PR AUC: 0.6607974981473744\n"
          ]
        },
        {
          "metadata": {
            "tags": null
          },
          "name": "stderr",
          "output_type": "stream",
          "text": [
            "[I 2024-12-08 22:16:09,167] Trial 6 finished with values: [0.9628557204113525, 0.8090568901531491] and parameters: {'iterations': 932, 'depth': 8, 'learning_rate': 0.04529503426104619, 'l2_leaf_reg': 0.14591351690899035, 'bagging_temperature': 0.2892184731137417, 'random_strength': 1.998102662930057, 'border_count': 69}.\n"
          ]
        },
        {
          "metadata": {
            "tags": null
          },
          "name": "stdout",
          "output_type": "stream",
          "text": [
            "ROC AUC: 0.9628557204113525\n",
            "PR AUC: 0.8090568901531491\n"
          ]
        },
        {
          "metadata": {
            "tags": null
          },
          "name": "stderr",
          "output_type": "stream",
          "text": [
            "[I 2024-12-08 22:20:39,374] Trial 7 finished with values: [0.8572728924526387, 0.42322957386770776] and parameters: {'iterations': 979, 'depth': 6, 'learning_rate': 0.0013852011420123845, 'l2_leaf_reg': 8.978450024455293, 'bagging_temperature': 0.9448114546942342, 'random_strength': 7.595970681926913, 'border_count': 188}.\n"
          ]
        },
        {
          "metadata": {
            "tags": null
          },
          "name": "stdout",
          "output_type": "stream",
          "text": [
            "ROC AUC: 0.8572728924526387\n",
            "PR AUC: 0.42322957386770776\n"
          ]
        },
        {
          "metadata": {
            "tags": null
          },
          "name": "stderr",
          "output_type": "stream",
          "text": [
            "[I 2024-12-08 22:23:31,985] Trial 8 finished with values: [0.8037354531111396, 0.2589188832472812] and parameters: {'iterations': 567, 'depth': 6, 'learning_rate': 0.0012430840451180683, 'l2_leaf_reg': 0.06192685053253109, 'bagging_temperature': 0.5916233165024478, 'random_strength': 6.6772432252418445, 'border_count': 185}.\n"
          ]
        },
        {
          "metadata": {
            "tags": null
          },
          "name": "stdout",
          "output_type": "stream",
          "text": [
            "ROC AUC: 0.8037354531111396\n",
            "PR AUC: 0.2589188832472812\n"
          ]
        },
        {
          "metadata": {
            "tags": null
          },
          "name": "stderr",
          "output_type": "stream",
          "text": [
            "[I 2024-12-08 22:24:20,001] Trial 9 finished with values: [0.8627078624438539, 0.40499000234864413] and parameters: {'iterations': 106, 'depth': 8, 'learning_rate': 0.01529156973513774, 'l2_leaf_reg': 0.01821746983474974, 'bagging_temperature': 0.5652201313547309, 'random_strength': 1.2882907746027539, 'border_count': 51}.\n"
          ]
        },
        {
          "metadata": {
            "tags": null
          },
          "name": "stdout",
          "output_type": "stream",
          "text": [
            "ROC AUC: 0.8627078624438539\n",
            "PR AUC: 0.40499000234864413\n"
          ]
        },
        {
          "metadata": {
            "tags": null
          },
          "name": "stderr",
          "output_type": "stream",
          "text": [
            "[I 2024-12-08 22:26:37,393] Trial 10 finished with values: [0.9629263668187841, 0.8117741413784916] and parameters: {'iterations': 265, 'depth': 8, 'learning_rate': 0.3820441674452696, 'l2_leaf_reg': 7.464805566198541, 'bagging_temperature': 0.3643378037654279, 'random_strength': 4.666446234105621, 'border_count': 158}.\n"
          ]
        },
        {
          "metadata": {
            "tags": null
          },
          "name": "stdout",
          "output_type": "stream",
          "text": [
            "ROC AUC: 0.9629263668187841\n",
            "PR AUC: 0.8117741413784916\n"
          ]
        },
        {
          "metadata": {
            "tags": null
          },
          "name": "stderr",
          "output_type": "stream",
          "text": [
            "[I 2024-12-08 22:30:03,823] Trial 11 finished with values: [0.9507515262534172, 0.7559574696418154] and parameters: {'iterations': 760, 'depth': 5, 'learning_rate': 0.04403427936543469, 'l2_leaf_reg': 0.2684416614846318, 'bagging_temperature': 0.5771698767676026, 'random_strength': 8.607712710346666, 'border_count': 91}.\n"
          ]
        },
        {
          "metadata": {
            "tags": null
          },
          "name": "stdout",
          "output_type": "stream",
          "text": [
            "ROC AUC: 0.9507515262534172\n",
            "PR AUC: 0.7559574696418154\n"
          ]
        },
        {
          "metadata": {
            "tags": null
          },
          "name": "stderr",
          "output_type": "stream",
          "text": [
            "[I 2024-12-08 22:35:01,942] Trial 12 finished with values: [0.8830418528895587, 0.5237618243415256] and parameters: {'iterations': 916, 'depth': 7, 'learning_rate': 0.0017484150596376005, 'l2_leaf_reg': 0.19225657643226832, 'bagging_temperature': 0.4992885931780744, 'random_strength': 1.6151832528596033, 'border_count': 202}.\n"
          ]
        },
        {
          "metadata": {
            "tags": null
          },
          "name": "stdout",
          "output_type": "stream",
          "text": [
            "ROC AUC: 0.8830418528895587\n",
            "PR AUC: 0.5237618243415256\n"
          ]
        },
        {
          "metadata": {
            "tags": null
          },
          "name": "stderr",
          "output_type": "stream",
          "text": [
            "[I 2024-12-08 22:41:58,761] Trial 13 finished with values: [0.9575597425890964, 0.7818891589054047] and parameters: {'iterations': 858, 'depth': 9, 'learning_rate': 0.023199605301906994, 'l2_leaf_reg': 1.4629430136027024, 'bagging_temperature': 0.14156532552190915, 'random_strength': 3.695025452733971, 'border_count': 32}.\n"
          ]
        },
        {
          "metadata": {
            "tags": null
          },
          "name": "stdout",
          "output_type": "stream",
          "text": [
            "ROC AUC: 0.9575597425890964\n",
            "PR AUC: 0.7818891589054047\n"
          ]
        },
        {
          "metadata": {
            "tags": null
          },
          "name": "stderr",
          "output_type": "stream",
          "text": [
            "[I 2024-12-08 22:42:47,833] Trial 14 finished with values: [0.9040993130666315, 0.5494016558607171] and parameters: {'iterations': 166, 'depth': 7, 'learning_rate': 0.07304865140394949, 'l2_leaf_reg': 0.0025851086080566593, 'bagging_temperature': 0.632187230194125, 'random_strength': 9.154840359313223, 'border_count': 47}.\n"
          ]
        },
        {
          "metadata": {
            "tags": null
          },
          "name": "stdout",
          "output_type": "stream",
          "text": [
            "ROC AUC: 0.9040993130666315\n",
            "PR AUC: 0.5494016558607171\n"
          ]
        },
        {
          "metadata": {
            "tags": null
          },
          "name": "stderr",
          "output_type": "stream",
          "text": [
            "[I 2024-12-08 22:44:13,071] Trial 15 finished with values: [0.9183692981650428, 0.6378371570695733] and parameters: {'iterations': 363, 'depth': 3, 'learning_rate': 0.030207928066129618, 'l2_leaf_reg': 0.7875433807510372, 'bagging_temperature': 0.5930558194025569, 'random_strength': 2.3842813760577783, 'border_count': 166}.\n"
          ]
        },
        {
          "metadata": {
            "tags": null
          },
          "name": "stdout",
          "output_type": "stream",
          "text": [
            "ROC AUC: 0.9183692981650428\n",
            "PR AUC: 0.6378371570695733\n"
          ]
        },
        {
          "metadata": {
            "tags": null
          },
          "name": "stderr",
          "output_type": "stream",
          "text": [
            "[I 2024-12-08 22:51:59,918] Trial 16 finished with values: [0.8367190289917412, 0.31701107682786] and parameters: {'iterations': 818, 'depth': 10, 'learning_rate': 0.0010221702549187872, 'l2_leaf_reg': 0.0024953441189330718, 'bagging_temperature': 0.7959977008973913, 'random_strength': 9.101666511776369, 'border_count': 153}.\n"
          ]
        },
        {
          "metadata": {
            "tags": null
          },
          "name": "stdout",
          "output_type": "stream",
          "text": [
            "ROC AUC: 0.8367190289917412\n",
            "PR AUC: 0.31701107682786\n"
          ]
        },
        {
          "metadata": {
            "tags": null
          },
          "name": "stderr",
          "output_type": "stream",
          "text": [
            "[I 2024-12-08 22:56:11,052] Trial 17 finished with values: [0.9338444940632525, 0.690005708189714] and parameters: {'iterations': 731, 'depth': 7, 'learning_rate': 0.013686411631919023, 'l2_leaf_reg': 0.7597016387316281, 'bagging_temperature': 0.7655186245768262, 'random_strength': 7.857731357896407, 'border_count': 69}.\n"
          ]
        },
        {
          "metadata": {
            "tags": null
          },
          "name": "stdout",
          "output_type": "stream",
          "text": [
            "ROC AUC: 0.9338444940632525\n",
            "PR AUC: 0.690005708189714\n"
          ]
        },
        {
          "metadata": {
            "tags": null
          },
          "name": "stderr",
          "output_type": "stream",
          "text": [
            "[I 2024-12-08 23:01:59,916] Trial 18 finished with values: [0.9667078513937983, 0.8365462137252907] and parameters: {'iterations': 828, 'depth': 8, 'learning_rate': 0.3799307108843257, 'l2_leaf_reg': 9.22304912417145, 'bagging_temperature': 0.6096237219531504, 'random_strength': 3.5622467058641503, 'border_count': 146}.\n"
          ]
        },
        {
          "metadata": {
            "tags": null
          },
          "name": "stdout",
          "output_type": "stream",
          "text": [
            "ROC AUC: 0.9667078513937983\n",
            "PR AUC: 0.8365462137252907\n"
          ]
        },
        {
          "output_type": "stream",
          "name": "stderr",
          "text": [
            "[I 2024-12-08 23:09:39,017] Trial 19 finished with values: [0.961982104144018, 0.8032142555182581] and parameters: {'iterations': 704, 'depth': 10, 'learning_rate': 0.0532115840769887, 'l2_leaf_reg': 2.7530137713782104, 'bagging_temperature': 0.919211889184508, 'random_strength': 1.7513052618324043, 'border_count': 159}.\n"
          ]
        },
        {
          "output_type": "stream",
          "name": "stdout",
          "text": [
            "ROC AUC: 0.961982104144018\n",
            "PR AUC: 0.8032142555182581\n"
          ]
        },
        {
          "output_type": "stream",
          "name": "stderr",
          "text": [
            "[I 2024-12-08 23:15:23,991] Trial 20 finished with values: [0.9601736429516542, 0.7972592256470955] and parameters: {'iterations': 992, 'depth': 7, 'learning_rate': 0.03972729030995201, 'l2_leaf_reg': 0.42348398098672085, 'bagging_temperature': 0.09201463551983147, 'random_strength': 5.137525057134679, 'border_count': 111}.\n"
          ]
        },
        {
          "output_type": "stream",
          "name": "stdout",
          "text": [
            "ROC AUC: 0.9601736429516542\n",
            "PR AUC: 0.7972592256470955\n"
          ]
        },
        {
          "output_type": "stream",
          "name": "stderr",
          "text": [
            "[I 2024-12-08 23:20:40,126] Trial 21 finished with values: [0.9669135604802722, 0.8305425966913023] and parameters: {'iterations': 886, 'depth': 7, 'learning_rate': 0.13103548213774716, 'l2_leaf_reg': 3.0254418646722065, 'bagging_temperature': 0.013723284576605543, 'random_strength': 1.6122272051199904, 'border_count': 244}.\n"
          ]
        },
        {
          "output_type": "stream",
          "name": "stdout",
          "text": [
            "ROC AUC: 0.9669135604802722\n",
            "PR AUC: 0.8305425966913023\n"
          ]
        },
        {
          "output_type": "stream",
          "name": "stderr",
          "text": [
            "[I 2024-12-08 23:23:00,273] Trial 22 finished with values: [0.9423302238199149, 0.7194620518982822] and parameters: {'iterations': 811, 'depth': 3, 'learning_rate': 0.048462962325120845, 'l2_leaf_reg': 1.1126277380402383, 'bagging_temperature': 0.303102131176308, 'random_strength': 2.8932453574678285, 'border_count': 161}.\n"
          ]
        },
        {
          "output_type": "stream",
          "name": "stdout",
          "text": [
            "ROC AUC: 0.9423302238199149\n",
            "PR AUC: 0.7194620518982822\n"
          ]
        },
        {
          "output_type": "stream",
          "name": "stderr",
          "text": [
            "[I 2024-12-08 23:26:33,175] Trial 23 finished with values: [0.9498129803879823, 0.7553671649195486] and parameters: {'iterations': 655, 'depth': 6, 'learning_rate': 0.037122307483569005, 'l2_leaf_reg': 0.0027279826633985634, 'bagging_temperature': 0.8719254568407071, 'random_strength': 1.8660899966037525, 'border_count': 242}.\n"
          ]
        },
        {
          "output_type": "stream",
          "name": "stdout",
          "text": [
            "ROC AUC: 0.9498129803879823\n",
            "PR AUC: 0.7553671649195486\n"
          ]
        },
        {
          "output_type": "stream",
          "name": "stderr",
          "text": [
            "[I 2024-12-08 23:32:41,813] Trial 24 finished with values: [0.8458121711674631, 0.3596904864823739] and parameters: {'iterations': 839, 'depth': 9, 'learning_rate': 0.0012052593336467183, 'l2_leaf_reg': 0.01069958155234592, 'bagging_temperature': 0.8178892306684621, 'random_strength': 8.927122879951567, 'border_count': 106}.\n"
          ]
        },
        {
          "output_type": "stream",
          "name": "stdout",
          "text": [
            "ROC AUC: 0.8458121711674631\n",
            "PR AUC: 0.3596904864823739\n"
          ]
        },
        {
          "output_type": "stream",
          "name": "stderr",
          "text": [
            "[I 2024-12-08 23:34:30,211] Trial 25 finished with values: [0.8941727303142141, 0.5634307184804046] and parameters: {'iterations': 547, 'depth': 3, 'learning_rate': 0.009945803322506329, 'l2_leaf_reg': 0.04195478736493394, 'bagging_temperature': 0.1487827253951517, 'random_strength': 4.4325071912933165, 'border_count': 67}.\n"
          ]
        },
        {
          "output_type": "stream",
          "name": "stdout",
          "text": [
            "ROC AUC: 0.8941727303142141\n",
            "PR AUC: 0.5634307184804046\n"
          ]
        },
        {
          "output_type": "stream",
          "name": "stderr",
          "text": [
            "[I 2024-12-08 23:35:33,041] Trial 26 finished with values: [0.8682141535045395, 0.41945063031151575] and parameters: {'iterations': 166, 'depth': 9, 'learning_rate': 0.010386379225581614, 'l2_leaf_reg': 0.46344139167580123, 'bagging_temperature': 0.8845483460855965, 'random_strength': 6.657109976115459, 'border_count': 65}.\n"
          ]
        },
        {
          "output_type": "stream",
          "name": "stdout",
          "text": [
            "ROC AUC: 0.8682141535045395\n",
            "PR AUC: 0.41945063031151575\n"
          ]
        },
        {
          "output_type": "stream",
          "name": "stderr",
          "text": [
            "[I 2024-12-08 23:42:10,424] Trial 27 finished with values: [0.9658168890420201, 0.8218899268998868] and parameters: {'iterations': 597, 'depth': 10, 'learning_rate': 0.07329274167515952, 'l2_leaf_reg': 1.7819423636253182, 'bagging_temperature': 0.15356976794755905, 'random_strength': 9.47912446225242, 'border_count': 162}.\n"
          ]
        },
        {
          "output_type": "stream",
          "name": "stdout",
          "text": [
            "ROC AUC: 0.9658168890420201\n",
            "PR AUC: 0.8218899268998868\n"
          ]
        },
        {
          "output_type": "stream",
          "name": "stderr",
          "text": [
            "[I 2024-12-08 23:46:22,268] Trial 28 finished with values: [0.8523866740789241, 0.3963352055929327] and parameters: {'iterations': 537, 'depth': 9, 'learning_rate': 0.002068169395078207, 'l2_leaf_reg': 1.0562606983682108, 'bagging_temperature': 0.5753554653881864, 'random_strength': 7.760653746397025, 'border_count': 146}.\n"
          ]
        },
        {
          "output_type": "stream",
          "name": "stdout",
          "text": [
            "ROC AUC: 0.8523866740789241\n",
            "PR AUC: 0.3963352055929327\n"
          ]
        },
        {
          "output_type": "stream",
          "name": "stderr",
          "text": [
            "[I 2024-12-08 23:49:24,412] Trial 29 finished with values: [0.9577044067715403, 0.7926632307179178] and parameters: {'iterations': 800, 'depth': 4, 'learning_rate': 0.3306344553015811, 'l2_leaf_reg': 0.1433764569046337, 'bagging_temperature': 0.8631669947138534, 'random_strength': 2.4974763273936276, 'border_count': 173}.\n"
          ]
        },
        {
          "output_type": "stream",
          "name": "stdout",
          "text": [
            "ROC AUC: 0.9577044067715403\n",
            "PR AUC: 0.7926632307179178\n"
          ]
        },
        {
          "output_type": "stream",
          "name": "stderr",
          "text": [
            "[I 2024-12-08 23:52:25,266] Trial 30 finished with values: [0.934601190842044, 0.6918039745953101] and parameters: {'iterations': 560, 'depth': 6, 'learning_rate': 0.0228042022788295, 'l2_leaf_reg': 0.46758495471851286, 'bagging_temperature': 0.8762522512762608, 'random_strength': 8.746589938222849, 'border_count': 152}.\n"
          ]
        },
        {
          "output_type": "stream",
          "name": "stdout",
          "text": [
            "ROC AUC: 0.934601190842044\n",
            "PR AUC: 0.6918039745953101\n"
          ]
        },
        {
          "output_type": "stream",
          "name": "stderr",
          "text": [
            "[I 2024-12-08 23:54:24,292] Trial 31 finished with values: [0.9279866388427797, 0.6680942094940209] and parameters: {'iterations': 623, 'depth': 3, 'learning_rate': 0.02851075219142329, 'l2_leaf_reg': 0.16044630668245033, 'bagging_temperature': 0.4308069293958934, 'random_strength': 3.8503302000788144, 'border_count': 178}.\n"
          ]
        },
        {
          "output_type": "stream",
          "name": "stdout",
          "text": [
            "ROC AUC: 0.9279866388427797\n",
            "PR AUC: 0.6680942094940209\n"
          ]
        },
        {
          "output_type": "stream",
          "name": "stderr",
          "text": [
            "[I 2024-12-08 23:57:46,402] Trial 32 finished with values: [0.9527084536024342, 0.7631700512730306] and parameters: {'iterations': 532, 'depth': 7, 'learning_rate': 0.034862918308871935, 'l2_leaf_reg': 0.3233708366475466, 'bagging_temperature': 0.06225091380321579, 'random_strength': 2.4476160015369053, 'border_count': 54}.\n"
          ]
        },
        {
          "output_type": "stream",
          "name": "stdout",
          "text": [
            "ROC AUC: 0.9527084536024342\n",
            "PR AUC: 0.7631700512730306\n"
          ]
        },
        {
          "output_type": "stream",
          "name": "stderr",
          "text": [
            "[I 2024-12-08 23:59:46,888] Trial 33 finished with values: [0.941068614357859, 0.7172674149563782] and parameters: {'iterations': 449, 'depth': 4, 'learning_rate': 0.04079019874565134, 'l2_leaf_reg': 5.507105921930276, 'bagging_temperature': 0.16670965587784803, 'random_strength': 0.8087372456231023, 'border_count': 108}.\n"
          ]
        },
        {
          "output_type": "stream",
          "name": "stdout",
          "text": [
            "ROC AUC: 0.941068614357859\n",
            "PR AUC: 0.7172674149563782\n"
          ]
        },
        {
          "output_type": "stream",
          "name": "stderr",
          "text": [
            "[I 2024-12-09 00:06:20,813] Trial 34 finished with values: [0.9652361090489201, 0.8223310271899666] and parameters: {'iterations': 758, 'depth': 9, 'learning_rate': 0.06483783684193602, 'l2_leaf_reg': 0.009548342622812627, 'bagging_temperature': 0.19549717071975525, 'random_strength': 3.2986088687932846, 'border_count': 177}.\n"
          ]
        },
        {
          "output_type": "stream",
          "name": "stdout",
          "text": [
            "ROC AUC: 0.9652361090489201\n",
            "PR AUC: 0.8223310271899666\n"
          ]
        },
        {
          "output_type": "stream",
          "name": "stderr",
          "text": [
            "[I 2024-12-09 00:09:52,898] Trial 35 finished with values: [0.9286058435690361, 0.6825671678234302] and parameters: {'iterations': 315, 'depth': 10, 'learning_rate': 0.017017693213917762, 'l2_leaf_reg': 0.012094905537970511, 'bagging_temperature': 0.6374269232162562, 'random_strength': 4.425378902407785, 'border_count': 47}.\n"
          ]
        },
        {
          "output_type": "stream",
          "name": "stdout",
          "text": [
            "ROC AUC: 0.9286058435690361\n",
            "PR AUC: 0.6825671678234302\n"
          ]
        },
        {
          "output_type": "stream",
          "name": "stderr",
          "text": [
            "[I 2024-12-09 00:13:23,305] Trial 36 finished with values: [0.9601276730029953, 0.7984573832797619] and parameters: {'iterations': 967, 'depth': 4, 'learning_rate': 0.14251632081387228, 'l2_leaf_reg': 5.474188549904893, 'bagging_temperature': 0.04275247894611878, 'random_strength': 4.658731677087099, 'border_count': 103}.\n"
          ]
        },
        {
          "output_type": "stream",
          "name": "stdout",
          "text": [
            "ROC AUC: 0.9601276730029953\n",
            "PR AUC: 0.7984573832797619\n"
          ]
        },
        {
          "output_type": "stream",
          "name": "stderr",
          "text": [
            "[I 2024-12-09 00:15:44,617] Trial 37 finished with values: [0.9305477864339983, 0.6773448312255586] and parameters: {'iterations': 819, 'depth': 3, 'learning_rate': 0.026201516736670136, 'l2_leaf_reg': 5.083654485810885, 'bagging_temperature': 0.33008491520279726, 'random_strength': 6.97247933480913, 'border_count': 140}.\n"
          ]
        },
        {
          "output_type": "stream",
          "name": "stdout",
          "text": [
            "ROC AUC: 0.9305477864339983\n",
            "PR AUC: 0.6773448312255586\n"
          ]
        },
        {
          "output_type": "stream",
          "name": "stderr",
          "text": [
            "[I 2024-12-09 00:19:37,945] Trial 38 finished with values: [0.9425184728299915, 0.7199453782264047] and parameters: {'iterations': 768, 'depth': 6, 'learning_rate': 0.020725897914360678, 'l2_leaf_reg': 0.5889755410610802, 'bagging_temperature': 0.2071114787645182, 'random_strength': 9.008416205580248, 'border_count': 167}.\n"
          ]
        },
        {
          "output_type": "stream",
          "name": "stdout",
          "text": [
            "ROC AUC: 0.9425184728299915\n",
            "PR AUC: 0.7199453782264047\n"
          ]
        },
        {
          "output_type": "stream",
          "name": "stderr",
          "text": [
            "[I 2024-12-09 00:20:24,497] Trial 39 finished with values: [0.8806672881139054, 0.4854416234965651] and parameters: {'iterations': 170, 'depth': 6, 'learning_rate': 0.024661074135151926, 'l2_leaf_reg': 0.003917137201461307, 'bagging_temperature': 0.8119609337122089, 'random_strength': 5.750072067474511, 'border_count': 42}.\n"
          ]
        },
        {
          "output_type": "stream",
          "name": "stdout",
          "text": [
            "ROC AUC: 0.8806672881139054\n",
            "PR AUC: 0.4854416234965651\n"
          ]
        },
        {
          "output_type": "stream",
          "name": "stderr",
          "text": [
            "[I 2024-12-09 00:24:08,879] Trial 40 finished with values: [0.9246084652629885, 0.6701060538972122] and parameters: {'iterations': 550, 'depth': 8, 'learning_rate': 0.010732521135453229, 'l2_leaf_reg': 0.004519398344234004, 'bagging_temperature': 0.8093884178222195, 'random_strength': 6.319217627755586, 'border_count': 58}.\n"
          ]
        },
        {
          "output_type": "stream",
          "name": "stdout",
          "text": [
            "ROC AUC: 0.9246084652629885\n",
            "PR AUC: 0.6701060538972122\n"
          ]
        },
        {
          "output_type": "stream",
          "name": "stderr",
          "text": [
            "[I 2024-12-09 00:26:12,074] Trial 41 finished with values: [0.8316523941043309, 0.3198025246569121] and parameters: {'iterations': 515, 'depth': 4, 'learning_rate': 0.0014668199404824036, 'l2_leaf_reg': 0.0983962550537702, 'bagging_temperature': 0.41953984010843814, 'random_strength': 0.12307016747270083, 'border_count': 117}.\n"
          ]
        },
        {
          "output_type": "stream",
          "name": "stdout",
          "text": [
            "ROC AUC: 0.8316523941043309\n",
            "PR AUC: 0.3198025246569121\n"
          ]
        },
        {
          "output_type": "stream",
          "name": "stderr",
          "text": [
            "[I 2024-12-09 00:28:46,217] Trial 42 finished with values: [0.9003714549500275, 0.5963561485719316] and parameters: {'iterations': 645, 'depth': 4, 'learning_rate': 0.006522873979314234, 'l2_leaf_reg': 0.002948977140193092, 'bagging_temperature': 0.5433365567102146, 'random_strength': 2.7361125453949287, 'border_count': 78}.\n"
          ]
        },
        {
          "output_type": "stream",
          "name": "stdout",
          "text": [
            "ROC AUC: 0.9003714549500275\n",
            "PR AUC: 0.5963561485719316\n"
          ]
        },
        {
          "output_type": "stream",
          "name": "stderr",
          "text": [
            "[I 2024-12-09 00:34:24,744] Trial 43 finished with values: [0.9598211507376437, 0.797110162523432] and parameters: {'iterations': 514, 'depth': 10, 'learning_rate': 0.05020365166879048, 'l2_leaf_reg': 0.02219184208797571, 'bagging_temperature': 0.3496931975939318, 'random_strength': 7.212460659983586, 'border_count': 170}.\n"
          ]
        },
        {
          "output_type": "stream",
          "name": "stdout",
          "text": [
            "ROC AUC: 0.9598211507376437\n",
            "PR AUC: 0.797110162523432\n"
          ]
        },
        {
          "output_type": "stream",
          "name": "stderr",
          "text": [
            "[I 2024-12-09 00:35:13,597] Trial 44 finished with values: [0.7859803274596727, 0.23148465185902492] and parameters: {'iterations': 156, 'depth': 7, 'learning_rate': 0.00417918107653418, 'l2_leaf_reg': 1.7155972700452597, 'bagging_temperature': 0.1617843556143055, 'random_strength': 9.882372487498271, 'border_count': 120}.\n"
          ]
        },
        {
          "output_type": "stream",
          "name": "stdout",
          "text": [
            "ROC AUC: 0.7859803274596727\n",
            "PR AUC: 0.23148465185902492\n"
          ]
        },
        {
          "output_type": "stream",
          "name": "stderr",
          "text": [
            "[I 2024-12-09 00:44:34,270] Trial 45 finished with values: [0.9643307706730733, 0.8149569918189282] and parameters: {'iterations': 876, 'depth': 10, 'learning_rate': 0.0411149898794545, 'l2_leaf_reg': 0.6447287736563039, 'bagging_temperature': 0.4645606939507445, 'random_strength': 3.5210251383613587, 'border_count': 137}.\n"
          ]
        },
        {
          "output_type": "stream",
          "name": "stdout",
          "text": [
            "ROC AUC: 0.9643307706730733\n",
            "PR AUC: 0.8149569918189282\n"
          ]
        },
        {
          "output_type": "stream",
          "name": "stderr",
          "text": [
            "[I 2024-12-09 00:49:48,433] Trial 46 finished with values: [0.9612814955822355, 0.8026563707839538] and parameters: {'iterations': 878, 'depth': 7, 'learning_rate': 0.04783761282580409, 'l2_leaf_reg': 0.006737536123045816, 'bagging_temperature': 0.08337873992946798, 'random_strength': 4.397731239645272, 'border_count': 236}.\n"
          ]
        },
        {
          "output_type": "stream",
          "name": "stdout",
          "text": [
            "ROC AUC: 0.9612814955822355\n",
            "PR AUC: 0.8026563707839538\n"
          ]
        },
        {
          "output_type": "stream",
          "name": "stderr",
          "text": [
            "[I 2024-12-09 00:53:18,355] Trial 47 finished with values: [0.955326458425492, 0.7760591703501679] and parameters: {'iterations': 774, 'depth': 5, 'learning_rate': 0.06525400685969639, 'l2_leaf_reg': 3.4908110247933015, 'bagging_temperature': 0.3245741369058702, 'random_strength': 6.180591204175623, 'border_count': 137}.\n"
          ]
        },
        {
          "output_type": "stream",
          "name": "stdout",
          "text": [
            "ROC AUC: 0.955326458425492\n",
            "PR AUC: 0.7760591703501679\n"
          ]
        },
        {
          "output_type": "stream",
          "name": "stderr",
          "text": [
            "[I 2024-12-09 00:54:02,167] Trial 48 finished with values: [0.8605575379521021, 0.39863332067479806] and parameters: {'iterations': 176, 'depth': 3, 'learning_rate': 0.01326700333907043, 'l2_leaf_reg': 2.256086049670873, 'bagging_temperature': 0.8732120292014017, 'random_strength': 4.885625452841248, 'border_count': 53}.\n"
          ]
        },
        {
          "output_type": "stream",
          "name": "stdout",
          "text": [
            "ROC AUC: 0.8605575379521021\n",
            "PR AUC: 0.39863332067479806\n"
          ]
        },
        {
          "output_type": "stream",
          "name": "stderr",
          "text": [
            "[I 2024-12-09 00:54:46,077] Trial 49 finished with values: [0.7709100028733026, 0.18291348708084565] and parameters: {'iterations': 147, 'depth': 4, 'learning_rate': 0.00358964153892542, 'l2_leaf_reg': 0.006846231219828737, 'bagging_temperature': 0.15211588131822706, 'random_strength': 7.5419443447312045, 'border_count': 175}.\n"
          ]
        },
        {
          "output_type": "stream",
          "name": "stdout",
          "text": [
            "ROC AUC: 0.7709100028733026\n",
            "PR AUC: 0.18291348708084565\n",
            "Best ROC AUC Trial:\n",
            "[0.9667078513937983, 0.8365462137252907]\n",
            "Best PR AUC Trial:\n",
            "[0.9669135604802722, 0.8305425966913023]\n"
          ]
        }
      ]
    },
    {
      "cell_type": "code",
      "source": [],
      "metadata": {
        "id": "5xFTHFBfOih2"
      },
      "execution_count": null,
      "outputs": []
    }
  ],
  "metadata": {
    "accelerator": "GPU",
    "colab": {
      "gpuType": "L4",
      "machine_shape": "hm",
      "provenance": []
    },
    "kernelspec": {
      "display_name": "Python 3",
      "name": "python3"
    },
    "language_info": {
      "name": "python"
    }
  },
  "nbformat": 4,
  "nbformat_minor": 0
}